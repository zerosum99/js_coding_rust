{
 "cells": [
  {
   "cell_type": "markdown",
   "id": "1840447d",
   "metadata": {},
   "source": [
    "## 1. 문자열 리터럴 "
   ]
  },
  {
   "cell_type": "markdown",
   "id": "7e5ff13f",
   "metadata": {},
   "source": [
    "## 불변 메서드\n",
    "\n",
    "- contains(): 지정한 문자열이 포함되어 있는지 확인합니다.\n",
    "- len(): 문자열의 길이를 반환합니다.\n",
    "- starts_with(): 지정한 문자열로 시작하는지 확인합니다.\n",
    "- ends_with(): 지정한 문자열로 끝나는지 확인합니다.\n",
    "- split(): 지정한 구분자로 문자열을 분할하고, Iterator 타입의 구분자로 구분된 부분 문자열을 반환합니다.\n",
    "- trim(): 문자열 양쪽 끝에 있는 공백 문자를 제거합니다.\n",
    "- to_lowercase(): 모든 문자를 소문자로 변환합니다.\n",
    "- to_uppercase(): 모든 문자를 대문자로 변환합니다."
   ]
  },
  {
   "cell_type": "code",
   "execution_count": 2,
   "id": "d8adb809",
   "metadata": {},
   "outputs": [],
   "source": [
    "fn main() {\n",
    "    let s = \"Hello, Rust!\";\n",
    "\n",
    "    // 불변 메서드 사용\n",
    "    println!(\"s.contains(\\\"Rust\\\") = {}\", s.contains(\"Rust\"));\n",
    "    println!(\"s.len() = {}\", s.len());\n",
    "    println!(\"s.starts_with(\\\"Hello\\\") = {}\", s.starts_with(\"Hello\"));\n",
    "    println!(\"s.ends_with(\\\"!\\\") = {}\", s.ends_with(\"!\"));\n",
    "\n",
    "    let mut iter = s.split(\",\");\n",
    "    println!(\"iter.next() = {:?}\", iter.next());\n",
    "    println!(\"iter.next() = {:?}\", iter.next());\n",
    "\n",
    "    let s_trimmed = s.trim();\n",
    "    println!(\"s_trimmed = {}\", s_trimmed);\n",
    "\n",
    "    let s_lower = s.to_lowercase();\n",
    "    println!(\"s_lower = {}\", s_lower);\n",
    "\n",
    "    let s_upper = s.to_uppercase();\n",
    "    println!(\"s_upper = {}\", s_upper);\n",
    "}"
   ]
  },
  {
   "cell_type": "code",
   "execution_count": 3,
   "id": "ac58b4e3",
   "metadata": {},
   "outputs": [
    {
     "name": "stdout",
     "output_type": "stream",
     "text": [
      "s.contains(\"Rust\") = true\n",
      "s.len() = 12\n",
      "s.starts_with(\"Hello\") = true\n",
      "s.ends_with(\"!\") = true\n",
      "iter.next() = Some(\"Hello\")\n",
      "iter.next() = Some(\" Rust!\")\n",
      "s_trimmed = Hello, Rust!\n",
      "s_lower = hello, rust!\n",
      "s_upper = HELLO, RUST!\n"
     ]
    }
   ],
   "source": [
    "main();"
   ]
  },
  {
   "cell_type": "code",
   "execution_count": null,
   "id": "ea5464b5",
   "metadata": {},
   "outputs": [],
   "source": []
  },
  {
   "cell_type": "markdown",
   "id": "fccc7232",
   "metadata": {},
   "source": [
    "## 2. String 문자열 "
   ]
  },
  {
   "cell_type": "markdown",
   "id": "e5c2d3b9",
   "metadata": {},
   "source": [
    "## 불변 메서드\n",
    "\n",
    "- as_str(): &str 타입으로 변환합니다.\n",
    "- capacity(): 내부 버퍼의 용량을 반환합니다.\n",
    "- chars(): Iterator 타입의 char 값으로 구성된 문자열의 각 문자를 반복합니다.\n",
    "- contains(): 지정한 문자열이 포함되어 있는지 확인합니다.\n",
    "- ends_with(): 지정한 문자열로 끝나는지 확인합니다.\n",
    "- eq(): 두 문자열이 같은지 확인합니다.\n",
    "- is_empty(): 문자열이 비어 있는지 확인합니다.\n",
    "- len(): 문자열의 길이를 반환합니다.\n",
    "- lines(): Iterator 타입의 각 라인을 반환합니다.\n",
    "- replace(): 지정한 문자열을 다른 문자열로 바꿉니다.\n",
    "- split(): 지정한 구분자로 문자열을 분할하고, Iterator 타입의 구분자로 구분된 부분 문자열을 반환합니다.\n",
    "- starts_with(): 지정한 문자열로 시작하는지 확인합니다.\n",
    "- trim(): 문자열 양쪽 끝에 있는 공백 문자를 제거합니다.\n",
    "- to_lowercase(): 모든 문자를 소문자로 변환합니다.\n",
    "- to_uppercase(): 모든 문자를 대문자로 변환합니다."
   ]
  },
  {
   "cell_type": "code",
   "execution_count": 4,
   "id": "2bf8d98c",
   "metadata": {},
   "outputs": [],
   "source": [
    "fn main() {\n",
    "    let mut s = String::from(\"Hello, Rust!\");\n",
    "\n",
    "    // 불변 메서드 사용\n",
    "    println!(\"s.as_str() = {}\", s.as_str());\n",
    "    println!(\"s.capacity() = {}\", s.capacity());\n",
    "\n",
    "    for c in s.chars() {\n",
    "        println!(\"c = {}\", c);\n",
    "    }\n",
    "\n",
    "    println!(\"s.contains(\\\"Rust\\\") = {}\", s.contains(\"Rust\"));\n",
    "    println!(\"s.ends_with(\\\"!\\\") = {}\", s.ends_with(\"!\"));\n",
    "    println!(\"s.eq(\\\"Hello, Rust!\\\") = {}\", s.eq(\"Hello, Rust!\"));\n",
    "    println!(\"s.is_empty() = {}\", s.is_empty());\n",
    "    println!(\"s.len() = {}\", s.len());\n",
    "\n",
    "    for line in s.lines() {\n",
    "        println!(\"line = {}\", line);\n",
    "    }\n",
    "\n",
    "    let s_replaced = s.replace(\"Rust\", \"World\");\n",
    "    println!(\"s_replaced = {}\", s_replaced);\n",
    "\n",
    "    let mut iter = s.split(\",\");\n",
    "    println!(\"iter.next() = {:?}\", iter.next());\n",
    "    println!(\"iter.next() = {:?}\", iter.next());\n",
    "\n",
    "    let s_trimmed = s.trim();\n",
    "    println!(\"s_trimmed = {}\", s_trimmed);\n",
    "\n",
    "    let s_lower = s.to_lowercase();\n",
    "    println!(\"s_lower = {}\", s_lower);\n",
    "\n",
    "    let s_upper = s.to_uppercase();\n",
    "    println!(\"s_upper = {}\", s_upper);\n",
    "}"
   ]
  },
  {
   "cell_type": "code",
   "execution_count": 5,
   "id": "56c72f27",
   "metadata": {},
   "outputs": [
    {
     "name": "stdout",
     "output_type": "stream",
     "text": [
      "s.as_str() = Hello, Rust!\n",
      "s.capacity() = 12\n",
      "c = H\n",
      "c = e\n",
      "c = l\n",
      "c = l\n",
      "c = o\n",
      "c = ,\n",
      "c =  \n",
      "c = R\n",
      "c = u\n",
      "c = s\n",
      "c = t\n",
      "c = !\n",
      "s.contains(\"Rust\") = true\n",
      "s.ends_with(\"!\") = true\n",
      "s.eq(\"Hello, Rust!\") = true\n",
      "s.is_empty() = false\n",
      "s.len() = 12\n",
      "line = Hello, Rust!\n",
      "s_replaced = Hello, World!\n",
      "iter.next() = Some(\"Hello\")\n",
      "iter.next() = Some(\" Rust!\")\n",
      "s_trimmed = Hello, Rust!\n",
      "s_lower = hello, rust!\n",
      "s_upper = HELLO, RUST!\n"
     ]
    }
   ],
   "source": [
    "main();"
   ]
  },
  {
   "cell_type": "markdown",
   "id": "58746829",
   "metadata": {},
   "source": [
    "## 가변 메서드\n",
    "\n",
    "- push(): 문자를 추가합니다.\n",
    "- push_str(): 문자열을 추가합니다.\n",
    "- insert(): 문자를 삽입합니다.\n",
    "- remove(): 지정한 위치의 문자를 제거합니다.\n",
    "- truncate(): 문자열의 길이를 지정한 위치까지 줄입니다.\n",
    "- clear(): 문자열을 비웁니다.\n",
    "`"
   ]
  },
  {
   "cell_type": "code",
   "execution_count": 6,
   "id": "f40e4cd5",
   "metadata": {},
   "outputs": [],
   "source": [
    "fn main() {\n",
    "    let mut s = String::from(\"Hello\");\n",
    "\n",
    "    // 가변 메서드 사용\n",
    "    s.push(',');\n",
    "    println!(\"s = {}\", s);\n",
    "\n",
    "    s.push_str(\" world!\");\n",
    "    println!(\"s = {}\", s);\n",
    "\n",
    "    s.insert(5, 'R');\n",
    "    println!(\"s = {}\", s);\n",
    "\n",
    "    s.remove(11);\n",
    "    println!(\"s = {}\", s);\n",
    "\n",
    "    s.truncate(11);\n",
    "    println!(\"s = {}\", s);\n",
    "\n",
    "    s.clear();\n",
    "    println!(\"s = {}\", s);\n",
    "}"
   ]
  },
  {
   "cell_type": "code",
   "execution_count": 7,
   "id": "0ba42ab2",
   "metadata": {},
   "outputs": [
    {
     "name": "stdout",
     "output_type": "stream",
     "text": [
      "s = Hello,\n",
      "s = Hello, world!\n",
      "s = HelloR, world!\n",
      "s = HelloR, word!\n",
      "s = HelloR, wor\n",
      "s = \n"
     ]
    }
   ],
   "source": [
    "main();"
   ]
  },
  {
   "cell_type": "markdown",
   "id": "2ab9b519-ff3c-4120-8606-8c1622f3d3ec",
   "metadata": {},
   "source": [
    "## 자동 Deref Coercion(역참조 강제 변환)\n",
    "\n",
    "### String과 &str의 관계:\n",
    "\n",
    "- String**은 힙에 저장된 가변적인 문자열을 나타내며, **&str**은 주로 불변 참조를 통해 문자열을 읽는 타입입니다.\n",
    "\n",
    "- String**은 메모리와 데이터를 소유하는 타입이고, **&str**은 String과 같은 문자열에 대한 참조이므로, 메모리 관점에서 &str는 String의 불변 참조로 사용할 수 있습니다.\n",
    "\n",
    "- 즉, String은 데이터를 소유하고, &str은 그 데이터에 대한 참조만을 제공하는 방식으로 서로 연관됩니다."
   ]
  },
  {
   "cell_type": "markdown",
   "id": "d48c1f19-114f-41c9-a081-d130ab4ea025",
   "metadata": {},
   "source": [
    "### len 메서드 "
   ]
  },
  {
   "cell_type": "code",
   "execution_count": 9,
   "id": "dd1f2782-7758-41a4-9d6d-f9988dff992a",
   "metadata": {},
   "outputs": [
    {
     "name": "stdout",
     "output_type": "stream",
     "text": [
      "Length: 12\n"
     ]
    }
   ],
   "source": [
    "fn main() {\n",
    "    let s = String::from(\"Hello, Rust!\");\n",
    "    // len()은 &str에서 제공되지만, String에서도 사용 가능\n",
    "    let length = s.len();  \n",
    "    println!(\"Length: {}\", length);  // Output: Length: 12\n",
    "}\n",
    "\n",
    "main();"
   ]
  },
  {
   "cell_type": "markdown",
   "id": "1c42909f-85b2-40ea-b038-4dfcee319c03",
   "metadata": {},
   "source": [
    "### contains 메서드 "
   ]
  },
  {
   "cell_type": "code",
   "execution_count": 10,
   "id": "85f90d9b-8951-4be3-a2e0-ea8356e8778a",
   "metadata": {},
   "outputs": [
    {
     "name": "stdout",
     "output_type": "stream",
     "text": [
      "Found 'Rust'!\n"
     ]
    }
   ],
   "source": [
    "fn main() {\n",
    "    let s = String::from(\"Hello, Rust!\");\n",
    "    // contains()는 &str에서 제공됨\n",
    "    if s.contains(\"Rust\") {\n",
    "        println!(\"Found 'Rust'!\");\n",
    "    }\n",
    "}\n",
    "\n",
    "main();"
   ]
  },
  {
   "cell_type": "markdown",
   "id": "6bc686e4-f0d7-47e6-8438-c57e1fbfc827",
   "metadata": {},
   "source": [
    "### starts_with() 메서드 사용\n",
    "\n",
    "- starts_with()는 문자열이 특정 접두사로 시작하는지 확인하는 &str 메서드입니다. \n",
    "- 이 메서드도 자동 Deref Coercion을 통해 String에서 호출할 수 있습니다."
   ]
  },
  {
   "cell_type": "code",
   "execution_count": 11,
   "id": "dcd70c90-d22a-492c-a520-aac46d5be8d5",
   "metadata": {},
   "outputs": [
    {
     "name": "stdout",
     "output_type": "stream",
     "text": [
      "The string starts with 'Hello'\n"
     ]
    }
   ],
   "source": [
    "fn main() {\n",
    "    let s = String::from(\"Hello, Rust!\");\n",
    "    // starts_with()는 &str에서 제공됨\n",
    "    if s.starts_with(\"Hello\") {\n",
    "        println!(\"The string starts with 'Hello'\");\n",
    "    }\n",
    "}\n",
    "\n",
    "main();"
   ]
  },
  {
   "cell_type": "markdown",
   "id": "429dbd80-3bb5-48d8-a224-984136607628",
   "metadata": {},
   "source": [
    "### 슬라이스를 통한 접근 (&[usize])\n",
    "- &str은 슬라이스로 취급되기 때문에, 슬라이스 문법도 자동 변환을 통해 사용할 수 있습니다. \n",
    "- 아래 예시는 String에서 슬라이스를 취해 부분 문자열을 얻는 예제입니다."
   ]
  },
  {
   "cell_type": "code",
   "execution_count": 12,
   "id": "6d8f647c-04cf-426d-856d-45d4e9111111",
   "metadata": {},
   "outputs": [
    {
     "name": "stdout",
     "output_type": "stream",
     "text": [
      "Part of the string: Hello\n"
     ]
    }
   ],
   "source": [
    "fn main() {\n",
    "    let s = String::from(\"Hello, Rust!\");\n",
    "    // 슬라이스를 사용하여 문자열의 부분을 가져옴\n",
    "    let part: &str = &s[0..5];\n",
    "    println!(\"Part of the string: {}\", part);  // Output: \"Hello\"\n",
    "}\n",
    "main();"
   ]
  },
  {
   "cell_type": "code",
   "execution_count": null,
   "id": "585ebcf5-66bd-49af-947d-11e8338c4cbd",
   "metadata": {},
   "outputs": [],
   "source": []
  },
  {
   "cell_type": "markdown",
   "id": "3986c444-9c10-4051-a100-1220967dbc0b",
   "metadata": {},
   "source": [
    "### 명시적인 Deref 사용\n",
    "- 자동 Deref Coercion이 아닌, 명시적으로 Deref 연산을 사용해 변환할 수도 있습니다."
   ]
  },
  {
   "cell_type": "code",
   "execution_count": 13,
   "id": "b8b51898-33fc-4c1c-98a9-f939c6be5536",
   "metadata": {},
   "outputs": [
    {
     "name": "stdout",
     "output_type": "stream",
     "text": [
      "Explicit Deref: Hello, Rust!\n"
     ]
    }
   ],
   "source": [
    "fn main() {\n",
    "    let s = String::from(\"Hello, Rust!\");\n",
    "    // 명시적으로 &str로 변환\n",
    "    let s_ref: &str = &s;\n",
    "    println!(\"Explicit Deref: {}\", s_ref);\n",
    "}\n",
    "main();"
   ]
  },
  {
   "cell_type": "code",
   "execution_count": null,
   "id": "8936445f-4d30-42b0-8d1d-d8ff27fdc21b",
   "metadata": {},
   "outputs": [],
   "source": []
  },
  {
   "cell_type": "markdown",
   "id": "25d0c542-5dd8-44ff-89db-93d15923e114",
   "metadata": {},
   "source": [
    "### to_uppercase()와 같은 메서드 사용\n",
    "- Rust의 문자열 변환 메서드도 자동 Deref Coercion을 통해 쉽게 사용할 수 있습니다."
   ]
  },
  {
   "cell_type": "code",
   "execution_count": 15,
   "id": "2f950a95-cdbf-48ab-8819-b3be333f0b6c",
   "metadata": {},
   "outputs": [
    {
     "name": "stdout",
     "output_type": "stream",
     "text": [
      "Uppercase: HELLO, RUST!\n"
     ]
    }
   ],
   "source": [
    "fn main() {\n",
    "    let s = String::from(\"hello, rust!\");\n",
    "    let upper = s.to_uppercase();  // to_uppercase()는 String에서 사용 가능\n",
    "    println!(\"Uppercase: {}\", upper);  // Output: HELLO, RUST!\n",
    "}\n",
    "main();"
   ]
  },
  {
   "cell_type": "code",
   "execution_count": null,
   "id": "b05bca0d-9683-4df7-9357-35f2a6d525f6",
   "metadata": {},
   "outputs": [],
   "source": []
  },
  {
   "cell_type": "markdown",
   "id": "05643d63-d84b-4acb-a393-1a925133c07c",
   "metadata": {},
   "source": [
    "### 문자열 비교\n",
    "- &str에 대해 정의된 == 연산자를 통해 문자열 비교도 가능합니다."
   ]
  },
  {
   "cell_type": "code",
   "execution_count": 16,
   "id": "975e49b8-b52b-487c-b418-0aed50cf77e0",
   "metadata": {},
   "outputs": [
    {
     "name": "stdout",
     "output_type": "stream",
     "text": [
      "The strings are equal!\n"
     ]
    }
   ],
   "source": [
    "fn main() {\n",
    "    let s = String::from(\"Rust\");\n",
    "    if s == \"Rust\" {  // \"Rust\"는 &str, s는 String\n",
    "        println!(\"The strings are equal!\");\n",
    "    }\n",
    "}\n",
    "main();"
   ]
  },
  {
   "cell_type": "code",
   "execution_count": null,
   "id": "98f52973-f1c3-4854-b3d8-94a203d7db8c",
   "metadata": {},
   "outputs": [],
   "source": []
  },
  {
   "cell_type": "code",
   "execution_count": null,
   "id": "60f835a0-48fe-4c9e-b93e-8ca21c5cbd62",
   "metadata": {},
   "outputs": [],
   "source": []
  }
 ],
 "metadata": {
  "kernelspec": {
   "display_name": "Rust",
   "language": "rust",
   "name": "rust"
  },
  "language_info": {
   "codemirror_mode": "rust",
   "file_extension": ".rs",
   "mimetype": "text/rust",
   "name": "Rust",
   "pygment_lexer": "rust",
   "version": ""
  }
 },
 "nbformat": 4,
 "nbformat_minor": 5
}
