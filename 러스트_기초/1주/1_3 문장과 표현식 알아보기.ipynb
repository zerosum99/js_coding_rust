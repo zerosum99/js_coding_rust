{
 "cells": [
  {
   "cell_type": "code",
   "execution_count": null,
   "id": "7da33e1a",
   "metadata": {},
   "outputs": [],
   "source": []
  },
  {
   "cell_type": "markdown",
   "id": "cb06dff9",
   "metadata": {},
   "source": [
    "# 문장과 표현식 \n",
    "\n",
    "- 러스트는 표현식을 많이 사용하는 언어이다.\n",
    "\n",
    "\n",
    "### 표현식 (Expression): \n",
    "- 값을 평가하고 결과를 반환하는 코드 구문입니다. \n",
    "- 예를 들어, 1 + 2, x * 3, function_call(), if-else 표현식 등이 있습니다. \n",
    "- 표현식은 값을 생성하고 다른 표현식이나 문장에서 사용될 수 있습니다. \n",
    "- 또한, Rust에서 대부분의 구문은 표현식이기도 합니다. \n",
    "- 예를 들어, let 문은 할당된 값 자체로 표현식을 반환합니다.\n",
    "\n",
    "### 문장 (Statement): \n",
    "- 프로그램의 동작을 기술하는 코드 구문입니다. \n",
    "- 일련의 작업을 수행하고 부수 효과를 가지지만, 값을 반환하지는 않습니다. \n",
    "- 예를 들어, let 문은 변수를 선언하고 초기화하는 문장입니다. \n",
    "- 다른 예로는 if, while, for 루프, 함수 정의 등이 있습니다. \n",
    "- 문장은 일반적으로 블록 {} 내에 그룹화됩니다.\n"
   ]
  },
  {
   "cell_type": "markdown",
   "id": "27349a23",
   "metadata": {},
   "source": [
    "## 1. 표현식 \n",
    "\n",
    "- 표현식의 결과는 값으로 평가된다. \n",
    "- 블럭 구문도 표현식이다. "
   ]
  },
  {
   "cell_type": "markdown",
   "id": "e6c31113",
   "metadata": {},
   "source": [
    "### 리터럴 값도 표현식 "
   ]
  },
  {
   "cell_type": "code",
   "execution_count": 2,
   "id": "36f92ee0",
   "metadata": {},
   "outputs": [
    {
     "data": {
      "text/plain": [
       "100"
      ]
     },
     "execution_count": 2,
     "metadata": {},
     "output_type": "execute_result"
    }
   ],
   "source": [
    "100_u8"
   ]
  },
  {
   "cell_type": "markdown",
   "id": "02c2819c",
   "metadata": {},
   "source": [
    "### 블럭구문도 표현식 "
   ]
  },
  {
   "cell_type": "code",
   "execution_count": 3,
   "id": "cd2949cd",
   "metadata": {},
   "outputs": [
    {
     "data": {
      "text/plain": [
       "100"
      ]
     },
     "execution_count": 3,
     "metadata": {},
     "output_type": "execute_result"
    }
   ],
   "source": [
    "{ 100 }"
   ]
  },
  {
   "cell_type": "markdown",
   "id": "1ba833a7",
   "metadata": {},
   "source": [
    "### 표현식을 변수에 할당하면 문장이다 "
   ]
  },
  {
   "cell_type": "code",
   "execution_count": 4,
   "id": "217fd713",
   "metadata": {},
   "outputs": [],
   "source": [
    "let x = {100};"
   ]
  },
  {
   "cell_type": "code",
   "execution_count": 5,
   "id": "ac75c7b6",
   "metadata": {},
   "outputs": [
    {
     "data": {
      "text/plain": [
       "100"
      ]
     },
     "execution_count": 5,
     "metadata": {},
     "output_type": "execute_result"
    }
   ],
   "source": [
    "x"
   ]
  },
  {
   "cell_type": "markdown",
   "id": "cd5fef5c",
   "metadata": {},
   "source": [
    "## 함수 내부에 표현식을 작성"
   ]
  },
  {
   "cell_type": "code",
   "execution_count": 6,
   "id": "e471a468",
   "metadata": {},
   "outputs": [
    {
     "name": "stdout",
     "output_type": "stream",
     "text": [
      "x is 5\n",
      "y is 155\n",
      "z is ()\n"
     ]
    }
   ],
   "source": [
    "fn main() {\n",
    "    let x = 5u32;                          // 변수에 값 할당 \n",
    "\n",
    "    let y = {                      \n",
    "        let x_squared = x * x;             // 상위 지역변수를 사용해서 블럭 지역변수에 값 할당 \n",
    "        let x_cube = x_squared * x;\n",
    "        x_cube + x_squared + x             // 블럭의 결과를 변수에 할당 \n",
    "    };\n",
    "\n",
    "    let z = {\n",
    "        2 * x;                             // 표현식 문장이라서 변수에는 () 할당\n",
    "    };\n",
    "\n",
    "    println!(\"x is {:}\", x);\n",
    "    println!(\"y is {:}\", y);\n",
    "    println!(\"z is {:?}\", z);\n",
    "}\n",
    "\n",
    "main();"
   ]
  },
  {
   "cell_type": "code",
   "execution_count": null,
   "id": "5c29a93e",
   "metadata": {},
   "outputs": [],
   "source": []
  },
  {
   "cell_type": "markdown",
   "id": "dd7bba3f",
   "metadata": {},
   "source": [
    "## 블럭구문에 문장을 사용할 경우 예외발생\n",
    "\n",
    "- 블럭구문을 종료했는데 아무런 값이 없는 경우 유닛타입을 반환"
   ]
  },
  {
   "cell_type": "markdown",
   "id": "a7f00c33",
   "metadata": {},
   "source": [
    "### 블럭구문은 아무런 값이 없는 경우나 문장만 있는 경우 유닛타입을 반환"
   ]
  },
  {
   "cell_type": "code",
   "execution_count": 7,
   "id": "18eda5c9",
   "metadata": {},
   "outputs": [
    {
     "data": {
      "text/plain": [
       "()"
      ]
     },
     "execution_count": 7,
     "metadata": {},
     "output_type": "execute_result"
    }
   ],
   "source": [
    "{}"
   ]
  },
  {
   "cell_type": "markdown",
   "id": "760306cb",
   "metadata": {},
   "source": [
    "### 블럭구문에 문장만 있으면 유닛타입만 변수에 할당됨"
   ]
  },
  {
   "cell_type": "code",
   "execution_count": 10,
   "id": "95ae3520-9d57-4540-ae7c-6b625f90ba9a",
   "metadata": {},
   "outputs": [],
   "source": [
    "let u1 = { let x = 100;};"
   ]
  },
  {
   "cell_type": "code",
   "execution_count": 11,
   "id": "4e2d722f-ac7b-49d9-a66f-0d49bfd0e856",
   "metadata": {},
   "outputs": [
    {
     "data": {
      "text/plain": [
       "()"
      ]
     },
     "execution_count": 11,
     "metadata": {},
     "output_type": "execute_result"
    }
   ],
   "source": [
    "u1"
   ]
  },
  {
   "cell_type": "code",
   "execution_count": 12,
   "id": "32cb0f16",
   "metadata": {},
   "outputs": [],
   "source": [
    "let u2 = { let x = 100; x};"
   ]
  },
  {
   "cell_type": "code",
   "execution_count": 13,
   "id": "43110cb3",
   "metadata": {},
   "outputs": [
    {
     "data": {
      "text/plain": [
       "100"
      ]
     },
     "execution_count": 13,
     "metadata": {},
     "output_type": "execute_result"
    }
   ],
   "source": [
    "u2"
   ]
  },
  {
   "cell_type": "markdown",
   "id": "9569ae0c",
   "metadata": {},
   "source": [
    "### 블럭표현식 다른 타입일 경우 예외 \n",
    "- v 변수는 값이 할당되므로 타입 추론이 됨"
   ]
  },
  {
   "cell_type": "code",
   "execution_count": 9,
   "id": "ec37e2d0",
   "metadata": {},
   "outputs": [
    {
     "ename": "Error",
     "evalue": "mismatched types",
     "output_type": "error",
     "traceback": [
      "\u001b[31m[E0308] Error:\u001b[0m mismatched types",
      "   \u001b[38;5;246m╭\u001b[0m\u001b[38;5;246m─\u001b[0m\u001b[38;5;246m[\u001b[0mcommand_9:1:1\u001b[38;5;246m]\u001b[0m",
      "   \u001b[38;5;246m│\u001b[0m",
      " \u001b[38;5;246m8 │\u001b[0m \u001b[38;5;249m \u001b[0m\u001b[38;5;249m \u001b[0m\u001b[38;5;249m \u001b[0m\u001b[38;5;249ma\u001b[0m\u001b[38;5;249ms\u001b[0m\u001b[38;5;249ms\u001b[0m\u001b[38;5;249me\u001b[0m\u001b[38;5;249mr\u001b[0m\u001b[38;5;249mt\u001b[0m\u001b[38;5;249m_\u001b[0m\u001b[38;5;249me\u001b[0m\u001b[38;5;249mq\u001b[0m\u001b[38;5;249m!\u001b[0m\u001b[38;5;249m(\u001b[0m\u001b[38;5;249mv\u001b[0m\u001b[38;5;249m,\u001b[0m\u001b[38;5;249m \u001b[0m\u001b[38;5;54m3\u001b[0m\u001b[38;5;249m)\u001b[0m\u001b[38;5;249m;\u001b[0m",
      " \u001b[38;5;246m  ·\u001b[0m                  \u001b[38;5;54m┬\u001b[0m  ",
      " \u001b[38;5;246m  ·\u001b[0m                  \u001b[38;5;54m╰\u001b[0m\u001b[38;5;54m─\u001b[0m\u001b[38;5;54m─\u001b[0m expected `()`, found integer",
      "\u001b[38;5;246m───╯\u001b[0m"
     ]
    }
   ],
   "source": [
    "fn main() {\n",
    "   let v = {\n",
    "       let mut x = 1;\n",
    "       x += 2;\n",
    "       \n",
    "   };\n",
    "\n",
    "   assert_eq!(v, 3);\n",
    "\n",
    "   println!(\"Success! \");\n",
    "}\n",
    "main();"
   ]
  },
  {
   "cell_type": "markdown",
   "id": "42341f8d",
   "metadata": {},
   "source": [
    "### 위의 문제를 해결하려면 반환값을 표시해야 함 "
   ]
  },
  {
   "cell_type": "code",
   "execution_count": 10,
   "id": "deae12ce",
   "metadata": {},
   "outputs": [
    {
     "name": "stdout",
     "output_type": "stream",
     "text": [
      "Success! : 3 \n"
     ]
    }
   ],
   "source": [
    "fn main() {\n",
    "   let v = {\n",
    "       let mut x = 1;\n",
    "       x += 2;\n",
    "       x\n",
    "   };\n",
    "\n",
    "   assert_eq!(v, 3);\n",
    "\n",
    "   println!(\"Success! : {} \",v);\n",
    "}\n",
    "main();"
   ]
  },
  {
   "cell_type": "markdown",
   "id": "eee6b96f",
   "metadata": {},
   "source": [
    "## 2. 문장 \n",
    "\n",
    "- 변수 선언: let 문을 사용하여 변수를 선언하고 값을 할당합니다. \n",
    "    예: let x = 42;\n",
    "- 표현식 문장: 표현식을 문장으로 사용하는 것도 가능합니다.\n",
    "        이때, 표현식을 평가한 결과는 무시됩니다. 예: x + 1;\n",
    "- 블록: 중괄호({})로 묶인 코드 블록은 하나의 문장으로 간주되면 마지막 문장이 표현식이 아니여야 한다. \n",
    "  블록 내에서 여러 문장을 그룹화할 수 있습니다.\n",
    "- 조건문: if 문을 사용하여 조건에 따라 코드 블록을 실행합니다. \n",
    "   예: if condition { /* 코드 블록 */ } else { /* 코드 블록 */ }\n",
    "- 반복문: while 루프나 for 루프를 사용하여 반복적인 작업을 수행합니다.\n",
    "- 함수 정의: 함수를 정의하는 것도 문장입니다. \n",
    "  예: fn add(x: i32, y: i32) -> i32 { x + y }"
   ]
  },
  {
   "cell_type": "code",
   "execution_count": null,
   "id": "03633be2",
   "metadata": {},
   "outputs": [],
   "source": []
  },
  {
   "cell_type": "markdown",
   "id": "fd78df3a",
   "metadata": {},
   "source": [
    "## 2-1 if 표현식과 if문"
   ]
  },
  {
   "cell_type": "markdown",
   "id": "bc352e94",
   "metadata": {},
   "source": [
    "## if 표현식 \n",
    "\n",
    "- if 내의 블록 내에 표현식이 사용되면 값을 반환 처리함"
   ]
  },
  {
   "cell_type": "code",
   "execution_count": 11,
   "id": "4ba43d92",
   "metadata": {},
   "outputs": [
    {
     "ename": "Error",
     "evalue": "`if` and `else` have incompatible types",
     "output_type": "error",
     "traceback": [
      "    100",
      "\u001b[91m    ^^^\u001b[0m \u001b[94mexpected `&str`, found integer\u001b[0m",
      "    \"x는 5보다 큽니다\"",
      "\u001b[91m    ^^^^^^^^^^^^\u001b[0m \u001b[94mexpected because of this\u001b[0m",
      "let result = if x > 5 {",
      "    \"x는 5보다 큽니다\"",
      "} else {",
      "    100",
      "};",
      "\u001b[91m             \u001b[0m \u001b[94m`if` and `else` have incompatible types\u001b[0m",
      "`if` and `else` have incompatible types"
     ]
    }
   ],
   "source": [
    "let x = 10;\n",
    "let result = if x > 5 {\n",
    "    \"x는 5보다 큽니다\"\n",
    "} else {\n",
    "    \"x는 5 이하입니다\"\n",
    "};\n",
    "\n",
    "println!(\"{}\", result);"
   ]
  },
  {
   "cell_type": "code",
   "execution_count": null,
   "id": "16d0ad1e",
   "metadata": {},
   "outputs": [],
   "source": []
  },
  {
   "cell_type": "markdown",
   "id": "6311f985",
   "metadata": {},
   "source": [
    "## if 문 \n",
    "\n",
    "-  if 내의 블럭 처리결과가 문장이면 전체를 문장처럼 처리 "
   ]
  },
  {
   "cell_type": "code",
   "execution_count": 16,
   "id": "6cb1740a",
   "metadata": {},
   "outputs": [
    {
     "name": "stdout",
     "output_type": "stream",
     "text": [
      "x는 5보다 큽니다\n"
     ]
    },
    {
     "data": {
      "text/plain": [
       "()"
      ]
     },
     "execution_count": 16,
     "metadata": {},
     "output_type": "execute_result"
    }
   ],
   "source": [
    "let x = 10;\n",
    "\n",
    "if x > 5 {\n",
    "    println!(\"x는 5보다 큽니다\");\n",
    "} else {\n",
    "    println!(\"x는 5보다 작거나 같습니다\");\n",
    "}"
   ]
  },
  {
   "cell_type": "code",
   "execution_count": null,
   "id": "237ccbcc",
   "metadata": {},
   "outputs": [],
   "source": []
  }
 ],
 "metadata": {
  "kernelspec": {
   "display_name": "Rust",
   "language": "rust",
   "name": "rust"
  },
  "language_info": {
   "codemirror_mode": "rust",
   "file_extension": ".rs",
   "mimetype": "text/rust",
   "name": "Rust",
   "pygment_lexer": "rust",
   "version": ""
  }
 },
 "nbformat": 4,
 "nbformat_minor": 5
}
