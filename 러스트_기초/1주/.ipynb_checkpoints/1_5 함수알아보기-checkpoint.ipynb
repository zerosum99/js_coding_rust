{
 "cells": [
  {
   "cell_type": "code",
   "execution_count": null,
   "id": "6a6411b5",
   "metadata": {},
   "outputs": [],
   "source": []
  },
  {
   "cell_type": "markdown",
   "id": "ab7207bc",
   "metadata": {},
   "source": [
    "## 1. 함수 이해하기 "
   ]
  },
  {
   "cell_type": "markdown",
   "id": "b4814d42",
   "metadata": {},
   "source": [
    "## 1-1 함수 정의하기\n",
    "\n",
    "### 예약어 fn 을 사용 하고 매개변수에 자료형을 반드시 지정\n",
    "\n",
    "   fn 함수이름(매개변수1: 자료형1, 매개변수2: 자료형2) {\n",
    "       // 함수의 실행 코드\n",
    "   }\n",
    "   \n",
    "### 함수의 본문은 블럭 내부에 코드를 작성한다. \n",
    "\n",
    "### 함수의 반환은 기본으로 최종 값을 반환, 중간에 종료가 필요하면 return을 사용\n",
    "   \n",
    "### 함수의 반환자료형은 아무것도 반환이 없을 때만 생략가능\n",
    "- 하지만 유닛타입으로 반환한다.  "
   ]
  },
  {
   "cell_type": "code",
   "execution_count": 2,
   "id": "cd0fadc4",
   "metadata": {},
   "outputs": [],
   "source": [
    "// 공개여부(pub) 함수예약어 fn + 함수명 + ( + 매개변수 : 매개변수 자료형,..) + -> 반환자료형  {\n",
    "//    본문  ... }\n",
    "\n",
    "pub fn add(x: i32, y:i32) -> i32 {\n",
    "    x+y\n",
    "}"
   ]
  },
  {
   "cell_type": "markdown",
   "id": "2b47851d",
   "metadata": {},
   "source": [
    "## 1-2 함수 호출하기 \n",
    "\n",
    "- 함수 매개변수에 맞는 인자를 전달해서 호출한다, "
   ]
  },
  {
   "cell_type": "code",
   "execution_count": 3,
   "id": "edf6d0bb",
   "metadata": {},
   "outputs": [],
   "source": [
    "// 함수를 호출할 때는 매개변수의 개수와 인자의 개수가 맞아야 하고\n",
    "// 인자는 매개변수의 자료형으로 만든 인스턴스\n",
    "\n",
    "let a = add(10,20);"
   ]
  },
  {
   "cell_type": "code",
   "execution_count": 4,
   "id": "501a4687",
   "metadata": {},
   "outputs": [
    {
     "data": {
      "text/plain": [
       "30"
      ]
     },
     "execution_count": 4,
     "metadata": {},
     "output_type": "execute_result"
    }
   ],
   "source": [
    "a"
   ]
  },
  {
   "cell_type": "code",
   "execution_count": null,
   "id": "fb093478",
   "metadata": {},
   "outputs": [],
   "source": []
  },
  {
   "cell_type": "markdown",
   "id": "d8c96bc7",
   "metadata": {},
   "source": [
    "## 1-3 매개변수 "
   ]
  },
  {
   "cell_type": "markdown",
   "id": "4dcf325d",
   "metadata": {},
   "source": [
    "### 매개변수는 불변성이 기본: \n",
    "\n",
    "- 기본적으로 매개변수는 불변(immutable)합니다. \n",
    "- 함수 내에서 매개변수에 대한 수정을 시도하면 컴파일 오류가 발생합니다. \n",
    "- 이는 Rust의 안전성과 스레드 안전성을 유지하는 데 도움이 됩니다. \n",
    "-  만약 매개변수를 수정하려면 mut 키워드를 사용하여 가변성(mutability)을 명시해야 합니다."
   ]
  },
  {
   "cell_type": "code",
   "execution_count": 5,
   "id": "a6d3c663",
   "metadata": {},
   "outputs": [
    {
     "name": "stdout",
     "output_type": "stream",
     "text": [
      "Hello modified\n"
     ]
    }
   ],
   "source": [
    "\n",
    "// 매개변수의 자료형이 변경가능한 참조를 사용 \n",
    "fn process_data(data: &mut String) {\n",
    "    // 매개변수에 대한 수정\n",
    "    data.push_str(\" modified\");\n",
    "}\n",
    "\n",
    "fn main() {\n",
    "    let mut message = String::from(\"Hello\");\n",
    "    \n",
    "    // 인자로 전달할 때도 이 변수에 참조를 명기해야 함 \n",
    "    // 매개변수와 동일한 참조표시를 작성함 \n",
    "    process_data(&mut message);\n",
    "    \n",
    "    println!(\"{}\", message);  // \"Hello modified\"\n",
    "}\n",
    "\n",
    "main();"
   ]
  },
  {
   "cell_type": "code",
   "execution_count": null,
   "id": "62b5fd6c",
   "metadata": {},
   "outputs": [],
   "source": []
  },
  {
   "cell_type": "markdown",
   "id": "369e0bd4",
   "metadata": {},
   "source": [
    "### 매개변수에도 변수와 동일하게 소유권과 참조를 사용\n",
    "\n",
    "#### 소유권 \n",
    "- Rust에서 소유권이란 기존 변수에 값을 새로운 변수로 이동시키는 것을 말함 \n",
    "- 그래서 매개변수에 대한 소유권(ownership)이란 외부에 정의된 변수의 값의 매개변수에 전달되어 이동하는 것을 말함\n",
    "\n",
    "- 그래서 매개변수로 값을 전달하면 해당 값의 소유권이 함수로 이동\n",
    "- 함수가 처리된 결과를 그대로 반환해서 소유권을 외부로 전달할 동안  함수 내에서 해당 값에 대한 모든 권한을 가지게 됩니다. \n",
    "\n",
    "#### 빌림\n",
    "- 빌림 즉 참조는 소유권 이동이 없이 기존 변수의 값을 사용할 수 있는 것을 말함.\n",
    "- 그래서 빌림(borrowing)이란 용어를 사용함 이때 빌리는 대상이 실제 값이 아닌 참조(주소)를 말함\n",
    "- 함수의 매개변수에 인자로 참조라는 주소를 전달해서 밖에 있는 변수의 값을 참조하는 것을 말함\n",
    "- 매개변수에 참조가 할당된 경우 이 매개변수 스코프 내에서만 참조를 사용할 수 있다는 것이다. \n",
    "- 왜냐하면 참조의 생명주기는 변수보다 더 길면 안되기 때문이다."
   ]
  },
  {
   "cell_type": "code",
   "execution_count": 6,
   "id": "59debf2a",
   "metadata": {},
   "outputs": [
    {
     "name": "stdout",
     "output_type": "stream",
     "text": [
      " data : Hello\n"
     ]
    }
   ],
   "source": [
    "fn process_data(data: String) {\n",
    "    // data의 소유권을 가져와서 작업 수행\n",
    "    let data_1 = data;\n",
    "    \n",
    "    println!(\" data : {}\", data_1);\n",
    "}\n",
    "\n",
    "fn main() {\n",
    "    let message = String::from(\"Hello\");\n",
    "    \n",
    "                            // 함수로 소유권이 이동 \n",
    "    process_data(message);  // message 내 drop  \n",
    "                            // 여기서부터 message는 사용 불가능\n",
    "    \n",
    "  //println!(\"message : {}\",  message); // value borrowed here after move\n",
    "\n",
    "}\n",
    "\n",
    "main();"
   ]
  },
  {
   "cell_type": "code",
   "execution_count": null,
   "id": "d4035c94",
   "metadata": {},
   "outputs": [],
   "source": []
  },
  {
   "cell_type": "markdown",
   "id": "682eb617",
   "metadata": {},
   "source": [
    "### 슬라이스 즉 참조를 통한 매개변수 전달: \n",
    "\n",
    "- Rust에서는 슬라이스(slice)는 곧 참조를 처리하는 Sequence \n",
    "- 그래서 배열, 벡터 등 Sequence 처리할 경우에 참조를 사용할 때는 매개변수에 슬라이스를 지정\n",
    "- 슬라이스는 원본 데이터에 대한 참조이며, 크기 정보와 함께 전달됩니다."
   ]
  },
  {
   "cell_type": "code",
   "execution_count": 7,
   "id": "61ed8b3a",
   "metadata": {},
   "outputs": [
    {
     "name": "stdout",
     "output_type": "stream",
     "text": [
      " slice : [3, 4]\n"
     ]
    }
   ],
   "source": [
    "fn process_data(data: &[i32]) {\n",
    "    // data에 대한 작업 수행\n",
    "    \n",
    "    println!(\" slice : {:?}\", data);\n",
    "}\n",
    "\n",
    "fn main() {\n",
    "    let numbers = vec![1, 2, 3, 4, 5];\n",
    "    process_data(&numbers[2..4]);  // numbers 슬라이스의 일부 전달\n",
    "}\n",
    "\n",
    "main();"
   ]
  },
  {
   "cell_type": "code",
   "execution_count": null,
   "id": "f3fd2ece",
   "metadata": {},
   "outputs": [],
   "source": []
  },
  {
   "cell_type": "code",
   "execution_count": null,
   "id": "a677b83f",
   "metadata": {},
   "outputs": [],
   "source": []
  },
  {
   "cell_type": "markdown",
   "id": "b394783b",
   "metadata": {},
   "source": [
    "# 2 함수의 여러 특징 "
   ]
  },
  {
   "cell_type": "code",
   "execution_count": null,
   "id": "77a3b79d",
   "metadata": {},
   "outputs": [],
   "source": []
  },
  {
   "cell_type": "markdown",
   "id": "89c44a07",
   "metadata": {},
   "source": [
    "## 2-1. 반환 처리 방식\n",
    "\n",
    "- 표현식과 return 사요\n",
    "- return 일 경우는 일반적으로 중간에 반환이 필요할 경우에만 사용\n",
    "- 함수가 마지막까지 다 수행할 경우는 표현식으로 반환 "
   ]
  },
  {
   "cell_type": "code",
   "execution_count": 8,
   "id": "92b7f49b",
   "metadata": {},
   "outputs": [
    {
     "name": "stdout",
     "output_type": "stream",
     "text": [
      "sum :3 \n",
      "mul :2 \n",
      "Success!\n"
     ]
    }
   ],
   "source": [
    "fn main() {\n",
    "    let (x, y) = (1, 2);\n",
    "    let s = sum(x, y);\n",
    "\n",
    "    assert_eq!(s, 3);\n",
    "    \n",
    "    println!(\"sum :{} \", sum(x,y));\n",
    "    println!(\"mul :{} \", mul(x,y));\n",
    "    println!(\"Success!\");\n",
    "}\n",
    "\n",
    "fn sum(x: i32, y: i32) -> i32 {           // 중도에 반환할 때 return 문을 사용 \n",
    "    return x + y; \n",
    "}\n",
    "\n",
    "fn mul(x: i32, y: i32) -> i32 {            // 함수는 표현식의 값을 반환\n",
    "    x * y  \n",
    "}\n",
    "\n",
    "main();\n"
   ]
  },
  {
   "cell_type": "code",
   "execution_count": null,
   "id": "0c4f5efb",
   "metadata": {},
   "outputs": [],
   "source": []
  },
  {
   "cell_type": "markdown",
   "id": "06f7de9d",
   "metadata": {},
   "source": [
    "## 2-2 함수는 외부 변수 참조 금지 \n",
    "\n",
    "- 스레드 안전성을 보호하기 위해 참조는 전역변수를 참조할 수 없다. "
   ]
  },
  {
   "cell_type": "markdown",
   "id": "0ffb0a95",
   "metadata": {},
   "source": [
    "### 함수 밖의 전역을 참조할 수 없다\n",
    "\n",
    "-  자기 외부의 값을 사용할 수 없다. 왜냐하면 소유권 이동없이 사용하지 못하기 때문이다.\n",
    "-  그래서 매개변수와 인수를 사용해서 전달해야 함 "
   ]
  },
  {
   "cell_type": "code",
   "execution_count": 9,
   "id": "048ae10f",
   "metadata": {},
   "outputs": [
    {
     "ename": "Error",
     "evalue": "cannot find value `y` in this scope",
     "output_type": "error",
     "traceback": [
      "    a + y",
      "\u001b[91m        ^\u001b[0m \u001b[94merror: cannot find value `y` in this scope\u001b[0m",
      "cannot find value `y` in this scope",
      "\u001b[1mhelp\u001b[0m: a local variable with a similar name exists\n\na"
     ]
    },
    {
     "ename": "Error",
     "evalue": "unused variable: `y`",
     "output_type": "error",
     "traceback": [
      "    let y = 20;",
      "\u001b[91m        ^\u001b[0m \u001b[94mwarning: unused variable: `y`\u001b[0m",
      "unused variable: `y`",
      "\u001b[1mhelp\u001b[0m: if this is intentional, prefix it with an underscore\n\n_y"
     ]
    }
   ],
   "source": [
    "fn add_numbers(a: i32) -> i32 {\n",
    "    a + y\n",
    "}\n",
    "\n",
    "fn main() {\n",
    "    let x = 10;\n",
    "    let y = 20;\n",
    "    let sum = add_numbers(x);\n",
    "    println!(\"두 수의 합: {}\", sum);\n",
    "}"
   ]
  },
  {
   "cell_type": "markdown",
   "id": "82fd61b4",
   "metadata": {},
   "source": [
    "### 매개변수의 인자로 전달해서 사용 "
   ]
  },
  {
   "cell_type": "code",
   "execution_count": 10,
   "id": "3d726043",
   "metadata": {},
   "outputs": [
    {
     "name": "stdout",
     "output_type": "stream",
     "text": [
      "두 수의 합: 30\n"
     ]
    }
   ],
   "source": [
    "fn add_numbers(a: i32, b: i32) -> i32 {\n",
    "    a + b\n",
    "}\n",
    "\n",
    "fn main() {\n",
    "    let x = 10;\n",
    "    let y = 20;\n",
    "    let sum = add_numbers(x, y);\n",
    "    println!(\"두 수의 합: {}\", sum);\n",
    "}\n",
    "\n",
    "main();"
   ]
  },
  {
   "cell_type": "code",
   "execution_count": null,
   "id": "1c16d21b",
   "metadata": {},
   "outputs": [],
   "source": []
  },
  {
   "cell_type": "markdown",
   "id": "d3e38048",
   "metadata": {},
   "source": [
    "## 2-3 여러 값 반환 처리\n",
    "\n",
    "- 튜플로 처리한다"
   ]
  },
  {
   "cell_type": "code",
   "execution_count": 11,
   "id": "2096ed62",
   "metadata": {},
   "outputs": [
    {
     "name": "stdout",
     "output_type": "stream",
     "text": [
      "Name: Alice\n",
      "Age: 30\n"
     ]
    }
   ],
   "source": [
    "fn get_user_info() -> (String, u32) {\n",
    "    let name = String::from(\"Alice\");\n",
    "    let age = 30;\n",
    "    (name, age)\n",
    "}\n",
    "\n",
    "fn main() {\n",
    "    let (name, age) = get_user_info();\n",
    "    println!(\"Name: {}\", name);\n",
    "    println!(\"Age: {}\", age);\n",
    "}\n",
    "\n",
    "main();"
   ]
  },
  {
   "cell_type": "code",
   "execution_count": null,
   "id": "ba14060b",
   "metadata": {},
   "outputs": [],
   "source": []
  },
  {
   "cell_type": "markdown",
   "id": "727ebe1c-bbee-4508-8c0e-fb95b1185165",
   "metadata": {},
   "source": [
    "## 2-4  참조를 반환할 때 주의할 것 "
   ]
  },
  {
   "cell_type": "markdown",
   "id": "20cd20ab-59e4-49c7-97bb-93b4641d659d",
   "metadata": {},
   "source": [
    "### 지역변수의 스코프를 벗어나지 못함 \n",
    "- 참조일 경우는 수명매개변수도 추가해야 함 "
   ]
  },
  {
   "cell_type": "code",
   "execution_count": 12,
   "id": "e54204b6-d362-4bbc-b516-f4eca7c19ae7",
   "metadata": {},
   "outputs": [
    {
     "ename": "Error",
     "evalue": "missing lifetime specifier",
     "output_type": "error",
     "traceback": [
      "\u001b[31m[E0106] Error:\u001b[0m missing lifetime specifier",
      "   \u001b[38;5;246m╭\u001b[0m\u001b[38;5;246m─\u001b[0m\u001b[38;5;246m[\u001b[0mcommand_12:1:1\u001b[38;5;246m]\u001b[0m",
      "   \u001b[38;5;246m│\u001b[0m",
      " \u001b[38;5;246m1 │\u001b[0m \u001b[38;5;249mf\u001b[0m\u001b[38;5;249mn\u001b[0m\u001b[38;5;249m \u001b[0m\u001b[38;5;249mg\u001b[0m\u001b[38;5;249me\u001b[0m\u001b[38;5;249mt\u001b[0m\u001b[38;5;249m_\u001b[0m\u001b[38;5;249mu\u001b[0m\u001b[38;5;249ms\u001b[0m\u001b[38;5;249me\u001b[0m\u001b[38;5;249mr\u001b[0m\u001b[38;5;249m_\u001b[0m\u001b[38;5;249mr\u001b[0m\u001b[38;5;249me\u001b[0m\u001b[38;5;249mf\u001b[0m\u001b[38;5;249m(\u001b[0m\u001b[38;5;249m)\u001b[0m\u001b[38;5;249m \u001b[0m\u001b[38;5;249m-\u001b[0m\u001b[38;5;249m>\u001b[0m\u001b[38;5;249m \u001b[0m\u001b[38;5;54m&\u001b[0m\u001b[38;5;68ms\u001b[0m\u001b[38;5;68mt\u001b[0m\u001b[38;5;68mr\u001b[0m\u001b[38;5;249m \u001b[0m\u001b[38;5;249m{\u001b[0m",
      " \u001b[38;5;240m  │\u001b[0m                      \u001b[38;5;54m┬\u001b[0m\u001b[38;5;100m┬\u001b[0m\u001b[38;5;68m┬\u001b[0m\u001b[38;5;68m─\u001b[0m  ",
      " \u001b[38;5;240m  │\u001b[0m                      \u001b[38;5;54m╰\u001b[0m\u001b[38;5;54m─\u001b[0m\u001b[38;5;54m─\u001b[0m\u001b[38;5;54m─\u001b[0m\u001b[38;5;54m─\u001b[0m\u001b[38;5;54m─\u001b[0m expected named lifetime parameter",
      " \u001b[38;5;240m  │\u001b[0m                       \u001b[38;5;100m│\u001b[0m\u001b[38;5;68m│\u001b[0m   ",
      " \u001b[38;5;240m  │\u001b[0m                       \u001b[38;5;100m╰\u001b[0m\u001b[38;5;100m─\u001b[0m\u001b[38;5;100m─\u001b[0m\u001b[38;5;100m─\u001b[0m\u001b[38;5;100m─\u001b[0m help: consider using the `'static` lifetime, but this is uncommon unless you're returning a borrowed value from a `const` or a `static`: `'static `",
      " \u001b[38;5;240m  │\u001b[0m                        \u001b[38;5;68m│\u001b[0m   ",
      " \u001b[38;5;240m  │\u001b[0m                        \u001b[38;5;68m╰\u001b[0m\u001b[38;5;68m─\u001b[0m\u001b[38;5;68m─\u001b[0m\u001b[38;5;68m─\u001b[0m help: instead, you are more likely to want to return an owned value: `String`",
      "\u001b[38;5;246m───╯\u001b[0m"
     ]
    },
    {
     "ename": "Error",
     "evalue": "cannot return reference to local variable `name`",
     "output_type": "error",
     "traceback": [
      "\u001b[31m[E0515] Error:\u001b[0m cannot return reference to local variable `name`",
      "   \u001b[38;5;246m╭\u001b[0m\u001b[38;5;246m─\u001b[0m\u001b[38;5;246m[\u001b[0mcommand_12:1:1\u001b[38;5;246m]\u001b[0m",
      "   \u001b[38;5;246m│\u001b[0m",
      " \u001b[38;5;246m3 │\u001b[0m \u001b[38;5;249m \u001b[0m\u001b[38;5;249m \u001b[0m\u001b[38;5;249m \u001b[0m\u001b[38;5;249m \u001b[0m\u001b[38;5;54m&\u001b[0m\u001b[38;5;54mn\u001b[0m\u001b[38;5;54ma\u001b[0m\u001b[38;5;54mm\u001b[0m\u001b[38;5;54me\u001b[0m",
      " \u001b[38;5;240m  │\u001b[0m     \u001b[38;5;54m─\u001b[0m\u001b[38;5;54m─\u001b[0m\u001b[38;5;54m┬\u001b[0m\u001b[38;5;54m─\u001b[0m\u001b[38;5;54m─\u001b[0m  ",
      " \u001b[38;5;240m  │\u001b[0m       \u001b[38;5;54m╰\u001b[0m\u001b[38;5;54m─\u001b[0m\u001b[38;5;54m─\u001b[0m\u001b[38;5;54m─\u001b[0m\u001b[38;5;54m─\u001b[0m returns a reference to data owned by the current function",
      "\u001b[38;5;246m───╯\u001b[0m"
     ]
    }
   ],
   "source": [
    "fn get_user_ref() -> &str {\n",
    "    let name = String::from(\"Alice\");\n",
    "    &name\n",
    "}\n",
    "\n",
    "fn main() {\n",
    "    let aaa = get_user_ref();\n",
    "    println!(\"aaa: {}\", aaa);\n",
    "}\n",
    "\n",
    "main();"
   ]
  },
  {
   "cell_type": "markdown",
   "id": "eb92672e-2e98-49c5-902c-d9ba6ad8e00b",
   "metadata": {},
   "source": [
    "### 참조 등을 처리할 때는  수명 매개변수를 지정해야 함 "
   ]
  },
  {
   "cell_type": "code",
   "execution_count": 16,
   "id": "733f79b3-1201-4d66-8b6a-3283a8881bf0",
   "metadata": {},
   "outputs": [
    {
     "name": "stdout",
     "output_type": "stream",
     "text": [
      "aaa: Alice\n"
     ]
    }
   ],
   "source": [
    "fn get_user_ref1<'a>(name : &'a str) -> &'a str {\n",
    "    name\n",
    "}\n",
    "\n",
    "fn main() {\n",
    "    let name = String::from(\"Alice\");\n",
    "    let aaa = get_user_ref1(&name);\n",
    "    println!(\"aaa: {}\", aaa);\n",
    "}\n",
    "\n",
    "main();"
   ]
  },
  {
   "cell_type": "code",
   "execution_count": null,
   "id": "bcf62748-85f7-4ac8-90f7-09f3b40edfc8",
   "metadata": {},
   "outputs": [],
   "source": []
  }
 ],
 "metadata": {
  "kernelspec": {
   "display_name": "Rust",
   "language": "rust",
   "name": "rust"
  },
  "language_info": {
   "codemirror_mode": "rust",
   "file_extension": ".rs",
   "mimetype": "text/rust",
   "name": "Rust",
   "pygment_lexer": "rust",
   "version": ""
  }
 },
 "nbformat": 4,
 "nbformat_minor": 5
}
