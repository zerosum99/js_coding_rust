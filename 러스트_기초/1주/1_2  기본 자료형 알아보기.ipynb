{
 "cells": [
  {
   "cell_type": "code",
   "execution_count": null,
   "id": "831d3f72",
   "metadata": {},
   "outputs": [],
   "source": []
  },
  {
   "cell_type": "markdown",
   "id": "b0a76409",
   "metadata": {},
   "source": [
    "# 러스트는 강타입 언어\n",
    "\n",
    "- 컴파일할 때 동일한 자료형이 아니면 타입 에러를 처리한다. "
   ]
  },
  {
   "cell_type": "markdown",
   "id": "a65be08b",
   "metadata": {},
   "source": [
    "\n",
    "\n",
    "## Scalar Types\n",
    "\n",
    "- 단일값만 관리하는 자료형 \n",
    "\n",
    "- Signed integers: i8, i16, i32, i64, i128 and isize (pointer size)\n",
    "- Unsigned integers: u8, u16, u32, u64, u128 and usize (pointer size)\n",
    "- Floating point: f32, f64\n",
    "- char Unicode scalar values like 'a', 'α' and '∞' (4 bytes each)\n",
    "- bool either true or false\n",
    "- The unit type (), whose only possible value is an empty tuple: ()"
   ]
  },
  {
   "cell_type": "code",
   "execution_count": null,
   "id": "203d56d9",
   "metadata": {},
   "outputs": [],
   "source": []
  },
  {
   "cell_type": "markdown",
   "id": "64e11d89",
   "metadata": {},
   "source": [
    "# 1. 숫자자료형\n",
    "\n",
    "- 정수와 실수 자료형이 있다.\n",
    "- 정수와 실수 자료형은 비트 단위로 구분해서 자료형이 세분화되어 있다.\n",
    "- 정수일 경우는 또한 부호여부를 가지고 자료형을 분리한다.\n",
    "- 플랫폼을 기준으로 처리하는 정수 자료형도 존재 ("
   ]
  },
  {
   "cell_type": "code",
   "execution_count": null,
   "id": "c1f75b9e",
   "metadata": {},
   "outputs": [],
   "source": []
  },
  {
   "cell_type": "markdown",
   "id": "4a5f8251",
   "metadata": {},
   "source": [
    "## 1-1 정수: 부호로 자료형을 분리  "
   ]
  },
  {
   "cell_type": "markdown",
   "id": "ba02e994",
   "metadata": {},
   "source": [
    "## 부호를 가지는 정수 알아보기\n",
    "\n",
    "- i : 부호를 가지는 자료형\n",
    "- u : 부호가 없는 자료형\n",
    "- 그 다음에 비트 길이를 지정해서 변수를 정의 "
   ]
  },
  {
   "cell_type": "code",
   "execution_count": 3,
   "id": "32b3b2b2-7257-43ba-a0e7-b4d5c15acfd0",
   "metadata": {},
   "outputs": [
    {
     "data": {
      "text/plain": [
       "-128"
      ]
     },
     "execution_count": 3,
     "metadata": {},
     "output_type": "execute_result"
    }
   ],
   "source": [
    "i8::MIN"
   ]
  },
  {
   "cell_type": "code",
   "execution_count": 4,
   "id": "a91696a9-fc9f-4643-990b-561811515aaf",
   "metadata": {},
   "outputs": [
    {
     "data": {
      "text/plain": [
       "127"
      ]
     },
     "execution_count": 4,
     "metadata": {},
     "output_type": "execute_result"
    }
   ],
   "source": [
    "i8::MAX"
   ]
  },
  {
   "cell_type": "markdown",
   "id": "3ad31e81-ba5d-4a65-8fae-5dde40b68cc8",
   "metadata": {},
   "source": [
    "### 출력되는 길이를 10으로 맞춤 "
   ]
  },
  {
   "cell_type": "code",
   "execution_count": 2,
   "id": "72ffcd5d",
   "metadata": {},
   "outputs": [
    {
     "name": "stdout",
     "output_type": "stream",
     "text": [
      "       -128,        127 \n",
      "          0,        255 \n",
      "Success!\n"
     ]
    }
   ],
   "source": [
    "fn main() {\n",
    "    println!(\" {:10}, {:10} \",i8::MIN,i8::MAX); \n",
    "    println!(\" {:10}, {:10} \",u8::MIN,u8::MAX); \n",
    "\n",
    "    println!(\"Success!\");\n",
    "}\n",
    "\n",
    "main(); "
   ]
  },
  {
   "cell_type": "markdown",
   "id": "3075b4b7",
   "metadata": {},
   "source": [
    "## 1-2 정수 자료형의 크기\n",
    "\n",
    "- 자료형을 비트 사이즈에 맞춰 정의되어 있다.\n",
    "- isize는 플랫폼에 맞춰 사이즈를 결정해서 64비트 os를 사용해서 8바이트로 처리 "
   ]
  },
  {
   "cell_type": "code",
   "execution_count": 6,
   "id": "64b72d9c",
   "metadata": {},
   "outputs": [
    {
     "name": "stdout",
     "output_type": "stream",
     "text": [
      "u8 크기: 1 바이트\n",
      "i32 크기: 4 바이트\n",
      "isize 크기: 8 바이트\n"
     ]
    }
   ],
   "source": [
    "use std::mem;\n",
    "\n",
    "fn main() {\n",
    "    let size_of_u8 = mem::size_of::<u8>();\n",
    "    let size_of_i32 = mem::size_of::<i32>();\n",
    "    let size_of_isize = mem::size_of::<isize>();\n",
    "\n",
    "    println!(\"u8 크기: {} 바이트\", size_of_u8);\n",
    "    println!(\"i32 크기: {} 바이트\", size_of_i32);\n",
    "    println!(\"isize 크기: {} 바이트\", size_of_isize);\n",
    "}\n",
    "\n",
    "main();"
   ]
  },
  {
   "cell_type": "code",
   "execution_count": null,
   "id": "0ff349f9",
   "metadata": {},
   "outputs": [],
   "source": []
  },
  {
   "cell_type": "markdown",
   "id": "5af638a0",
   "metadata": {},
   "source": [
    "## 1-3 타입이 다르면 에러 처리 \n",
    "\n",
    "- 엄격하게 자료형을 체크하므로 같은 정수여도 길이가 부호가 다르면 다른 자료형으로 인식 "
   ]
  },
  {
   "cell_type": "code",
   "execution_count": 7,
   "id": "3050cbb7",
   "metadata": {},
   "outputs": [
    {
     "name": "stdout",
     "output_type": "stream",
     "text": [
      "Success!\n"
     ]
    }
   ],
   "source": [
    "fn main() {\n",
    "    let x: i32 = 5;\n",
    "    let mut y: u32 = 5;\n",
    "\n",
    "    y = x as u32;            // 명시적인 타입 변환 처리\n",
    "    \n",
    "    println!(\"Success!\");\n",
    "}\n",
    "main();"
   ]
  },
  {
   "cell_type": "markdown",
   "id": "cb583e7f",
   "metadata": {},
   "source": [
    "### 자료형은 동일해야 함 "
   ]
  },
  {
   "cell_type": "code",
   "execution_count": 2,
   "id": "cb3e8ba9",
   "metadata": {},
   "outputs": [
    {
     "name": "stdout",
     "output_type": "stream",
     "text": [
      "Success!\n"
     ]
    }
   ],
   "source": [
    "fn main() {\n",
    "    let x: i32 = 5;\n",
    "    let mut y: i32 = 5;\n",
    "\n",
    "    y = x;\n",
    "    \n",
    "    println!(\"Success!\");\n",
    "}\n",
    "main();"
   ]
  },
  {
   "cell_type": "markdown",
   "id": "a7b93127",
   "metadata": {},
   "source": [
    "## 타입을 확인하는 함수 정의 "
   ]
  },
  {
   "cell_type": "code",
   "execution_count": 8,
   "id": "871240c0",
   "metadata": {},
   "outputs": [],
   "source": [
    "use std::any::type_name;\n",
    "\n",
    "fn type_of<T>(_: T) -> &'static str {\n",
    "    type_name::<T>()\n",
    "}"
   ]
  },
  {
   "cell_type": "markdown",
   "id": "6b39898a",
   "metadata": {},
   "source": [
    "## 정수에 대한 기본 타입 추론\n",
    "\n",
    "- 변수에 자료형을 지정하지 않고 정수를 할당하면 기본 자료형은 i32 "
   ]
  },
  {
   "cell_type": "code",
   "execution_count": 9,
   "id": "8a60c7bc",
   "metadata": {},
   "outputs": [
    {
     "name": "stdout",
     "output_type": "stream",
     "text": [
      "타입: i32\n",
      "값: 42\n",
      "타입: i32\n",
      "Success!\n"
     ]
    }
   ],
   "source": [
    "fn main() {\n",
    "    \n",
    "    let z = 10;                       // Type of z ? \n",
    "    println!(\"타입: {}\",type_of(z));\n",
    "    \n",
    "    let value = 42;\n",
    "    let value_type = type_of(value);\n",
    "    \n",
    "    println!(\"값: {}\", value);\n",
    "    println!(\"타입: {}\", value_type);\n",
    "\n",
    "    println!(\"Success!\");\n",
    "}\n",
    "main();"
   ]
  },
  {
   "cell_type": "code",
   "execution_count": null,
   "id": "7f576ab6",
   "metadata": {},
   "outputs": [],
   "source": []
  },
  {
   "cell_type": "markdown",
   "id": "fbc53ca2",
   "metadata": {},
   "source": [
    "## 1-4 정수 오버플로우 확인하기 \n",
    "\n",
    "- 정수 내에 있는 함수 호출 ( 정수자료형 :: 함수명(인자)\n",
    "- result 이넘으로 결과를 반환하므로 unwrap 메서드로 결과값을 조회\n",
    "- 결과가 에러이면 panic 을 발생시킴 "
   ]
  },
  {
   "cell_type": "markdown",
   "id": "0342808c",
   "metadata": {},
   "source": [
    "### 숫자에 접미사를 붙여서 자료형을 확정할 수 있다 "
   ]
  },
  {
   "cell_type": "code",
   "execution_count": 10,
   "id": "6ab1b568",
   "metadata": {},
   "outputs": [
    {
     "name": "stdout",
     "output_type": "stream",
     "text": [
      "Some(108) 108 \n"
     ]
    }
   ],
   "source": [
    "fn main() {\n",
    "   //let v1 = 251_u8 + 8;\n",
    "   let v2 = i8::checked_add(100, 8);\n",
    "   let v3 = i8::checked_add(100, 8).unwrap();\n",
    "   println!(\"{:?} {} \",v2, v3);\n",
    "}\n",
    "\n",
    "main();"
   ]
  },
  {
   "cell_type": "markdown",
   "id": "8863b859",
   "metadata": {},
   "source": [
    "### 오버플로우를 해결하기 위해서는 자료형을 변경 \n",
    " "
   ]
  },
  {
   "cell_type": "code",
   "execution_count": 11,
   "id": "229e5d87",
   "metadata": {},
   "outputs": [
    {
     "name": "stdout",
     "output_type": "stream",
     "text": [
      "259,259\n"
     ]
    }
   ],
   "source": [
    "fn main() {\n",
    "   let v1 = 251_u16 + 8;\n",
    "   let v2 = i16::checked_add(251, 8).unwrap();\n",
    "   println!(\"{},{}\",v1,v2);\n",
    "}\n",
    "\n",
    "main();"
   ]
  },
  {
   "cell_type": "code",
   "execution_count": null,
   "id": "f4a20367",
   "metadata": {},
   "outputs": [],
   "source": []
  },
  {
   "cell_type": "code",
   "execution_count": null,
   "id": "bafb738d",
   "metadata": {},
   "outputs": [],
   "source": []
  },
  {
   "cell_type": "markdown",
   "id": "f4558a8b",
   "metadata": {},
   "source": [
    "## 1-5  실수 \n",
    "\n",
    "- 실수는 기본이 f64\n",
    "- 숫자 리터럴을 표기할 때 타입 어노테이션을 접미사로 붙일 수 있다. "
   ]
  },
  {
   "cell_type": "markdown",
   "id": "d9654d37",
   "metadata": {},
   "source": [
    "## 실수 알아보기 "
   ]
  },
  {
   "cell_type": "code",
   "execution_count": 12,
   "id": "e7ca106a",
   "metadata": {},
   "outputs": [
    {
     "name": "stdout",
     "output_type": "stream",
     "text": [
      " f64 \n",
      "Success!\n"
     ]
    }
   ],
   "source": [
    "fn main() {\n",
    "    let x = 1_000.000_1; // ?\n",
    "    let y: f32 = 0.12;   // f32\n",
    "    let z = 0.01_f64;    // f64\n",
    "\n",
    "    println!(\" {} \", type_of(x));\n",
    "    println!(\"Success!\");\n",
    "}\n",
    "\n",
    "main();"
   ]
  },
  {
   "cell_type": "code",
   "execution_count": null,
   "id": "a62780a9",
   "metadata": {},
   "outputs": [],
   "source": []
  },
  {
   "cell_type": "markdown",
   "id": "a2fe5bd5",
   "metadata": {},
   "source": [
    "## 1-6 연산자 알아보기"
   ]
  },
  {
   "cell_type": "markdown",
   "id": "412b655d",
   "metadata": {},
   "source": [
    "### 사칙연산"
   ]
  },
  {
   "cell_type": "code",
   "execution_count": 13,
   "id": "b14e98d3",
   "metadata": {},
   "outputs": [
    {
     "name": "stdout",
     "output_type": "stream",
     "text": [
      "덧셈 : 3\n",
      "뺄셈 : -1\n",
      "곱셈 : 150\n",
      "나눗셈 : 2.9999999999999996\n",
      "나머지 : 3\n"
     ]
    }
   ],
   "source": [
    "// Fill the blanks and fix the errors\n",
    "fn main() {\n",
    "    \n",
    "    let x = 1u32 + 2;   // 덧셈\n",
    "    println!(\"덧셈 : {x}\"); \n",
    "    let y = 1i32 - 2;   // 뺄셈\n",
    "    println!(\"뺄셈 : {y}\"); \n",
    "    let z = 3 * 50;     // 곱셈\n",
    "    println!(\"곱셈 : {z}\"); \n",
    "    let a = 9.6 / 3.2;  // 나눗셈 \n",
    "    println!(\"나눗셈 : {a}\"); \n",
    "    let b = 23 % 5;\n",
    "    println!(\"나머지 : {b}\"); \n",
    "} \n",
    "\n",
    "main(); "
   ]
  },
  {
   "cell_type": "markdown",
   "id": "3241df5b",
   "metadata": {},
   "source": [
    "## 비트 계산 및 출력 \n",
    "\n",
    "- 이진수는 0b\n",
    "- 8진수는 0o\n",
    "- 16진수는 0x\n",
    "- 출력포맷일 경우 : b(2진수), o(8진수), x(16진수)"
   ]
  },
  {
   "cell_type": "code",
   "execution_count": 14,
   "id": "ba6704f7",
   "metadata": {},
   "outputs": [
    {
     "name": "stdout",
     "output_type": "stream",
     "text": [
      "0011 AND 0101 is 0001\n",
      "0011 OR 0101 is 0111\n",
      "0011 XOR 0101 is 0110\n",
      "1 << 5 is 32\n",
      "0x80 >> 2 is 0x20\n"
     ]
    }
   ],
   "source": [
    "fn main() {    \n",
    "\n",
    "    // Bitwise operations\n",
    "    println!(\"0011 AND 0101 is {:04b}\", 0b0011u32 & 0b0101);\n",
    "    println!(\"0011 OR 0101 is {:04b}\", 0b0011u32 | 0b0101);\n",
    "    println!(\"0011 XOR 0101 is {:04b}\", 0b0011u32 ^ 0b0101);\n",
    "    println!(\"1 << 5 is {}\", 1u32 << 5);\n",
    "    println!(\"0x80 >> 2 is 0x{:x}\", 0x80u32 >> 2);\n",
    "}\n",
    "\n",
    "main();"
   ]
  },
  {
   "cell_type": "code",
   "execution_count": null,
   "id": "b2bb2b62",
   "metadata": {},
   "outputs": [],
   "source": []
  },
  {
   "cell_type": "code",
   "execution_count": null,
   "id": "01d2fae9",
   "metadata": {},
   "outputs": [],
   "source": []
  },
  {
   "cell_type": "markdown",
   "id": "027241ab",
   "metadata": {},
   "source": [
    "# 2. 불리언과 문자 자료형 "
   ]
  },
  {
   "cell_type": "code",
   "execution_count": null,
   "id": "9968d890",
   "metadata": {},
   "outputs": [],
   "source": []
  },
  {
   "cell_type": "markdown",
   "id": "f9ce0139",
   "metadata": {},
   "source": [
    "## 2-1 불리언 "
   ]
  },
  {
   "cell_type": "markdown",
   "id": "13424bb3",
   "metadata": {},
   "source": [
    "## 블리언 값 확인"
   ]
  },
  {
   "cell_type": "code",
   "execution_count": 12,
   "id": "10fcc47b",
   "metadata": {},
   "outputs": [
    {
     "name": "stdout",
     "output_type": "stream",
     "text": [
      "Success!\n"
     ]
    }
   ],
   "source": [
    "fn main() {\n",
    "    let _f: bool = false;\n",
    "\n",
    "    let t = true;\n",
    "    if t {\n",
    "        println!(\"Success!\");\n",
    "    }\n",
    "} \n",
    "main();"
   ]
  },
  {
   "cell_type": "markdown",
   "id": "1c4edb0e",
   "metadata": {},
   "source": [
    "## 연산자 처리 "
   ]
  },
  {
   "cell_type": "code",
   "execution_count": 8,
   "id": "0012ceca",
   "metadata": {},
   "outputs": [
    {
     "name": "stdout",
     "output_type": "stream",
     "text": [
      "false \n",
      "true \n",
      "false \n"
     ]
    }
   ],
   "source": [
    "fn main() {\n",
    "    \n",
    "    // Short-circuiting boolean logic\n",
    "    println!(\"{} \",true && false );\n",
    "    println!(\"{} \",true || false );\n",
    "    println!(\"{} \",!true );\n",
    "\n",
    "}\n",
    "\n",
    "main();"
   ]
  },
  {
   "cell_type": "code",
   "execution_count": null,
   "id": "944d720b",
   "metadata": {},
   "outputs": [],
   "source": []
  },
  {
   "cell_type": "markdown",
   "id": "878ff3af",
   "metadata": {},
   "source": [
    "## 2-2 문자 \n",
    "\n",
    "- 문자 자료형은 4 바이트로 처리 "
   ]
  },
  {
   "cell_type": "code",
   "execution_count": 6,
   "id": "813a8f17",
   "metadata": {},
   "outputs": [
    {
     "name": "stdout",
     "output_type": "stream",
     "text": [
      " 4, char\n",
      " 4, char\n",
      "Success!\n"
     ]
    }
   ],
   "source": [
    "use std::mem::size_of_val;\n",
    "fn main() {\n",
    "    let c1 = 'a';\n",
    "    println!(\" { }, {}\", size_of_val(&c1), type_of(c1)); \n",
    "\n",
    "    let c2 = '中';\n",
    "    println!(\" { }, {}\",size_of_val(&c2),type_of(c1)); \n",
    "\n",
    "    println!(\"Success!\");\n",
    "} \n",
    "main();"
   ]
  },
  {
   "cell_type": "code",
   "execution_count": null,
   "id": "6911e637",
   "metadata": {},
   "outputs": [],
   "source": []
  },
  {
   "cell_type": "markdown",
   "id": "45ee0d3a",
   "metadata": {},
   "source": [
    "## 2-3 유닛타입 \n",
    "\n",
    "- 아무것도 없는 튜플일 경우에 사용\n",
    "- 또한 아무것도 반환하지 않는 함수의 반환값에 사용\n"
   ]
  },
  {
   "cell_type": "code",
   "execution_count": 14,
   "id": "563934bb",
   "metadata": {},
   "outputs": [
    {
     "name": "stdout",
     "output_type": "stream",
     "text": [
      "()\n",
      "(2, 3) \n",
      "Success!\n"
     ]
    }
   ],
   "source": [
    "fn main() -> () {\n",
    "    let _v: () = ();\n",
    "    println!(\"{:?}\",_v);\n",
    "    let v = (2, 3);\n",
    "    println!(\"{:?} \",v);\n",
    "\n",
    "    println!(\"Success!\");\n",
    "}\n",
    "\n",
    "main();"
   ]
  },
  {
   "cell_type": "code",
   "execution_count": null,
   "id": "ad373fe2",
   "metadata": {},
   "outputs": [],
   "source": []
  }
 ],
 "metadata": {
  "kernelspec": {
   "display_name": "Rust",
   "language": "rust",
   "name": "rust"
  },
  "language_info": {
   "codemirror_mode": "rust",
   "file_extension": ".rs",
   "mimetype": "text/rust",
   "name": "Rust",
   "pygment_lexer": "rust",
   "version": ""
  }
 },
 "nbformat": 4,
 "nbformat_minor": 5
}
