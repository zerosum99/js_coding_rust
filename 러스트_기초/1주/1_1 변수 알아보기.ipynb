{
 "cells": [
  {
   "cell_type": "code",
   "execution_count": null,
   "id": "277783ec",
   "metadata": {},
   "outputs": [],
   "source": []
  },
  {
   "cell_type": "markdown",
   "id": "0c5f5041",
   "metadata": {},
   "source": [
    "# 변수 선언과 변수 정의 차이점\n",
    "\n",
    "### 변수 선언: \n",
    "- 변수의 이름과 타입을 지정하여 컴파일러에게 변수의 존재를 알립니다. \n",
    "- 변수를 선언할 때는 메모리 공간이 할당되지 않습니다. \n",
    "- 변수 선언은 프로그램의 어떤 부분에서 변수를 사용할 것인지를 컴파일러에게 알려주는 역할을 합니다. \n",
    "- 변수 선언은 주로 프로그램의 시작 부분에서 수행됩니다.\n",
    "\n",
    "### 변수 정의: \n",
    "- 변수의 이름과 타입을 지정하고, 메모리에 실제로 공간을 할당하여 변수를 생성합니다. \n",
    "- 변수 정의는 변수를 선언하는 동시에 메모리 공간을 할당하여 변수를 사용할 수 있도록 합니다. \n",
    "- 변수 정의는 변수의 초기값을 할당할 수도 있습니다. \n",
    "- 변수 정의는 변수가 처음으로 사용되는 시점에서 수행됩니다."
   ]
  },
  {
   "cell_type": "code",
   "execution_count": null,
   "id": "7341540e",
   "metadata": {},
   "outputs": [],
   "source": []
  },
  {
   "cell_type": "markdown",
   "id": "6b86dec7",
   "metadata": {},
   "source": [
    "# 컴파일언어에서 변수와 값 메모리 구조\n",
    "\n",
    "- 변수는 별도의 룩업 테이블에 이름을 관리하고 실제 값을 가르키는 역할 \n",
    "- 그래서 변수에는 값이 저장된 곳이 메모리 주소를 관리한다.\n",
    "\n",
    "\n",
    "### 심볼 테이블(Symbol Table):\n",
    "\n",
    "- 심볼 테이블은 컴파일러 또는 인터프리터가 프로그램의 식별자(변수, 함수, 클래스 등)에 대한 정보를 저장하는 데이터 구조입니다.\n",
    "- 심볼 테이블은 식별자의 이름, 유형, 메모리 주소 등을 포함할 수 있습니다.\n",
    "  컴파일러 또는 인터프리터는 심볼 테이블을 사용하여 식별자를 검색하고 해당 식별자에 대한 정보를 확인할 수 있습니다.\n",
    "\n",
    "\n",
    "### 메모리 연결 방식:\n",
    "\n",
    "- 메모리 연결 방식은 변수 및 객체가 메모리에 할당되는 방식을 의미합니다.\n",
    "- 정적 메모리 연결(Static Memory Allocation): 컴파일 시간에 메모리를 할당하고 프로그램 실행 동안 메모리 주소가 고정되는 방식입니다.\n",
    "  일반적으로 전역 변수와 정적 변수에 사용됩니다.\n",
    "-  동적 메모리 연결(Dynamic Memory Allocation): 프로그램 실행 중에 메모리를 동적으로 할당하고 해제하는 방식입니다. \n",
    "   동적 할당은 주로 힙(heap) 메모리를 사용하여 변수나 객체를 생성하는 데 사용됩니다."
   ]
  },
  {
   "cell_type": "code",
   "execution_count": null,
   "id": "d198a287",
   "metadata": {},
   "outputs": [],
   "source": []
  },
  {
   "cell_type": "markdown",
   "id": "98222a2c",
   "metadata": {},
   "source": [
    "# 1. 러스트 프로그램 진입점도 main 함수이다.\n",
    "\n",
    "-  함수 작성할 때 예약어는 fn 이다.\n",
    "-  출력을 하는 println!는 함수가 아닌 매크로 : 매크로 호출할때는 !를 꼭 붙인다.\n"
   ]
  },
  {
   "cell_type": "markdown",
   "id": "fd9633a9",
   "metadata": {},
   "source": [
    "## 메인함수를 정의하고 이를 호출해서 프로그램을 실행한다. "
   ]
  },
  {
   "cell_type": "code",
   "execution_count": 2,
   "id": "155692d4",
   "metadata": {},
   "outputs": [
    {
     "name": "stdout",
     "output_type": "stream",
     "text": [
      "Hello world\n"
     ]
    }
   ],
   "source": [
    "fn main() ->() {\n",
    "    println!(\"Hello world\");\n",
    "}\n",
    "\n",
    "main();"
   ]
  },
  {
   "cell_type": "markdown",
   "id": "609eccfe",
   "metadata": {},
   "source": [
    "# 2. 러스트 변수 알아보기 \n",
    "\n",
    "- 러스트 변수는 let 예약어 다음에 변수 이름을 지정해서 정의한다.\n",
    "- 러스트 변수에 자료형을 지정해야하나 할당되는 값을 가지고 추론을 해서 타입을 지정한다. \n",
    "- 이를 타입 추론이라고 한다. "
   ]
  },
  {
   "cell_type": "markdown",
   "id": "42b99a76",
   "metadata": {},
   "source": [
    "## 러스트 변수의 특징\n",
    "\n",
    "- 변경불가인 변수 : 한번 지정하면 변경이 불가\n",
    "- 변경가능한 변수 : 재할당이 계속 가능한 변수 (예약어 mut 추가)\n",
    "- 모든 변수는 예약어 let으로 정의한다. "
   ]
  },
  {
   "cell_type": "code",
   "execution_count": null,
   "id": "285088ea",
   "metadata": {},
   "outputs": [],
   "source": []
  },
  {
   "cell_type": "markdown",
   "id": "56349b83",
   "metadata": {},
   "source": [
    "## 2-1 변경불가한 변수 정의 \n"
   ]
  },
  {
   "cell_type": "markdown",
   "id": "19c8cf19",
   "metadata": {},
   "source": [
    "### 변경불가능한 변수 선언 \n",
    "- let 예약어로 변수를 바인딩한다. \n",
    "- 한번 정의된 변수는 재할당이 금지된다.  재할당이 가능하려면 재할당여부를 변수 정의할 때 지정해야 한다. \n",
    "- 변수에 타입어노테이션을 지정할 수 있으나 컴파일시점에 타입을 대부분 추론한다\n",
    "- 타입 추론이 안 될 경우에 타입을 지정하라고 컴파일 에러를 제공한다"
   ]
  },
  {
   "cell_type": "markdown",
   "id": "ef57abf6",
   "metadata": {},
   "source": [
    "### 변수를 선언했지만 정의가 없을 경우\n",
    "\n",
    "- 변수를 선언한 후에 사용하기 전에 반드시 초기화를 해야함 "
   ]
  },
  {
   "cell_type": "code",
   "execution_count": 3,
   "id": "e2110e64",
   "metadata": {},
   "outputs": [
    {
     "ename": "Error",
     "evalue": "used binding `x` isn't initialized",
     "output_type": "error",
     "traceback": [
      "    assert_eq!(x, 5);",
      "\u001b[91m    ^^^^^^^^^^^^^^^^\u001b[0m \u001b[94m`x` used here but it isn't initialized\u001b[0m",
      "    let x: i32;         // 변수 선언 ",
      "\u001b[91m        ^\u001b[0m \u001b[94mbinding declared here but left uninitialized\u001b[0m",
      "used binding `x` isn't initialized",
      "\u001b[1mhelp\u001b[0m: consider assigning a value\n\n = 42"
     ]
    },
    {
     "ename": "Error",
     "evalue": "used binding `y` isn't initialized",
     "output_type": "error",
     "traceback": [
      "    assert_eq!(y, 5);",
      "\u001b[91m    ^^^^^^^^^^^^^^^^\u001b[0m \u001b[94m`y` used here but it isn't initialized\u001b[0m",
      "    let y: i32;         // 변수 선언 ",
      "\u001b[91m        ^\u001b[0m \u001b[94mbinding declared here but left uninitialized\u001b[0m",
      "used binding `y` isn't initialized",
      "\u001b[1mhelp\u001b[0m: consider assigning a value\n\n = 42"
     ]
    }
   ],
   "source": [
    "fn main() {\n",
    "    let x: i32;         // 변수 선언 \n",
    "    let y: i32;         // 변수 선언 \n",
    "                        // 변수 정의 없음 \n",
    "    assert_eq!(x, 5);\n",
    "    assert_eq!(y, 5);\n",
    "    println!(\"Success!\");\n",
    "}\n",
    "\n",
    "main();"
   ]
  },
  {
   "cell_type": "code",
   "execution_count": null,
   "id": "8db7c84b-af21-4b94-809c-212f931ccd8d",
   "metadata": {},
   "outputs": [],
   "source": []
  },
  {
   "cell_type": "markdown",
   "id": "0b5728ff",
   "metadata": {},
   "source": [
    "### 변수 선언과 정의하기 "
   ]
  },
  {
   "cell_type": "code",
   "execution_count": 4,
   "id": "103ebbca",
   "metadata": {},
   "outputs": [
    {
     "name": "stdout",
     "output_type": "stream",
     "text": [
      "Success!\n"
     ]
    }
   ],
   "source": [
    "fn main() {\n",
    "    let x: i32 ;           // 변수 선언 \n",
    "    let y: i32 ;           // 변수 선언 \n",
    "    \n",
    "    x = 5;                 //변수 정의 , 초기값 할당 \n",
    "    y = 5;\n",
    "\n",
    "    assert_eq!(x, 5);\n",
    "    assert_eq!(y, 5);\n",
    "    println!(\"Success!\");\n",
    "}\n",
    "\n",
    "main();"
   ]
  },
  {
   "cell_type": "code",
   "execution_count": null,
   "id": "bfa73941-605a-4720-9296-a93c60ae0453",
   "metadata": {},
   "outputs": [],
   "source": []
  },
  {
   "cell_type": "markdown",
   "id": "5f804ce0",
   "metadata": {},
   "source": [
    "## 2-2  변수 바인딩\n",
    "\n",
    "- 러스트에서 변수 바인딩은 변수에 값을 할당하는 과정을 의미합니다. \n",
    "- 러스트에서는 변수를 선언할 때 let 키워드를 사용하여 변수를 바인딩합니다."
   ]
  },
  {
   "cell_type": "markdown",
   "id": "6715e6fa",
   "metadata": {},
   "source": [
    "### 변수의 참조\n",
    "\n",
    "- 변수가 가르키는 주소의 값을 가져와서 처리\n",
    "- 변수의 저장된 값을 조회 "
   ]
  },
  {
   "cell_type": "code",
   "execution_count": 10,
   "id": "9fb41008",
   "metadata": {},
   "outputs": [
    {
     "name": "stdout",
     "output_type": "stream",
     "text": [
      "100\n",
      "0x16d2f68c4\n",
      "0x16d2f68c4\n"
     ]
    }
   ],
   "source": [
    "fn main() {\n",
    "    let var = 100;\n",
    "    println!(\"{}\", var);        // 출력은 문자열 사이에 {} 로 출력함 \n",
    "    println!(\"{:p}\", &var);     //  {} 사이에 : 을 쓰고 p를 처리하면 주소를 출력함 \n",
    "                                // 변수에 &를 붙여서 참조를 사용하기 \n",
    "    let ref var1 = var;         // 변수에 ref 키워드로 참조를 표시하기\n",
    "    println!(\"{:p}\", var1);\n",
    "    \n",
    "}\n",
    "\n",
    "main();"
   ]
  },
  {
   "cell_type": "code",
   "execution_count": null,
   "id": "56ceb36d",
   "metadata": {},
   "outputs": [],
   "source": []
  },
  {
   "cell_type": "markdown",
   "id": "c7e1793c",
   "metadata": {},
   "source": [
    "## 2-3 불변변수에 재할당한 경우 \n",
    "\n",
    "- 컴파일러가 재할당 불가에 대한 에러를 처리함"
   ]
  },
  {
   "cell_type": "markdown",
   "id": "80b7564b",
   "metadata": {},
   "source": [
    "### 불변변수는 재할당하면 에러를 발생 시킴 "
   ]
  },
  {
   "cell_type": "code",
   "execution_count": 5,
   "id": "8c36e1e3",
   "metadata": {},
   "outputs": [
    {
     "ename": "Error",
     "evalue": "cannot assign twice to immutable variable `x`",
     "output_type": "error",
     "traceback": [
      "\u001b[31m[E0384] Error:\u001b[0m cannot assign twice to immutable variable `x`",
      "   \u001b[38;5;246m╭\u001b[0m\u001b[38;5;246m─\u001b[0m\u001b[38;5;246m[\u001b[0mcommand_5:1:1\u001b[38;5;246m]\u001b[0m",
      "   \u001b[38;5;246m│\u001b[0m",
      " \u001b[38;5;246m2 │\u001b[0m \u001b[38;5;249m \u001b[0m\u001b[38;5;249m \u001b[0m\u001b[38;5;249m \u001b[0m\u001b[38;5;249m \u001b[0m\u001b[38;5;249ml\u001b[0m\u001b[38;5;249me\u001b[0m\u001b[38;5;249mt\u001b[0m\u001b[38;5;249m \u001b[0m\u001b[38;5;54mx\u001b[0m\u001b[38;5;249m \u001b[0m\u001b[38;5;249m=\u001b[0m\u001b[38;5;249m \u001b[0m\u001b[38;5;249m5\u001b[0m\u001b[38;5;249m;\u001b[0m",
      " \u001b[38;5;240m  │\u001b[0m         \u001b[38;5;54m┬\u001b[0m  ",
      " \u001b[38;5;240m  │\u001b[0m         \u001b[38;5;54m╰\u001b[0m\u001b[38;5;54m─\u001b[0m\u001b[38;5;54m─\u001b[0m first assignment to `x`",
      " \u001b[38;5;240m  │\u001b[0m         \u001b[38;5;68m│\u001b[0m  ",
      " \u001b[38;5;240m  │\u001b[0m         \u001b[38;5;68m╰\u001b[0m\u001b[38;5;68m─\u001b[0m\u001b[38;5;68m─\u001b[0m help: consider making this binding mutable: `mut `",
      " \u001b[38;5;240m  │\u001b[0m ",
      " \u001b[38;5;246m4 │\u001b[0m \u001b[38;5;249m \u001b[0m\u001b[38;5;249m \u001b[0m\u001b[38;5;249m \u001b[0m\u001b[38;5;249m \u001b[0m\u001b[38;5;100mx\u001b[0m\u001b[38;5;100m \u001b[0m\u001b[38;5;100m=\u001b[0m\u001b[38;5;100m \u001b[0m\u001b[38;5;100m6\u001b[0m\u001b[38;5;249m;\u001b[0m",
      " \u001b[38;5;240m  │\u001b[0m     \u001b[38;5;100m─\u001b[0m\u001b[38;5;100m─\u001b[0m\u001b[38;5;100m┬\u001b[0m\u001b[38;5;100m─\u001b[0m\u001b[38;5;100m─\u001b[0m  ",
      " \u001b[38;5;240m  │\u001b[0m       \u001b[38;5;100m╰\u001b[0m\u001b[38;5;100m─\u001b[0m\u001b[38;5;100m─\u001b[0m\u001b[38;5;100m─\u001b[0m\u001b[38;5;100m─\u001b[0m cannot assign twice to immutable variable",
      " \u001b[38;5;240m  │\u001b[0m ",
      " \u001b[38;5;240m  │\u001b[0m \u001b[38;5;115mNote\u001b[0m: You can change an existing variable to mutable like: `let mut x = x;`",
      "\u001b[38;5;246m───╯\u001b[0m"
     ]
    }
   ],
   "source": [
    "fn main() {\n",
    "    let x = 5;\n",
    "    println!(\"The value of x is: {}\", x);\n",
    "    x = 6;\n",
    "    println!(\"The value of x is: {}\", x);\n",
    "}"
   ]
  },
  {
   "cell_type": "markdown",
   "id": "7d855533-1389-440f-b263-5731d6562284",
   "metadata": {},
   "source": [
    "### 다른 변수를 지정해서 처리 "
   ]
  },
  {
   "cell_type": "code",
   "execution_count": 6,
   "id": "d3f22027",
   "metadata": {},
   "outputs": [
    {
     "name": "stdout",
     "output_type": "stream",
     "text": [
      "The value of x is: 5\n",
      "The value of y {} is: 110\n"
     ]
    }
   ],
   "source": [
    "fn main() {\n",
    "    let x = 5;\n",
    "    println!(\"The value of x is: {x}\");\n",
    "    let y = 6;\n",
    "    println!(\"The value of y {{}} is: {y:b}\");   // y 변수를 직접 포매팅에 사용하고 ;b 로 10진수를 2진수로 표시 \n",
    "}\n",
    "\n",
    "main();"
   ]
  },
  {
   "cell_type": "code",
   "execution_count": null,
   "id": "4416573d",
   "metadata": {},
   "outputs": [],
   "source": []
  },
  {
   "cell_type": "markdown",
   "id": "e8300006",
   "metadata": {},
   "source": [
    "## 2- 4 변수 새도우잉\n",
    "\n",
    "- 불변변수는 동일한 이름으로 변수를 다시 생성이 가능\n",
    "- 그러면 새로운 값이 변수에 할당됨 "
   ]
  },
  {
   "cell_type": "markdown",
   "id": "c4c7cc14-8583-40f4-9ca5-b1dad7b18230",
   "metadata": {},
   "source": [
    "### 동일한 이름으로 변수를 연달아서 재정의\n",
    "\n",
    "-  불변변수일 때만 가능"
   ]
  },
  {
   "cell_type": "code",
   "execution_count": 7,
   "id": "11d1b2d5",
   "metadata": {},
   "outputs": [
    {
     "name": "stdout",
     "output_type": "stream",
     "text": [
      "The value of x is: 5\n",
      "The value of x is: 문자열\n"
     ]
    }
   ],
   "source": [
    "fn main() {\n",
    "    let x = 5;\n",
    "    println!(\"The value of x is: {}\", x);\n",
    "    let x = \"문자열\";\n",
    "    println!(\"The value of x is: {}\", x);\n",
    "}\n",
    "\n",
    "main();"
   ]
  },
  {
   "cell_type": "code",
   "execution_count": 8,
   "id": "9e4d3093",
   "metadata": {},
   "outputs": [
    {
     "name": "stdout",
     "output_type": "stream",
     "text": [
      "The value of x is: 12\n"
     ]
    }
   ],
   "source": [
    "fn main() {\n",
    "    let x = 5;\n",
    "\n",
    "    let x = x + 1;\n",
    "\n",
    "    let x = x * 2;\n",
    "\n",
    "    println!(\"The value of x is: {}\", x);\n",
    "}\n",
    "\n",
    "main();"
   ]
  },
  {
   "cell_type": "code",
   "execution_count": null,
   "id": "ffbe570d",
   "metadata": {},
   "outputs": [],
   "source": []
  },
  {
   "cell_type": "code",
   "execution_count": null,
   "id": "4b282afd",
   "metadata": {},
   "outputs": [],
   "source": []
  },
  {
   "cell_type": "markdown",
   "id": "75bfc6ee",
   "metadata": {},
   "source": [
    "## 2-5  변경가능한 변수 \n",
    "\n",
    "- mut 예약어를 사용해서 변수에 재할당을 가능하도록 처리\n",
    "-  "
   ]
  },
  {
   "cell_type": "markdown",
   "id": "bbef24b4",
   "metadata": {},
   "source": [
    "### 변수의 변경가능성 \n",
    "\n",
    "- 재할당되면 변수는 그대로 있고 그 내부의 가르치는 주소의 값 변경되는 것이다"
   ]
  },
  {
   "cell_type": "code",
   "execution_count": 11,
   "id": "216faf39",
   "metadata": {},
   "outputs": [
    {
     "name": "stdout",
     "output_type": "stream",
     "text": [
      "0x16d2f68b4 \n",
      "200 \n",
      "0x16d2f68b4 \n",
      "300 \n"
     ]
    }
   ],
   "source": [
    "fn main() {\n",
    "    let mut mutVar = 200;            // 변수 이름 앞에 mut 지정 \n",
    "\n",
    "    println!(\"{:p} \", &mutVar);      // 변수의 주소를 출력 \n",
    "    println!(\"{} \", mutVar);         // 변수의 값을 출력 \n",
    "\n",
    "    mutVar = 300;                    // 변수의 값을 변경 \n",
    "    println!(\"{:p} \", &mutVar);      // 변수가 참조하는 주소는 동일 \n",
    "    println!(\"{} \", mutVar);         // 내부의 값만 변경됨 \n",
    "}\n",
    "\n",
    "main();"
   ]
  },
  {
   "cell_type": "code",
   "execution_count": null,
   "id": "f4b321fe",
   "metadata": {},
   "outputs": [],
   "source": []
  },
  {
   "cell_type": "code",
   "execution_count": null,
   "id": "bc59ecdd",
   "metadata": {},
   "outputs": [],
   "source": []
  },
  {
   "cell_type": "markdown",
   "id": "5dcaa61e",
   "metadata": {},
   "source": [
    "## 2-6 변수 유효범위 \n",
    "\n",
    "- 러스트도 전역과 지역 유효범위를 가진다.\n",
    "- 지역 내에도 블럭을 지정해서 더 작은 유효범위를 지정할 수 있다. "
   ]
  },
  {
   "cell_type": "markdown",
   "id": "2eec89b9",
   "metadata": {},
   "source": [
    "### 변수는 유효범위 내에서만 사용가능 \n",
    "\n",
    "- 변수는 블럭단위의 유효범위를 가짐\n",
    "- 내부 블럭에 지정된 y변수는 블럭이 끝나면 사용할 수 없다. "
   ]
  },
  {
   "cell_type": "code",
   "execution_count": 14,
   "id": "914b90d2",
   "metadata": {},
   "outputs": [
    {
     "name": "stdout",
     "output_type": "stream",
     "text": [
      "The value of x is 10 and value of y is 5\n",
      "The value of x is 10 and \n"
     ]
    }
   ],
   "source": [
    "\n",
    "fn main() {\n",
    "    let x: i32 = 10;\n",
    "    {\n",
    "        let y: i32 = 5;\n",
    "        println!(\"The value of x is {} and value of y is {}\", x, y);\n",
    "    }\n",
    "    println!(\"The value of x is {} and value of y is {}\", x, y); \n",
    "}\n",
    "\n",
    "main();"
   ]
  },
  {
   "cell_type": "markdown",
   "id": "8fc5ed16",
   "metadata": {},
   "source": [
    "### 동일한 유효범위내에서만 사용이 가능 "
   ]
  },
  {
   "cell_type": "code",
   "execution_count": 10,
   "id": "2e7f86a9",
   "metadata": {},
   "outputs": [
    {
     "name": "stdout",
     "output_type": "stream",
     "text": [
      "The value of x is 10 and value of y is 5\n"
     ]
    }
   ],
   "source": [
    "\n",
    "fn main() {\n",
    "    let x: i32 = 10;\n",
    "    let y: i32 = 5;\n",
    "    println!(\"The value of x is {} and value of y is {}\", x, y);\n",
    "}\n",
    "\n",
    "main();"
   ]
  },
  {
   "cell_type": "code",
   "execution_count": null,
   "id": "18a52011",
   "metadata": {},
   "outputs": [],
   "source": []
  },
  {
   "cell_type": "markdown",
   "id": "05fca8b6",
   "metadata": {},
   "source": [
    "# 3. 변수에 저장되는 값 알아보기 \n",
    "\n",
    "- 메모리에 값이 저장되고 이 값이 저장된 주소가 변수에 할당된다.\n",
    "- 이때 저장된 곳이 값이 주소일 경우가 있다. 즉 레퍼런스를 보관하는 객체을 구별해야 한다.\n",
    "- 보통 레퍼런스를 저장하는 경우는 힙에 데이터를 생성한다. 값으로 관리하는 것은 주로 스택에 저장한다. "
   ]
  },
  {
   "cell_type": "markdown",
   "id": "6a1a2829",
   "metadata": {},
   "source": [
    "### 값 저장:\n",
    "\n",
    "- 프로그래밍 언어에서 변수나 객체는 값을 저장하기 위해 메모리에 공간을 할당받습니다.\n",
    "- 변수는 값을 저장하기 위한 임시적인 공간이며, 객체는 상태와 동작을 포함하는 데이터 구조입니다.\n",
    "- 값은 프로그램의 실행 동안 변경될 수 있고, 연산이나 조작에 사용됩니다."
   ]
  },
  {
   "cell_type": "markdown",
   "id": "63adc4f4",
   "metadata": {},
   "source": [
    "### 값에 대한 주소를 비교하기 \n",
    "\n",
    "- use std::ptr 내의 eq 함수로 사용해서 주소를 비교한다. "
   ]
  },
  {
   "cell_type": "code",
   "execution_count": 16,
   "id": "ce3da5e0",
   "metadata": {},
   "outputs": [
    {
     "name": "stdout",
     "output_type": "stream",
     "text": [
      "a와 b는 같은 메모리를 가리킵니다.\n",
      "a와 c는 다른 메모리를 가리킵니다.\n"
     ]
    }
   ],
   "source": [
    "use std::ptr;\n",
    "\n",
    "fn main() {\n",
    "    let a = &42;\n",
    "    let b = &42;\n",
    "    let c = &10;\n",
    "\n",
    "    if ptr::eq(a, b) {\n",
    "        println!(\"a와 b는 같은 메모리를 가리킵니다.\");\n",
    "    }\n",
    "\n",
    "    if !ptr::eq(a, c) {\n",
    "        println!(\"a와 c는 다른 메모리를 가리킵니다.\");\n",
    "    }\n",
    "}\n",
    "\n",
    "main();"
   ]
  },
  {
   "cell_type": "code",
   "execution_count": null,
   "id": "7e57129b",
   "metadata": {},
   "outputs": [],
   "source": []
  },
  {
   "cell_type": "markdown",
   "id": "346054c4",
   "metadata": {},
   "source": [
    "### 주소 저장:\n",
    "\n",
    "- 주소는 메모리 상의 위치를 식별하는 데 사용됩니다.\n",
    "- 변수나 객체의 주소는 해당 값이 저장된 메모리 위치를 가리킵니다.\n",
    "- 주소를 사용하여 변수나 객체를 찾아가서 해당 값에 접근하거나 변경할 수 있습니다."
   ]
  },
  {
   "cell_type": "markdown",
   "id": "48242095",
   "metadata": {},
   "source": [
    "### 참조 를 출력하기 "
   ]
  },
  {
   "cell_type": "code",
   "execution_count": 16,
   "id": "2b0505c3",
   "metadata": {},
   "outputs": [
    {
     "name": "stdout",
     "output_type": "stream",
     "text": [
      "참조의 주소: 0x16d872ad4\n",
      "참조의 값  : 42\n",
      "값의 주소: 0x103a7beac\n"
     ]
    }
   ],
   "source": [
    "fn main() {\n",
    "    let value = 42;\n",
    "    let reference = &value; // 변수 value의 참조를 생성합니다.\n",
    "\n",
    "    println!(\"참조의 주소: {:p}\", reference);  // 참조의 주소 출력\n",
    "    println!(\"참조의 값  : { }\", *reference); // 역참조로 참조 내의 값을 조회\n",
    "    println!(\"값의 주소: {:p}\", &42);          // 값에 대한 참조   \n",
    "}\n",
    "\n",
    "main();"
   ]
  },
  {
   "cell_type": "code",
   "execution_count": null,
   "id": "3906edc8",
   "metadata": {},
   "outputs": [],
   "source": []
  },
  {
   "cell_type": "code",
   "execution_count": null,
   "id": "fce2b1b5",
   "metadata": {},
   "outputs": [],
   "source": []
  },
  {
   "cell_type": "markdown",
   "id": "4dadbbb3",
   "metadata": {},
   "source": [
    "# 4. 다양한 변수 할당 방법"
   ]
  },
  {
   "cell_type": "markdown",
   "id": "ead02b94",
   "metadata": {},
   "source": [
    "## 4-1 구조분해\n",
    "\n",
    "- 튜플 등의 시퀀스의 값을 변수에 할당해서 처리 "
   ]
  },
  {
   "cell_type": "markdown",
   "id": "9e38f32c",
   "metadata": {},
   "source": [
    "## 튜플이란 \n",
    "\n",
    "- 튜플은 고정된 길이를 가지며, 튜플의 크기는 튜플을 생성할 때 지정됩니다.\n",
    "- 튜플은 서로 다른 데이터 형식의 값을 포함할 수 있습니다.\n",
    "- 튜플은 순서가 있습니다.\n",
    "\n",
    "\n",
    "### 튜플은 다음과 같은 다양한 용도로 사용할 수 있습니다.\n",
    "\n",
    "- 함수의 반환 값으로 사용할 수 있습니다.\n",
    "- 함수의 인수로 사용할 수 있습니다.\n",
    "- 데이터를 전달하는 데 사용할 수 있습니다.\n"
   ]
  },
  {
   "cell_type": "markdown",
   "id": "efd69674",
   "metadata": {},
   "source": [
    "### 튜플 생성 "
   ]
  },
  {
   "cell_type": "code",
   "execution_count": 5,
   "id": "3ffae761",
   "metadata": {},
   "outputs": [],
   "source": [
    "let tuple = (1, \"hello\", true);"
   ]
  },
  {
   "cell_type": "markdown",
   "id": "a143cdcf",
   "metadata": {},
   "source": [
    "### 프리티미 원소는 복사되어서 소유권이 생성됨"
   ]
  },
  {
   "cell_type": "code",
   "execution_count": 6,
   "id": "88d077f9",
   "metadata": {},
   "outputs": [],
   "source": [
    "let x = tuple.0; // 1\n",
    "let y = tuple.1; // \"hello\"\n",
    "let z = tuple.2; // true"
   ]
  },
  {
   "cell_type": "code",
   "execution_count": 7,
   "id": "7fb44155",
   "metadata": {},
   "outputs": [
    {
     "data": {
      "text/plain": [
       "(1, \"hello\", true)"
      ]
     },
     "execution_count": 7,
     "metadata": {},
     "output_type": "execute_result"
    }
   ],
   "source": [
    "tuple"
   ]
  },
  {
   "cell_type": "markdown",
   "id": "9ebb20a0",
   "metadata": {},
   "source": [
    "## 타입을 확인하기 "
   ]
  },
  {
   "cell_type": "code",
   "execution_count": 11,
   "id": "26c9007a",
   "metadata": {},
   "outputs": [],
   "source": [
    "use std::any::type_name;\n",
    "\n",
    "fn type_of<T>(_: T) -> &'static str {\n",
    "    type_name::<T>()\n",
    "}"
   ]
  },
  {
   "cell_type": "code",
   "execution_count": 14,
   "id": "5a0d9b8d",
   "metadata": {},
   "outputs": [
    {
     "name": "stdout",
     "output_type": "stream",
     "text": [
      " \"(i32, &str, bool)\" \n"
     ]
    }
   ],
   "source": [
    "println!(\" {:?} \",type_of(tuple));"
   ]
  },
  {
   "cell_type": "markdown",
   "id": "47df1a7e",
   "metadata": {},
   "source": [
    "### 튜플 구조분해 \n",
    "\n",
    "-  튜플의 원소를 변수에 할당해서 각각 분리하는 방법\n"
   ]
  },
  {
   "cell_type": "code",
   "execution_count": 12,
   "id": "0ae74844",
   "metadata": {},
   "outputs": [
    {
     "name": "stdout",
     "output_type": "stream",
     "text": [
      "Success!\n"
     ]
    }
   ],
   "source": [
    "fn main() {\n",
    "    let (x, y) = (1, 2);\n",
    "\n",
    "    assert_eq!(x, 1);\n",
    "    assert_eq!(y, 2);\n",
    "\n",
    "    println!(\"Success!\");\n",
    "}\n",
    "main();"
   ]
  },
  {
   "cell_type": "markdown",
   "id": "94d17c84",
   "metadata": {},
   "source": [
    "### 리스트와 튜플 구조분해\n",
    "\n",
    "- 실제 필요한 값에만 변수를 지정해서 구조분해 하기 "
   ]
  },
  {
   "cell_type": "code",
   "execution_count": 12,
   "id": "087ba62d",
   "metadata": {},
   "outputs": [
    {
     "name": "stdout",
     "output_type": "stream",
     "text": [
      " 200 100\n",
      " (300,) \n",
      "Success!\n"
     ]
    }
   ],
   "source": [
    "fn main() {\n",
    "    let a = 100;\n",
    "    let b = 200; \n",
    "    let c = (300,);\n",
    "    let (b,a) = (a,b);\n",
    "    \n",
    "    println!(\" {a} {b}\");\n",
    "    println!(\" {c:?} \");\n",
    "    \n",
    "    let (x, y);\n",
    "    (x,..) = (3, 4);           // 사용하지 않는 것은 생략 가능 \n",
    "    [.., y] = [1, 2];          // 사용하지 않는 것은 생략 가능 \n",
    "  \n",
    "    assert_eq!(x, 3);\n",
    "    assert_eq!(y, 2);\n",
    "\n",
    "    println!(\"Success!\");\n",
    "} \n",
    "main();"
   ]
  },
  {
   "cell_type": "code",
   "execution_count": null,
   "id": "96664f98",
   "metadata": {},
   "outputs": [],
   "source": []
  },
  {
   "cell_type": "code",
   "execution_count": null,
   "id": "029557aa",
   "metadata": {},
   "outputs": [],
   "source": []
  }
 ],
 "metadata": {
  "kernelspec": {
   "display_name": "Rust",
   "language": "rust",
   "name": "rust"
  },
  "language_info": {
   "codemirror_mode": "rust",
   "file_extension": ".rs",
   "mimetype": "text/rust",
   "name": "Rust",
   "pygment_lexer": "rust",
   "version": ""
  }
 },
 "nbformat": 4,
 "nbformat_minor": 5
}
