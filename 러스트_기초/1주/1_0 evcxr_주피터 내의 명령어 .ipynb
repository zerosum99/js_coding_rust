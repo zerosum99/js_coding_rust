{
 "cells": [
  {
   "cell_type": "markdown",
   "id": "1e0ee3e8",
   "metadata": {},
   "source": [
    "# 1. 러스트 환경 구축"
   ]
  },
  {
   "cell_type": "markdown",
   "id": "9f607500-b8e1-4e4b-982b-ff04e53d8909",
   "metadata": {},
   "source": [
    "\n",
    "\n",
    " \n",
    "\n",
    "# evcxr를 **아나콘다(Anaconda)**의 가상 환경에 설치하는 방법을 설명드리겠습니다. \n",
    "\n",
    "이 과정은 Rust 커널을 Jupyter에서 사용할 수 있도록 아나콘다 환경 내에 설치하는 절차입니다. \n",
    "\n",
    "# 단계별 설치 과정:\n",
    "## 1. Anaconda 가상 환경 생성 및 활성화\n",
    "- 먼저, 원하는 아나콘다 가상 환경을 생성하고 활성화해야 합니다. 터미널에서 다음 명령어를 사용하세요:\n",
    "\n",
    "> conda create --name rust_env python=3.8\n",
    "\n",
    "> conda activate rust_env\n",
    "\n",
    "- 여기서 rust_env는 가상 환경의 이름입니다. 필요에 따라 다른 이름을 사용할 수 있으며, Python 버전도 원하는 대로 조정 가능합니다.\n",
    "\n",
    "## 2. Rust 설치\n",
    "- Anaconda 가상 환경에 Rust를 설치해야 합니다. Rust는 rustup 도구를 통해 설치됩니다. 다음 명령어를 실행하여 Rust 설치를 진행하세요:\n",
    "\n",
    "> curl --proto '=https' --tlsv1.2 -sSf <https://sh.rustup.rs> | sh\n",
    "\n",
    "- 설치 중에는 기본 설정을 사용하거나, 원하는 설정을 선택할 수 있습니다. 설치가 완료되면 환경 변수를 활성화하는 명령을 실행하세요:\n",
    "\n",
    "\n",
    "\n",
    "> source $HOME/.cargo/env\n",
    "\n",
    "## 3. evcxr_jupyter 설치\n",
    "\n",
    "- Rust 설치가 완료되면, evcxr_jupyter를 설치해야 합니다. 이는 Jupyter에서 Rust 커널을 사용하기 위해 필요한 패키지입니다. 터미널에서 다음 명령어를 사용하여 설치하세요:\n",
    "\n",
    "> cargo install evcxr_jupyter\n",
    "\n",
    "- 설치가 완료되면 Jupyter 노트북에서 Rust 커널을 사용할 수 있도록 등록합니다:\n",
    "\n",
    "> evcxr_jupyter --install\n",
    "\n",
    "##  4. Jupyter 설치 및 실행\n",
    "\n",
    "- 아나콘다 환경에 Jupyter가 설치되어 있지 않다면, Jupyter를 설치해야 합니다. 다음 명령어를 사용하여 Jupyter 노트북을 설치하세요:\n",
    "\n",
    "> conda install jupyter\n",
    "\n",
    "그 후, Jupyter 노트북을 실행합니다:\n",
    "\n",
    "> jupyter notebook\n",
    "\n",
    "## 5. Rust 커널 사용\n",
    "\n",
    "- 이제 Jupyter 노트북에서 Rust 커널을 사용할 수 있습니다. 새로운 노트북을 생성할 때, Rust 커널을 선택하고 Rust 코드를 실행할 수 있습니다.\n",
    "\n"
   ]
  },
  {
   "cell_type": "code",
   "execution_count": null,
   "id": "77667f6f-fbe8-4704-b716-f9bd260407ee",
   "metadata": {},
   "outputs": [],
   "source": []
  },
  {
   "cell_type": "code",
   "execution_count": null,
   "id": "7f100714-97b2-4955-bb4e-669cb85648a0",
   "metadata": {},
   "outputs": [],
   "source": []
  },
  {
   "cell_type": "markdown",
   "id": "2440591a",
   "metadata": {},
   "source": [
    "## 1-1 주피터노트북에 러스트(evcxr) 설치하기¶\n",
    "https://pipln.medium.com/rust-%EB%A5%BC-jupyter-notebook-%EC%82%AC%EC%9A%A9%ED%95%98%EA%B8%B0-cd939324e23f"
   ]
  },
  {
   "cell_type": "markdown",
   "id": "ef575f09",
   "metadata": {},
   "source": [
    "## \n",
    "\n",
    "https://depth-first.com/articles/2020/09/21/interactive-rust-in-a-repl-and-jupyter-notebook-with-evcxr/"
   ]
  },
  {
   "cell_type": "markdown",
   "id": "522571ae",
   "metadata": {},
   "source": [
    "## 1-2 인텔리제이에 러스트 설치하기\n",
    "https://wecandev.tistory.com/145"
   ]
  },
  {
   "cell_type": "code",
   "execution_count": null,
   "id": "a2a371f5",
   "metadata": {},
   "outputs": [],
   "source": []
  },
  {
   "cell_type": "markdown",
   "id": "7e25515b",
   "metadata": {},
   "source": [
    "# 2. 러스트 주피터의 주요 명령어 "
   ]
  },
  {
   "cell_type": "code",
   "execution_count": 4,
   "id": "1b345699",
   "metadata": {},
   "outputs": [
    {
     "data": {
      "text/html": [
       "<table>\n",
       "<tr><td>:clear</td><td>Clear all state, keeping compilation cache</td></tr>\n",
       "<tr><td>:dep</td><td>Add dependency. e.g. :dep regex = \"1.0\"</td></tr>\n",
       "<tr><td>:efmt</td><td>Set the formatter for errors returned by ?</td></tr>\n",
       "<tr><td>:explain</td><td>Print explanation of last error</td></tr>\n",
       "<tr><td>:fmt</td><td>Set output formatter (default: {:?})</td></tr>\n",
       "<tr><td>:help</td><td>Print command help</td></tr>\n",
       "<tr><td>:internal_debug</td><td>Toggle various internal debugging code</td></tr>\n",
       "<tr><td>:last_compile_dir</td><td>Print the directory in which we last compiled</td></tr>\n",
       "<tr><td>:last_error_json</td><td>Print the last compilation error as JSON (for debugging)</td></tr>\n",
       "<tr><td>:linker</td><td>Set/print linker. Supported: system, lld, mold</td></tr>\n",
       "<tr><td>:load_config</td><td>Reloads startup configuration files. Accepts optional flag `--quiet` to suppress logging.</td></tr>\n",
       "<tr><td>:offline</td><td>Set offline mode when invoking cargo</td></tr>\n",
       "<tr><td>:opt</td><td>Set optimization level (0/1/2)</td></tr>\n",
       "<tr><td>:preserve_vars_on_panic</td><td>Try to keep vars on panic (0/1)</td></tr>\n",
       "<tr><td>:quit</td><td>Quit evaluation and exit</td></tr>\n",
       "<tr><td>:sccache</td><td>Set whether to use sccache (0/1).</td></tr>\n",
       "<tr><td>:time_passes</td><td>Toggle printing of rustc pass times (requires nightly)</td></tr>\n",
       "<tr><td>:timing</td><td>Toggle printing of how long evaluations take</td></tr>\n",
       "<tr><td>:toolchain</td><td>Set which toolchain to use (e.g. nightly)</td></tr>\n",
       "<tr><td>:vars</td><td>List bound variables and their types</td></tr>\n",
       "<tr><td>:version</td><td>Print Evcxr version</td></tr>\n",
       "</table>\n"
      ],
      "text/plain": [
       ":clear            Clear all state, keeping compilation cache\n",
       ":dep              Add dependency. e.g. :dep regex = \"1.0\"\n",
       ":efmt             Set the formatter for errors returned by ?\n",
       ":explain          Print explanation of last error\n",
       ":fmt              Set output formatter (default: {:?})\n",
       ":help             Print command help\n",
       ":internal_debug   Toggle various internal debugging code\n",
       ":last_compile_dir Print the directory in which we last compiled\n",
       ":last_error_json  Print the last compilation error as JSON (for debugging)\n",
       ":linker           Set/print linker. Supported: system, lld, mold\n",
       ":load_config      Reloads startup configuration files. Accepts optional flag `--quiet` to suppress logging.\n",
       ":offline          Set offline mode when invoking cargo\n",
       ":opt              Set optimization level (0/1/2)\n",
       ":preserve_vars_on_panic Try to keep vars on panic (0/1)\n",
       ":quit             Quit evaluation and exit\n",
       ":sccache          Set whether to use sccache (0/1).\n",
       ":time_passes      Toggle printing of rustc pass times (requires nightly)\n",
       ":timing           Toggle printing of how long evaluations take\n",
       ":toolchain        Set which toolchain to use (e.g. nightly)\n",
       ":vars             List bound variables and their types\n",
       ":version          Print Evcxr version\n"
      ]
     },
     "execution_count": 4,
     "metadata": {},
     "output_type": "execute_result"
    }
   ],
   "source": [
    ":help"
   ]
  },
  {
   "cell_type": "code",
   "execution_count": 2,
   "id": "e51048e8",
   "metadata": {},
   "outputs": [
    {
     "data": {
      "text/plain": [
       "0.17.0\n"
      ]
     },
     "execution_count": 2,
     "metadata": {},
     "output_type": "execute_result"
    }
   ],
   "source": [
    ":version"
   ]
  },
  {
   "cell_type": "markdown",
   "id": "1696bda2",
   "metadata": {},
   "source": [
    "## 주피터에서 표준입력 처리하기 "
   ]
  },
  {
   "cell_type": "code",
   "execution_count": 3,
   "id": "4143ca90",
   "metadata": {},
   "outputs": [
    {
     "name": "stdin",
     "output_type": "stream",
     "text": [
      "Name? 가을이\n",
      "Password? ········\n"
     ]
    }
   ],
   "source": [
    ":dep evcxr_input\n",
    "let name = evcxr_input::get_string(\"Name?\");\n",
    "let password = evcxr_input::get_password(\"Password?\");"
   ]
  },
  {
   "cell_type": "code",
   "execution_count": 4,
   "id": "d6dc42a1",
   "metadata": {},
   "outputs": [
    {
     "data": {
      "text/plain": [
       "\"가을이\""
      ]
     },
     "execution_count": 4,
     "metadata": {},
     "output_type": "execute_result"
    }
   ],
   "source": [
    "name"
   ]
  },
  {
   "cell_type": "code",
   "execution_count": 5,
   "id": "9b681856",
   "metadata": {},
   "outputs": [
    {
     "data": {
      "text/plain": [
       "\"dhsmfdl\""
      ]
     },
     "execution_count": 5,
     "metadata": {},
     "output_type": "execute_result"
    }
   ],
   "source": [
    "password"
   ]
  },
  {
   "cell_type": "markdown",
   "id": "9451ec76",
   "metadata": {},
   "source": [
    "## 주피터로 가능한 다양한 언어"
   ]
  },
  {
   "cell_type": "markdown",
   "id": "da34abb5-656b-48ae-b341-e208dbf46ab6",
   "metadata": {},
   "source": [
    "## \n",
    "\n",
    " > https://qiita.com/smileyFace/items/7c8402545330c6ea729e"
   ]
  },
  {
   "cell_type": "code",
   "execution_count": null,
   "id": "3c2988dc",
   "metadata": {},
   "outputs": [],
   "source": []
  }
 ],
 "metadata": {
  "kernelspec": {
   "display_name": "Rust",
   "language": "rust",
   "name": "rust"
  },
  "language_info": {
   "codemirror_mode": "rust",
   "file_extension": ".rs",
   "mimetype": "text/rust",
   "name": "Rust",
   "pygment_lexer": "rust",
   "version": ""
  }
 },
 "nbformat": 4,
 "nbformat_minor": 5
}
