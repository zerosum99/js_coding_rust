{
 "cells": [
  {
   "cell_type": "code",
   "execution_count": null,
   "id": "8b1e9663",
   "metadata": {},
   "outputs": [],
   "source": []
  },
  {
   "cell_type": "markdown",
   "id": "08dfea11",
   "metadata": {},
   "source": [
    "## 자료형을 확인하는 함수 만들기\n",
    "\n",
    "- 특정 타입에 대한 이름을 출력하는 함수를 정의\n",
    "- 문자열로 자료형의 정보를 제공함"
   ]
  },
  {
   "cell_type": "code",
   "execution_count": 5,
   "id": "f9f64cbc",
   "metadata": {},
   "outputs": [],
   "source": [
    "use std::any::type_name;\n",
    "\n",
    "fn type_of<T>(_: T) -> &'static str {\n",
    "    type_name::<T>()\n",
    "}"
   ]
  },
  {
   "cell_type": "code",
   "execution_count": null,
   "id": "7f200a99",
   "metadata": {},
   "outputs": [],
   "source": []
  },
  {
   "cell_type": "markdown",
   "id": "0d32203a",
   "metadata": {},
   "source": [
    "## 1. 문자열 처리 \n",
    "\n",
    "- 변경불가한 문자열 리터럴(str) :  문자열이 정의되면 정적영역에 보관되고 그 참조만 사용\n",
    "- 변경가능한 문자열(String) : 문자열을 힙 메모리 영역에 보관해서 처리\n",
    "\n",
    "- 문자열 리터럴은 참조만 가능하지만 String 문자열은 소유권 이동도 가능\n",
    "\n"
   ]
  },
  {
   "cell_type": "code",
   "execution_count": null,
   "id": "6e74a585",
   "metadata": {},
   "outputs": [],
   "source": []
  },
  {
   "cell_type": "markdown",
   "id": "4cb48bc2",
   "metadata": {},
   "source": [
    "## 1-1 문자열 리터럴\n",
    "\n",
    "- 문자열 리터럴은 &str 로 실제 내부에 변경불가한 문자열의 슬라이스이다. \n",
    "- 그래서 문자열은 실제 문자열 포인터와 길이를 가진 포인터 "
   ]
  },
  {
   "cell_type": "markdown",
   "id": "f742d6e1",
   "metadata": {},
   "source": [
    "### str이란?\n",
    "- str은 Rust의 기본 유형으로, 문자열 리터럴을 나타내며 애플리케이션 바이너리의 데이터 세그먼트에 데이터가 할당됩니다.\n",
    "\n",
    "### 문자열 리터럴이란 무엇인가요?\n",
    "- 문자열 리터럴은 문자열 슬라이스 또는 큰따옴표(\"\")로 묶인 문자 시퀀스입니다."
   ]
  },
  {
   "cell_type": "code",
   "execution_count": 6,
   "id": "f9cb348c",
   "metadata": {},
   "outputs": [
    {
     "name": "stdout",
     "output_type": "stream",
     "text": [
      "type of : &str\n",
      "12\n"
     ]
    }
   ],
   "source": [
    "fn main() {\n",
    "    \n",
    "    let s = \"Hello, Rust!\";\n",
    "    println!(\"type of : {}\", type_of(s));   // 현재의 타입 \n",
    "    println!(\"{}\", s.len());                // 문자열 길이 \n",
    "    \n",
    "}\n",
    "\n",
    "main();"
   ]
  },
  {
   "cell_type": "markdown",
   "id": "acba7bc4",
   "metadata": {},
   "source": [
    "## 1-2  String 문자열 \n",
    "\n",
    "- String은 힙에 만들어진다. \n",
    "\n",
    "- 문자열은 포인터와 전체 용량(capacity) 과 문자열 길이(len) 를 가지 구조이다.\n",
    "- 문자열이 꺼지면 용량과 길이도 변경된다. "
   ]
  },
  {
   "cell_type": "code",
   "execution_count": 7,
   "id": "01889657",
   "metadata": {},
   "outputs": [
    {
     "name": "stdout",
     "output_type": "stream",
     "text": [
      "type of : &alloc::string::String\n",
      "12\n",
      "12\n",
      "24\n",
      "24\n"
     ]
    }
   ],
   "source": [
    "fn main() {\n",
    "                // 문자열리터럴을 가지고 String 문자열 생성을 위한 연관함수를 사용 \n",
    "                // 문자열 구조체 내에 함수 정의 => 새로운 문자열 인스턴스를 만들 때 사용   \n",
    "    let mut s = String::from(\"Hello, Rust!\");\n",
    "    println!(\"type of : {}\", type_of(&s));     // 현재의 타입 \n",
    "    println!(\"{}\", s.capacity());              // prints 12\n",
    "    println!(\"{}\", s.len());                   // prints 12\n",
    "                // String문자열에 문자열 리터럴을 추가한다.\n",
    "                // 변경이 가능하므로 문자열의 용량과 길이가 같이 증가한 것을 볼 수 있다.\n",
    "    s.push_str(\"Here I come!\");\n",
    "    println!(\"{}\", s.capacity());              // prints 24\n",
    "    println!(\"{}\", s.len());                   // prints 24\n",
    "    \n",
    "}\n",
    "\n",
    "main();"
   ]
  },
  {
   "cell_type": "code",
   "execution_count": null,
   "id": "54531dff",
   "metadata": {},
   "outputs": [],
   "source": []
  },
  {
   "cell_type": "markdown",
   "id": "b12a9028",
   "metadata": {},
   "source": [
    "## 1-3 String 문자열 참조와 문자열 리터럴 비교해보기\n",
    "\n",
    "- String 문자열도 참조와 갱신 참조를 다 사용할 수 있다. \n",
    "\n",
    "- 문자열 참조는 &String\n",
    "- 문자열 리터럴은 &str"
   ]
  },
  {
   "cell_type": "markdown",
   "id": "adfd79ea",
   "metadata": {},
   "source": [
    "### 함수의 매개변수 타입의 문자열리터럴 타입\n",
    "\n",
    "-  String 문자열 참조는 문자열리터럴로 바로 호환되어 사용 가능\n"
   ]
  },
  {
   "cell_type": "code",
   "execution_count": 8,
   "id": "c0505838",
   "metadata": {},
   "outputs": [
    {
     "name": "stdout",
     "output_type": "stream",
     "text": [
      "Hello, Rust!\n"
     ]
    }
   ],
   "source": [
    "fn main() {\n",
    "    let s = String::from(\"Hello, Rust!\");\n",
    "              // String문자열의 참조를 함수에 전달  \n",
    "    foo(&s);\n",
    "}\n",
    "\n",
    "// 매개변수가 문자열리터럴을 처리\n",
    "fn foo(s: &str) {\n",
    "    println!(\"{}\", s);\n",
    "}\n",
    "\n",
    "main();"
   ]
  },
  {
   "cell_type": "code",
   "execution_count": null,
   "id": "32cf2952",
   "metadata": {},
   "outputs": [],
   "source": []
  },
  {
   "cell_type": "markdown",
   "id": "dccde429",
   "metadata": {},
   "source": [
    "### 대신 String 문자열을 갱신할 경우  : 갱신참조는  String문자열 참조만 가능 \n",
    "\n",
    "- 문자열 참조로 변경할 때는 &mut String으로 처리"
   ]
  },
  {
   "cell_type": "code",
   "execution_count": 9,
   "id": "1eb1463b",
   "metadata": {},
   "outputs": [
    {
     "name": "stdout",
     "output_type": "stream",
     "text": [
      "Hello, Rust!appending foo..\n"
     ]
    }
   ],
   "source": [
    "fn main() {\n",
    "    let mut s = String::from(\"Hello, Rust!\");\n",
    "    foo_mut(&mut s);\n",
    "}\n",
    "\n",
    "\n",
    "          // String 문자열을 갱신 \n",
    "fn foo_mut(s: &mut String) {\n",
    "    s.push_str(\"appending foo..\");\n",
    "    println!(\"{}\", s);\n",
    "}\n",
    "\n",
    "main();"
   ]
  },
  {
   "cell_type": "code",
   "execution_count": null,
   "id": "7424f9af",
   "metadata": {},
   "outputs": [],
   "source": []
  },
  {
   "cell_type": "code",
   "execution_count": null,
   "id": "8324ce83",
   "metadata": {},
   "outputs": [],
   "source": []
  },
  {
   "cell_type": "markdown",
   "id": "96bbf766",
   "metadata": {},
   "source": [
    "## 2. String 문자열 생성과 갱신 \n",
    "\n",
    "-  String 문자열을 생성 및 변경에 대해 알아본다.\n"
   ]
  },
  {
   "cell_type": "markdown",
   "id": "46410eb5",
   "metadata": {},
   "source": [
    "## 2-1 String 문자열 용량만 알고 생성하기 \n",
    "\n",
    "- 문자열 용량의 사이즈를 정해서 처리 \n",
    "- with_capacity 연관함수를 사용한다. \n",
    "- 이 함수는 문자열의 용량만 지정한다. \n"
   ]
  },
  {
   "cell_type": "code",
   "execution_count": 10,
   "id": "385d7d22",
   "metadata": {},
   "outputs": [
    {
     "name": "stdout",
     "output_type": "stream",
     "text": [
      "my_string: 3\n",
      "abcd\n",
      "my_string: 8\n"
     ]
    }
   ],
   "source": [
    "fn main() {\n",
    "    let mut my_string = String::with_capacity(3);\n",
    "    println!(\"my_string: {}\", my_string.capacity()); \n",
    "    my_string.push('a'); // capacity is 3, length is 1\n",
    "    my_string.push('b'); // capacity is 3, length is 2\n",
    "    my_string.push('c'); // capacity is 3, length is 3\n",
    "                // 용량을 초과할 경우도 저장된다.  실제 용량과 길이가 변경된다.\n",
    "    my_string.push('d'); // capacity could double, length is 4\n",
    "    \n",
    "    println!(\"{}\", my_string);\n",
    "    println!(\"my_string: {}\", my_string.capacity());   \n",
    "}\n",
    "\n",
    "main();"
   ]
  },
  {
   "cell_type": "code",
   "execution_count": null,
   "id": "52f481a2",
   "metadata": {},
   "outputs": [],
   "source": []
  },
  {
   "cell_type": "markdown",
   "id": "4e514865",
   "metadata": {},
   "source": [
    "## 2-2  문자열 리터럴을 문자열로 변환\n",
    "\n",
    "### to_owned 메서드 사용하기 \n",
    "- 문자열 슬라이스를 소유권을 가진 String으로 바꿀 때는 to_owned()가 to_string()보다 빠름\n",
    "- 왜냐하면 to_owned가 문자열 리터럴 등을 소유권을 가진 문자열로 바꾸는데 더 특화된 메서드이기 때문이라고 한다.\n",
    "\n",
    "### to_string 메서드 사용하기 \n",
    "- 이와 대조적으로, to_string()은 문자열뿐만 아니라 다양한 타입을 문자열로 바꾸는데 사용\n",
    "- 그러한 값들을 문자열로 바꾸는 추가적인 작업이 있기 때문에 to_owned()보다 느린 것이라고 한다."
   ]
  },
  {
   "cell_type": "code",
   "execution_count": 8,
   "id": "5c102e45",
   "metadata": {},
   "outputs": [
    {
     "name": "stdout",
     "output_type": "stream",
     "text": [
      " sts = alloc::string::String\n",
      " sts1 = alloc::string::String\n"
     ]
    }
   ],
   "source": [
    "fn main() { \n",
    "    \n",
    "    let ss = \"문자열리터럴\";\n",
    "    let sts = ss.to_owned();\n",
    "    println!(\" sts = {}\", type_of(sts));\n",
    "    \n",
    "    \n",
    "    let ss1 = \"문자열리터럴\";\n",
    "    let sts1 = ss1.to_string();\n",
    "    println!(\" sts1 = {}\", type_of(sts1));\n",
    "}\n",
    "\n",
    "main();"
   ]
  },
  {
   "cell_type": "code",
   "execution_count": null,
   "id": "3301b163",
   "metadata": {},
   "outputs": [],
   "source": []
  },
  {
   "cell_type": "markdown",
   "id": "25c28085",
   "metadata": {},
   "source": [
    "## 3. 문자열 리터럴과 문자열 구조체의 차이점\n",
    "\n",
    "- 문자열은 소유권을 가진다.\n",
    "- 문자열리터럴은 문자열슬라이스라서 참조만 가진다. 즉 소유권이 없다."
   ]
  },
  {
   "cell_type": "markdown",
   "id": "f94f3910",
   "metadata": {},
   "source": [
    "## 3-1 String 문자열은 소유권 이동\n",
    "\n",
    "- 함수의 매개변수를 String으로 지정한 경우 인자로 전달하면 소유권이 이동됨 \n",
    "- 그래서 소유권 이동된 변수를 함수 호출이후에 사용하면 에러가 발생함  \n",
    "\n",
    "- String은 소유권을 가지므로 소유권이동에 대해 주의 "
   ]
  },
  {
   "cell_type": "code",
   "execution_count": 24,
   "id": "0d06ae80",
   "metadata": {},
   "outputs": [
    {
     "ename": "Error",
     "evalue": "borrow of moved value: `my_string`",
     "output_type": "error",
     "traceback": [
      "\u001b[31m[E0382] Error:\u001b[0m borrow of moved value: `my_string`",
      "   \u001b[38;5;246m╭\u001b[0m\u001b[38;5;246m─\u001b[0m\u001b[38;5;246m[\u001b[0mcommand_24:1:1\u001b[38;5;246m]\u001b[0m",
      "   \u001b[38;5;246m│\u001b[0m",
      " \u001b[38;5;246m2 │\u001b[0m \u001b[38;5;249m \u001b[0m\u001b[38;5;249m \u001b[0m\u001b[38;5;249m \u001b[0m\u001b[38;5;249m \u001b[0m\u001b[38;5;249ml\u001b[0m\u001b[38;5;249me\u001b[0m\u001b[38;5;249mt\u001b[0m\u001b[38;5;249m \u001b[0m\u001b[38;5;68mm\u001b[0m\u001b[38;5;68my\u001b[0m\u001b[38;5;68m_\u001b[0m\u001b[38;5;68ms\u001b[0m\u001b[38;5;68mt\u001b[0m\u001b[38;5;68mr\u001b[0m\u001b[38;5;68mi\u001b[0m\u001b[38;5;68mn\u001b[0m\u001b[38;5;68mg\u001b[0m\u001b[38;5;249m \u001b[0m\u001b[38;5;249m=\u001b[0m\u001b[38;5;249m \u001b[0m\u001b[38;5;249mS\u001b[0m\u001b[38;5;249mt\u001b[0m\u001b[38;5;249mr\u001b[0m\u001b[38;5;249mi\u001b[0m\u001b[38;5;249mn\u001b[0m\u001b[38;5;249mg\u001b[0m\u001b[38;5;249m:\u001b[0m\u001b[38;5;249m:\u001b[0m\u001b[38;5;249mf\u001b[0m\u001b[38;5;249mr\u001b[0m\u001b[38;5;249mo\u001b[0m\u001b[38;5;249mm\u001b[0m\u001b[38;5;249m(\u001b[0m\u001b[38;5;249m\"\u001b[0m\u001b[38;5;249mU\u001b[0m\u001b[38;5;249mn\u001b[0m\u001b[38;5;249md\u001b[0m\u001b[38;5;249me\u001b[0m\u001b[38;5;249mr\u001b[0m\u001b[38;5;249ms\u001b[0m\u001b[38;5;249mt\u001b[0m\u001b[38;5;249ma\u001b[0m\u001b[38;5;249mn\u001b[0m\u001b[38;5;249md\u001b[0m\u001b[38;5;249mi\u001b[0m\u001b[38;5;249mn\u001b[0m\u001b[38;5;249mg\u001b[0m\u001b[38;5;249m \u001b[0m\u001b[38;5;249mt\u001b[0m\u001b[38;5;249mh\u001b[0m\u001b[38;5;249me\u001b[0m\u001b[38;5;249m \u001b[0m\u001b[38;5;249mS\u001b[0m\u001b[38;5;249mt\u001b[0m\u001b[38;5;249mr\u001b[0m\u001b[38;5;249mi\u001b[0m\u001b[38;5;249mn\u001b[0m\u001b[38;5;249mg\u001b[0m\u001b[38;5;249m \u001b[0m\u001b[38;5;249mc\u001b[0m\u001b[38;5;249mo\u001b[0m\u001b[38;5;249mn\u001b[0m\u001b[38;5;249mc\u001b[0m\u001b[38;5;249me\u001b[0m\u001b[38;5;249mp\u001b[0m\u001b[38;5;249mt\u001b[0m\u001b[38;5;249m?\u001b[0m\u001b[38;5;249m\"\u001b[0m\u001b[38;5;249m)\u001b[0m\u001b[38;5;249m;\u001b[0m",
      " \u001b[38;5;246m  ·\u001b[0m         \u001b[38;5;68m─\u001b[0m\u001b[38;5;68m─\u001b[0m\u001b[38;5;68m─\u001b[0m\u001b[38;5;68m─\u001b[0m\u001b[38;5;68m┬\u001b[0m\u001b[38;5;68m─\u001b[0m\u001b[38;5;68m─\u001b[0m\u001b[38;5;68m─\u001b[0m\u001b[38;5;68m─\u001b[0m  ",
      " \u001b[38;5;246m  ·\u001b[0m             \u001b[38;5;68m╰\u001b[0m\u001b[38;5;68m─\u001b[0m\u001b[38;5;68m─\u001b[0m\u001b[38;5;68m─\u001b[0m\u001b[38;5;68m─\u001b[0m\u001b[38;5;68m─\u001b[0m\u001b[38;5;68m─\u001b[0m move occurs because `my_string` has type `String`, which does not implement the `Copy` trait",
      " \u001b[38;5;246m  ·\u001b[0m ",
      " \u001b[38;5;246m4 │\u001b[0m \u001b[38;5;249m \u001b[0m\u001b[38;5;249m \u001b[0m\u001b[38;5;249m \u001b[0m\u001b[38;5;249m \u001b[0m\u001b[38;5;249mp\u001b[0m\u001b[38;5;249mr\u001b[0m\u001b[38;5;249mi\u001b[0m\u001b[38;5;249mn\u001b[0m\u001b[38;5;249mt\u001b[0m\u001b[38;5;249m_\u001b[0m\u001b[38;5;249md\u001b[0m\u001b[38;5;249ma\u001b[0m\u001b[38;5;249mt\u001b[0m\u001b[38;5;249ma\u001b[0m\u001b[38;5;249m(\u001b[0m\u001b[38;5;54mm\u001b[0m\u001b[38;5;54my\u001b[0m\u001b[38;5;54m_\u001b[0m\u001b[38;5;54ms\u001b[0m\u001b[38;5;54mt\u001b[0m\u001b[38;5;54mr\u001b[0m\u001b[38;5;54mi\u001b[0m\u001b[38;5;54mn\u001b[0m\u001b[38;5;54mg\u001b[0m\u001b[38;5;249m)\u001b[0m\u001b[38;5;249m;\u001b[0m\u001b[38;5;249m \u001b[0m\u001b[38;5;249m/\u001b[0m\u001b[38;5;249m/\u001b[0m\u001b[38;5;249m \u001b[0m\u001b[38;5;249mo\u001b[0m\u001b[38;5;249mw\u001b[0m\u001b[38;5;249mn\u001b[0m\u001b[38;5;249me\u001b[0m\u001b[38;5;249mr\u001b[0m\u001b[38;5;249ms\u001b[0m\u001b[38;5;249mh\u001b[0m\u001b[38;5;249mi\u001b[0m\u001b[38;5;249mp\u001b[0m\u001b[38;5;249m \u001b[0m\u001b[38;5;249mo\u001b[0m\u001b[38;5;249mf\u001b[0m\u001b[38;5;249m \u001b[0m\u001b[38;5;249mm\u001b[0m\u001b[38;5;249my\u001b[0m\u001b[38;5;249m_\u001b[0m\u001b[38;5;249ms\u001b[0m\u001b[38;5;249mt\u001b[0m\u001b[38;5;249mr\u001b[0m\u001b[38;5;249mi\u001b[0m\u001b[38;5;249mn\u001b[0m\u001b[38;5;249mg\u001b[0m\u001b[38;5;249m \u001b[0m\u001b[38;5;249mi\u001b[0m\u001b[38;5;249ms\u001b[0m\u001b[38;5;249m \u001b[0m\u001b[38;5;249mt\u001b[0m\u001b[38;5;249mr\u001b[0m\u001b[38;5;249ma\u001b[0m\u001b[38;5;249mn\u001b[0m\u001b[38;5;249ms\u001b[0m\u001b[38;5;249mf\u001b[0m\u001b[38;5;249me\u001b[0m\u001b[38;5;249mr\u001b[0m\u001b[38;5;249me\u001b[0m\u001b[38;5;249md\u001b[0m",
      " \u001b[38;5;246m  ·\u001b[0m                \u001b[38;5;54m─\u001b[0m\u001b[38;5;54m─\u001b[0m\u001b[38;5;54m─\u001b[0m\u001b[38;5;54m─\u001b[0m\u001b[38;5;54m┬\u001b[0m\u001b[38;5;54m─\u001b[0m\u001b[38;5;54m─\u001b[0m\u001b[38;5;54m─\u001b[0m\u001b[38;5;54m─\u001b[0m  ",
      " \u001b[38;5;246m  ·\u001b[0m                    \u001b[38;5;54m╰\u001b[0m\u001b[38;5;54m─\u001b[0m\u001b[38;5;54m─\u001b[0m\u001b[38;5;54m─\u001b[0m\u001b[38;5;54m─\u001b[0m\u001b[38;5;54m─\u001b[0m\u001b[38;5;54m─\u001b[0m value moved here",
      " \u001b[38;5;246m  ·\u001b[0m ",
      " \u001b[38;5;246m6 │\u001b[0m \u001b[38;5;249m \u001b[0m\u001b[38;5;249m \u001b[0m\u001b[38;5;249m \u001b[0m\u001b[38;5;249m \u001b[0m\u001b[38;5;249mp\u001b[0m\u001b[38;5;249mr\u001b[0m\u001b[38;5;249mi\u001b[0m\u001b[38;5;249mn\u001b[0m\u001b[38;5;249mt\u001b[0m\u001b[38;5;249m!\u001b[0m\u001b[38;5;249m(\u001b[0m\u001b[38;5;249m\"\u001b[0m\u001b[38;5;249mp\u001b[0m\u001b[38;5;249mr\u001b[0m\u001b[38;5;249mi\u001b[0m\u001b[38;5;249mn\u001b[0m\u001b[38;5;249mt\u001b[0m\u001b[38;5;249mi\u001b[0m\u001b[38;5;249mn\u001b[0m\u001b[38;5;249mg\u001b[0m\u001b[38;5;249m \u001b[0m\u001b[38;5;249mi\u001b[0m\u001b[38;5;249mn\u001b[0m\u001b[38;5;249ms\u001b[0m\u001b[38;5;249mi\u001b[0m\u001b[38;5;249md\u001b[0m\u001b[38;5;249me\u001b[0m\u001b[38;5;249m \u001b[0m\u001b[38;5;249mm\u001b[0m\u001b[38;5;249ma\u001b[0m\u001b[38;5;249mi\u001b[0m\u001b[38;5;249mn\u001b[0m\u001b[38;5;249m \u001b[0m\u001b[38;5;249m{\u001b[0m\u001b[38;5;249m}\u001b[0m\u001b[38;5;249m\"\u001b[0m\u001b[38;5;249m,\u001b[0m\u001b[38;5;249m \u001b[0m\u001b[38;5;100mm\u001b[0m\u001b[38;5;100my\u001b[0m\u001b[38;5;100m_\u001b[0m\u001b[38;5;100ms\u001b[0m\u001b[38;5;100mt\u001b[0m\u001b[38;5;100mr\u001b[0m\u001b[38;5;100mi\u001b[0m\u001b[38;5;100mn\u001b[0m\u001b[38;5;100mg\u001b[0m\u001b[38;5;249m)\u001b[0m\u001b[38;5;249m;\u001b[0m\u001b[38;5;249m \u001b[0m\u001b[38;5;249m/\u001b[0m\u001b[38;5;249m/\u001b[0m\u001b[38;5;249m \u001b[0m\u001b[38;5;249me\u001b[0m\u001b[38;5;249mr\u001b[0m\u001b[38;5;249mr\u001b[0m\u001b[38;5;249mo\u001b[0m\u001b[38;5;249mr\u001b[0m\u001b[38;5;249m \u001b[0m\u001b[38;5;249ma\u001b[0m\u001b[38;5;249mt\u001b[0m\u001b[38;5;249m \u001b[0m\u001b[38;5;249mc\u001b[0m\u001b[38;5;249mo\u001b[0m\u001b[38;5;249mm\u001b[0m\u001b[38;5;249mp\u001b[0m\u001b[38;5;249mi\u001b[0m\u001b[38;5;249ml\u001b[0m\u001b[38;5;249me\u001b[0m\u001b[38;5;249m \u001b[0m\u001b[38;5;249mt\u001b[0m\u001b[38;5;249mi\u001b[0m\u001b[38;5;249mm\u001b[0m\u001b[38;5;249me\u001b[0m\u001b[38;5;249m \u001b[0m\u001b[38;5;249mh\u001b[0m\u001b[38;5;249me\u001b[0m\u001b[38;5;249mr\u001b[0m\u001b[38;5;249me\u001b[0m",
      " \u001b[38;5;246m  ·\u001b[0m                                       \u001b[38;5;100m─\u001b[0m\u001b[38;5;100m─\u001b[0m\u001b[38;5;100m─\u001b[0m\u001b[38;5;100m─\u001b[0m\u001b[38;5;100m┬\u001b[0m\u001b[38;5;100m─\u001b[0m\u001b[38;5;100m─\u001b[0m\u001b[38;5;100m─\u001b[0m\u001b[38;5;100m─\u001b[0m  ",
      " \u001b[38;5;246m  ·\u001b[0m                                           \u001b[38;5;100m╰\u001b[0m\u001b[38;5;100m─\u001b[0m\u001b[38;5;100m─\u001b[0m\u001b[38;5;100m─\u001b[0m\u001b[38;5;100m─\u001b[0m\u001b[38;5;100m─\u001b[0m\u001b[38;5;100m─\u001b[0m value borrowed here after move",
      "\u001b[38;5;246m───╯\u001b[0m"
     ]
    }
   ],
   "source": [
    "fn main() {\n",
    "    \n",
    "    // String 문자열 인스턴스 생성 \n",
    "    let my_string = String::from(\"Understanding the String concept?\");\n",
    "\n",
    "    print_data(my_string); // ownership of my_string is transfered\n",
    "\n",
    "    print!(\"printing inside main {}\", my_string); // error at compile time here\n",
    "}\n",
    "\n",
    "// 소유권 이동을 처리하는 함수 \n",
    "// 이 함수의 인자로 전달된 값은 반드시 소유권이 이동됨 그래서 이 함수가 처리되면 기존 소유권을 가진 변수는 삭제됨 \n",
    "fn  print_data(data: String) {\n",
    "    println!(\"printing my data {} \", data);\n",
    "}"
   ]
  },
  {
   "cell_type": "markdown",
   "id": "ce663d1c",
   "metadata": {},
   "source": [
    "## 3-2 소유권 이동없이 사용하려면 함수에 참조만 전달해야 함 \n",
    "\n",
    "- 참조라면 전달하면 String이 참조를 사용할 지 문자열 리터럴을 사용할지 "
   ]
  },
  {
   "cell_type": "code",
   "execution_count": 9,
   "id": "f22d4582",
   "metadata": {},
   "outputs": [
    {
     "name": "stdout",
     "output_type": "stream",
     "text": [
      "printing my data Understanding the String concept? \n",
      "printing inside main Understanding the String concept?\n"
     ]
    }
   ],
   "source": [
    "fn main() {\n",
    "    let my_string = String::from(\"Understanding the String concept?\");\n",
    "\n",
    "    print_data(&my_string); // ownership of my_string is transfered\n",
    "\n",
    "    println!(\"printing inside main {}\", my_string); // error at compile time here\n",
    "}\n",
    "\n",
    "\n",
    "// 소유권 이동이 없이 사용할 경우 참조를 사용함 \n",
    "// 그래서 이 함수가 실행된 다음에서 소유권은 그대로 유지됨 \n",
    "fn  print_data(data: &String) {\n",
    "    println!(\"printing my data {} \", data);\n",
    "}\n",
    "\n",
    "main();"
   ]
  },
  {
   "cell_type": "code",
   "execution_count": null,
   "id": "c625800b",
   "metadata": {},
   "outputs": [],
   "source": []
  },
  {
   "cell_type": "markdown",
   "id": "8e071967",
   "metadata": {},
   "source": [
    "## 3-3 보통 문자열 리터럴 즉 &str로 함수 매개변수를 지정함 \n",
    "\n",
    "- &str 내의 다양한 메서드 등을 사용이 가능\n",
    "- 그래서 대부분 &str로 함수 매개변수의 타입을 지정해서 사용 "
   ]
  },
  {
   "cell_type": "code",
   "execution_count": 11,
   "id": "4a0bc7c7",
   "metadata": {},
   "outputs": [],
   "source": [
    "fn  print_data_S(data: &String) {\n",
    "    println!(\"printing my data {} \", data);\n",
    "}\n",
    "\n",
    "// 2. or data: &str\n",
    "fn  print_data_s(data: &str) {\n",
    "   println!(\"printing my data {} \", data);\n",
    "}"
   ]
  },
  {
   "cell_type": "code",
   "execution_count": 12,
   "id": "0217e86b",
   "metadata": {},
   "outputs": [
    {
     "name": "stdout",
     "output_type": "stream",
     "text": [
      "printing my data Understanding the String concept?  \n",
      "printing my data Understanding the String concept?  \n",
      "printing inside main Understanding the String concept? \n"
     ]
    }
   ],
   "source": [
    "fn main() {\n",
    "    let my_string = String::from(\"Understanding the String concept? \");\n",
    "\n",
    "    print_data_S(&my_string); // ownership of my_string is transfered\n",
    "    print_data_s(&my_string); // ownership of my_string is transfered\n",
    "\n",
    "    println!(\"printing inside main {}\", my_string); \n",
    "}\n",
    "\n",
    "main();"
   ]
  },
  {
   "cell_type": "code",
   "execution_count": null,
   "id": "95318e87",
   "metadata": {},
   "outputs": [],
   "source": []
  },
  {
   "cell_type": "code",
   "execution_count": null,
   "id": "18477dc3",
   "metadata": {},
   "outputs": [],
   "source": []
  }
 ],
 "metadata": {
  "kernelspec": {
   "display_name": "Rust",
   "language": "rust",
   "name": "rust"
  },
  "language_info": {
   "codemirror_mode": "rust",
   "file_extension": ".rs",
   "mimetype": "text/rust",
   "name": "Rust",
   "pygment_lexer": "rust",
   "version": ""
  }
 },
 "nbformat": 4,
 "nbformat_minor": 5
}
