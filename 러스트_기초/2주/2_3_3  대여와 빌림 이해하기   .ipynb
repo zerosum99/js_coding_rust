{
 "cells": [
  {
   "cell_type": "markdown",
   "id": "537a97d3",
   "metadata": {},
   "source": [
    "## 타입에 대한 정보를 알아보는 함수 "
   ]
  },
  {
   "cell_type": "code",
   "execution_count": 2,
   "id": "52473741",
   "metadata": {},
   "outputs": [],
   "source": [
    "use std::any::type_name;\n",
    "\n",
    "fn type_of<T>(_: T) -> &'static str {\n",
    "    type_name::<T>()\n",
    "}"
   ]
  },
  {
   "cell_type": "code",
   "execution_count": null,
   "id": "644e1406",
   "metadata": {},
   "outputs": [],
   "source": []
  },
  {
   "cell_type": "markdown",
   "id": "cca0966b",
   "metadata": {},
   "source": [
    "## Borrow Checker\n",
    "\n",
    "- 차용 검사기는 Rust의 참조가 항상 유효한지 확인하는 컴파일러 기능입니다. 코드에 메모리에서 잘못된 참조를 가리키는 모호한 부분이 없어야 합니다.\n",
    "\n",
    "- 차용 검사기는 Rust를 메모리 안전 언어로 만드는 요소 중 하나입니다. 이는 매달린 포인터 및 이중 해제와 같은 일반적인 프로그래밍 오류를 방지하는 데 도움이 됩니다.\n",
    "\n",
    "- 차용 검사기는 처음에는 사용하기가 조금 불편할 수 있지만, 안심하고 사용할 수 있다는 점에서 그만한 가치가 있습니다. 익숙해지면 실제로 코드를 더 간결하고 읽기 쉽게 만들어 준다는 것을 알게 될 것입니다.\n",
    "\n",
    "\n",
    "### 차용 검사기 사용의 몇 가지 이점은 다음과 같습니다:\n",
    "\n",
    "- 메모리 안전: 빌려오기 검사기는 코드가 메모리 안전성을 보장하므로 잘못된 메모리 액세스로 인해 코드가 충돌하지 않습니다.\n",
    "- 간결성: 빌려오기 검사기를 사용하면 수동 메모리 관리가 필요 없어 코드를 더욱 간결하게 만들 수 있습니다.\n",
    "- 가독성: 빌려오기 검사기는 포인터 및 기타 저수준 구조체가 필요 없어 코드를 더 읽기 쉽게 만드는 데 도움이 될 수 있습니다."
   ]
  },
  {
   "cell_type": "code",
   "execution_count": null,
   "id": "1750fdd6",
   "metadata": {},
   "outputs": [],
   "source": []
  },
  {
   "cell_type": "markdown",
   "id": "795535bf",
   "metadata": {},
   "source": [
    "## 1. 대여와 빌림에 대한 연산자와 예약어 알아보기 "
   ]
  },
  {
   "cell_type": "markdown",
   "id": "ec8a33e4",
   "metadata": {},
   "source": [
    "## 1-1  reference  참조 \n",
    "\n",
    "- 참조는 항상 기존에 소유권이 확정된 경우에만 사용 그래서 포인터가 없을 수 없다 \n",
    "\n",
    "-  참조도 실제 포인터 처리이지만 실제 변수에 저장된 위치를 다른 변수에 저장한다. \n",
    "-  러스트는 변수에 값을 할당하면 이 값에 대한 소유권이 하나의 소유자인 변수만을 가진다. \n",
    "-  그래서 참조는 이런 소유권은 없지만 이 값을 사용할 수 있게 제공하는 기법이다. "
   ]
  },
  {
   "cell_type": "code",
   "execution_count": 3,
   "id": "d43b6926",
   "metadata": {},
   "outputs": [
    {
     "name": "stdout",
     "output_type": "stream",
     "text": [
      "abc = 100\n",
      "&adb = 0x16af96aac\n",
      "adb_ref = 100\n",
      "adb_ref = 100\n",
      "adb_ref = 0x16af96aac\n"
     ]
    }
   ],
   "source": [
    "fn main() {\n",
    "    let abc = 100; \n",
    "    let abc_ref = &abc;\n",
    "    \n",
    "    println!(\"abc = {}\", abc);\n",
    "    println!(\"&adb = {:p}\", &abc);        // 변수가 저장된 주소 \n",
    "    println!(\"adb_ref = {}\", abc_ref);    //  참조를 가진 변수를 출력하면 자동 역참조 \n",
    "    println!(\"adb_ref = {}\", *abc_ref);   // 역참조로 값을 읽어오기\n",
    "    println!(\"adb_ref = {:p}\", abc_ref);  // 참조로 저장한 변수 확인하기 \n",
    "}\n",
    "\n",
    "main();"
   ]
  },
  {
   "cell_type": "code",
   "execution_count": null,
   "id": "a5a487bd",
   "metadata": {},
   "outputs": [],
   "source": []
  },
  {
   "cell_type": "markdown",
   "id": "f6aacc04",
   "metadata": {},
   "source": [
    "## 1-2 Rust의 & 및 ref 기호 알아보기\n",
    "\n",
    "- 둘다모두 참조를 만드는 데 사용되지만 의미와 용도가 다릅니다.\n",
    "\n",
    "- &는 차용 연산자입니다. 값에 대한 참조를 만들지만 값 자체를 이동하지는 않습니다. 즉, 다른 코드에서 원래 값을 계속 사용할 수 있습니다.\n",
    "- ref는 참조 바인딩 키워드입니다. 변수에 대한 참조를 바인딩하는 데 사용됩니다. 즉, 변수는 참조를 통해서만 값에 액세스할 수 있습니다.\n",
    "- 일반적으로 &는 값에 여러 번 액세스해야 할 때 사용하며, ref는 값에 한 번만 액세스해야 할 때 사용합니다."
   ]
  },
  {
   "cell_type": "markdown",
   "id": "f57ebe1f",
   "metadata": {},
   "source": [
    "### & 연산자 사용 \n",
    "\n",
    "- 값에 대한 참조를 만들지만 값 자체를 이동하지는 않습니다"
   ]
  },
  {
   "cell_type": "code",
   "execution_count": 4,
   "id": "585a2ba6",
   "metadata": {},
   "outputs": [
    {
     "name": "stdout",
     "output_type": "stream",
     "text": [
      " 100\n",
      " &i32\n"
     ]
    }
   ],
   "source": [
    "fn main() {\n",
    "    let var = 100;\n",
    "    \n",
    "    let ref_var = &var;\n",
    "    \n",
    "    println!(\" {}\", ref_var);\n",
    "    println!(\" {}\", type_of(ref_var));\n",
    "}\n",
    "main();\n"
   ]
  },
  {
   "cell_type": "markdown",
   "id": "f0e900cb",
   "metadata": {},
   "source": [
    "### ref 예약어 사용 \n",
    "- 참조 바인딩 키워드입니다. 변수에 대한 참조를 바인딩하는 데 사용됩니다"
   ]
  },
  {
   "cell_type": "code",
   "execution_count": 3,
   "id": "017f99af",
   "metadata": {},
   "outputs": [
    {
     "name": "stdout",
     "output_type": "stream",
     "text": [
      " 100\n",
      " 0x16fcf28a4\n",
      " &i32\n"
     ]
    }
   ],
   "source": [
    "fn main() {\n",
    "    let var = 100;\n",
    "    \n",
    "    let ref ref_var = var;\n",
    "    \n",
    "    println!(\" {}\", ref_var);\n",
    "    println!(\" {:p}\", ref_var);\n",
    "    println!(\" {}\", type_of(ref_var));\n",
    "}\n",
    "\n",
    "main();"
   ]
  },
  {
   "cell_type": "code",
   "execution_count": null,
   "id": "a6b53f78",
   "metadata": {},
   "outputs": [],
   "source": []
  },
  {
   "cell_type": "markdown",
   "id": "bcd02a28",
   "metadata": {},
   "source": [
    "## 2. 스칼라 값에 대한 참조 사용하기 \n",
    "\n",
    "- 스칼라는 정수, 실수, 문자, 블리언 자료형을 처리\n",
    "- 스칼라는 하나의 원소만을 가진 값을 표시"
   ]
  },
  {
   "cell_type": "markdown",
   "id": "ea33f661",
   "metadata": {},
   "source": [
    "## 스칼라 값의 특징\n",
    "\n",
    "- 스칼라값은 다른 변수에 할당하면 이동이 발생하지 않고 값을 복사해준다.\n"
   ]
  },
  {
   "cell_type": "markdown",
   "id": "ec4ad364",
   "metadata": {},
   "source": [
    "## 참조의 표기법 \n",
    "- 객체에 대해 불변 참조를 가지는 변수:\n",
    "\n",
    "  > let othername = &name;\n",
    "- 객체에 대해 가변 참조를 가지는 변수:\n",
    "\n",
    "  > let othermut = &mut mutname;"
   ]
  },
  {
   "cell_type": "markdown",
   "id": "0e7ad669",
   "metadata": {},
   "source": [
    "## 2-1 참조\n",
    "\n",
    "-  참조는 값이 저장된 곳의 위치를 사용 \n",
    "-  & 참조는 현재 값을 사용\n",
    "-  &mut 참조는 현재 위치에 값을 변경가능 "
   ]
  },
  {
   "cell_type": "markdown",
   "id": "9e8c5fda",
   "metadata": {},
   "source": [
    "###  정수 값을 변수에 할당 \n",
    "\n",
    "- 단순히 이 변수는 값을 저장하고 사용한다. "
   ]
  },
  {
   "cell_type": "code",
   "execution_count": 6,
   "id": "478be500",
   "metadata": {},
   "outputs": [
    {
     "name": "stdout",
     "output_type": "stream",
     "text": [
      "100 i32\n"
     ]
    }
   ],
   "source": [
    "fn main() {\n",
    "    let name = 100;\n",
    "    println!(\"{} {}\", name, type_of(name));\n",
    "}\n",
    "\n",
    "main();"
   ]
  },
  {
   "cell_type": "markdown",
   "id": "8c325610",
   "metadata": {},
   "source": [
    "### 정수값을 다시 참조로 할당 \n",
    "\n",
    "- 참조를 하고 다른 변수에 할당하면 이 변수에는 값이 있는 것이 아니라 값에 대한 주소가 할당된다. "
   ]
  },
  {
   "cell_type": "code",
   "execution_count": 7,
   "id": "51106ced",
   "metadata": {},
   "outputs": [
    {
     "name": "stdout",
     "output_type": "stream",
     "text": [
      "0x16af96aac &i32\n",
      "0x16af96ab0, &&i32\n"
     ]
    }
   ],
   "source": [
    "fn main() {\n",
    "    let name = 100;\n",
    "\n",
    "    let othername = &name;                              // 참조할당 \n",
    "    println!(\"{:p} {}\", othername, type_of(othername)); // 참조에 대한 주소 출력 {:p}\n",
    "    let theothername = &othername;                      // 참조로 재할당 \n",
    "    println!(\"{:p}, {}\", theothername, type_of(theothername));\n",
    "}\n",
    "\n",
    "main();"
   ]
  },
  {
   "cell_type": "code",
   "execution_count": null,
   "id": "a599a42c",
   "metadata": {},
   "outputs": [],
   "source": []
  },
  {
   "cell_type": "markdown",
   "id": "9fcb6b54",
   "metadata": {},
   "source": [
    "##  2-2 참조를 다른 말로 대여라고 한다\n",
    "\n",
    "- 대여라는 것은 실제 소유권은 없고 사용만 하는 관계를 말한다. \n",
    "- 소유권이 없으면 소유자인 변수가 사라지면 이 값에 대한 대여도 사라져야 한다. \n"
   ]
  },
  {
   "cell_type": "markdown",
   "id": "b0854655",
   "metadata": {},
   "source": [
    "###  정수를 저장한 변수는 이동이 없다.\n",
    "\n",
    "- 프리미티브 자료형의 값은 다른 변수에 할당하면 소유권이전이 없고 복사해서 할당된다. \n",
    "- 그래서 특별히 참조를 사용하지 않아도 기존 값은 변경이 없다, "
   ]
  },
  {
   "cell_type": "code",
   "execution_count": 8,
   "id": "19c628b8",
   "metadata": {},
   "outputs": [
    {
     "name": "stdout",
     "output_type": "stream",
     "text": [
      " othername = 100 \n",
      " name = 100 \n"
     ]
    }
   ],
   "source": [
    "fn main() { \n",
    "    let name = 100;\n",
    "    let othername = name;            // 스칼라 객체는 복사 발생\n",
    "\n",
    "    println!(\" othername = {} \", othername);\n",
    "    println!(\" name = {} \", name);\n",
    "}\n",
    "\n",
    "main();"
   ]
  },
  {
   "cell_type": "markdown",
   "id": "1bc30eed",
   "metadata": {},
   "source": [
    "### 정수의 값에 대한 참조 사용하기 \n",
    "\n",
    "- 정수를 저장한 변수 앞에 & 표기법을 사용해서 참조를 하면 \n",
    "- 정수가 저장된 변수에서 주소값을 다른 변수에 저장한다. "
   ]
  },
  {
   "cell_type": "code",
   "execution_count": 9,
   "id": "51061375",
   "metadata": {},
   "outputs": [
    {
     "name": "stdout",
     "output_type": "stream",
     "text": [
      " othername = 100 \n",
      " name = 100 \n"
     ]
    }
   ],
   "source": [
    "fn main() { \n",
    "    let name = 100;\n",
    "    let othername = &name;            // 참조할당 \n",
    "\n",
    "    println!(\" othername = {} \", *othername);\n",
    "    println!(\" name = {} \", name);\n",
    "}\n",
    "\n",
    "main();"
   ]
  },
  {
   "cell_type": "markdown",
   "id": "61864092",
   "metadata": {},
   "source": [
    "## 2-3  가변 참조를 사용하기\n",
    "\n",
    "- 참조를 하는 곳에 값을 변경을 할 수 있는지를 지정하는 것이 가변 참조인 mut를 참조에 지정하는 것이다. \n",
    "- 보통 이때는 변수도 변경이 가능한 가변 변수이어야 한다.\n",
    "- 그래야 가변 참조를 사용해도 기존 변수의 값이 변경된다. \n",
    "- 이런 이유는 소유권은 기존 변수에 있기 때문이고 가변참조변수도 단지 사용만 하는 것이다. "
   ]
  },
  {
   "cell_type": "code",
   "execution_count": 4,
   "id": "74b0297b",
   "metadata": {},
   "outputs": [
    {
     "name": "stdout",
     "output_type": "stream",
     "text": [
      " othername = 777 \n"
     ]
    }
   ],
   "source": [
    "fn main() { \n",
    "    let mut name = 100;\n",
    "    let othername = &mut name;  // 참조 전달 \n",
    "    *othername = 777;           // 역참조로 갱신 \n",
    "\n",
    "    println!(\" othername = {} \", *othername);\n",
    "}\n",
    "\n",
    "main();"
   ]
  },
  {
   "cell_type": "markdown",
   "id": "41466c27",
   "metadata": {},
   "source": [
    "### 가변참조에 실제 값을 역참조해서 계산 처리\n",
    "\n",
    "- 다른 변수에 가변참조를 할당한다. \n",
    "- 이 값을 변경하려면 가변참조가 지정된 변수에 역참조를 해서 실제 변수의 값을 변경할 수 있다. \n"
   ]
  },
  {
   "cell_type": "code",
   "execution_count": 11,
   "id": "a9cfa15e",
   "metadata": {},
   "outputs": [
    {
     "name": "stdout",
     "output_type": "stream",
     "text": [
      " othername = 877 \n"
     ]
    }
   ],
   "source": [
    "fn main() { \n",
    "    let mut name = 100;\n",
    "    let mut othername = &mut name;      // 참조 전달 \n",
    "    *othername += 777;                  // 역참조로 값을 계산 \n",
    "\n",
    "    println!(\" othername = {} \", *othername);\n",
    "}\n",
    "\n",
    "main();"
   ]
  },
  {
   "cell_type": "markdown",
   "id": "099f2f43",
   "metadata": {},
   "source": [
    "## 3.  구조체 인스턴스의 참조 처리하기\n",
    "\n",
    "- 구조체 등으로 지정된 경우는 힙에 저장된다.\n",
    "- 이런 구조체 형태의 인스턴스에 대한 포인터는 스택에 보관하므로 이를 참조해서 사용할 수 있다.\n",
    "- "
   ]
  },
  {
   "cell_type": "markdown",
   "id": "6ffbb816",
   "metadata": {},
   "source": [
    "## 3-1  구조체 인스턴스는 힙에 값을 보관\n",
    "- 스택에는 특정 벡터에 대한 구조체 정보만 관리"
   ]
  },
  {
   "cell_type": "code",
   "execution_count": 12,
   "id": "36cf7c5a",
   "metadata": {},
   "outputs": [
    {
     "name": "stdout",
     "output_type": "stream",
     "text": [
      " 대한민국\n",
      " 대한민국\n"
     ]
    }
   ],
   "source": [
    "fn main() {\n",
    "    let sf = String::from(\"대한민국\");\n",
    "    println!(\" {}\", &sf);\n",
    "    \n",
    "    let sff = &sf;\n",
    "    println!(\" {}\", sff);\n",
    "}\n",
    "main();"
   ]
  },
  {
   "cell_type": "markdown",
   "id": "e1c2b634",
   "metadata": {},
   "source": [
    "## 3-2  구조체 내의 필드는 구조체가 소유\n",
    "\n",
    "- 구조체를 저장하고 이를 참조해서 저장하면 실제 구조체의 값을 출력한다. "
   ]
  },
  {
   "cell_type": "code",
   "execution_count": 13,
   "id": "a66e2f42",
   "metadata": {},
   "outputs": [
    {
     "name": "stdout",
     "output_type": "stream",
     "text": [
      " User { name: \"가을이\", age: 33 }\n",
      " User { name: \"가을이\", age: 33 }\n"
     ]
    }
   ],
   "source": [
    "#[derive(Debug)]\n",
    "struct User {\n",
    "    name : String,\n",
    "    age : u16,\n",
    "}\n",
    "\n",
    "fn main() {\n",
    "    let sf = User { name : String::from(\"가을이\"), age : 33 };\n",
    "    let sss = &sf; \n",
    "    println!(\" {:?}\", sss);       // 내부에서 값을 조정해서 처리 \n",
    "    \n",
    "    let _xxx = sss;\n",
    "    \n",
    "    let sff = &sf;\n",
    "    println!(\" {:?}\", *sff);      // 내부에서 값을 조정해서 처리 \n",
    "}\n",
    "\n",
    "main();"
   ]
  },
  {
   "cell_type": "markdown",
   "id": "e1585280",
   "metadata": {},
   "source": [
    "## 4.  대여 원칙"
   ]
  },
  {
   "cell_type": "markdown",
   "id": "370a7c23",
   "metadata": {},
   "source": [
    "## 대여 처리 방식 \n",
    "\n",
    "- 가변 변수는 가변 참조 변수에 빌려주고 나면 같은 범위에서는 사용할 수 없습니다. \n",
    "   동일 범위 안에 같은 객체에 대한 두 개 이상의 가변 변수가 생기면 안 됩니다. 이것을 write-write 충돌이 금지되는 것으로 이해할 수 있습니다.\n",
    "- 변수에 대해 불변 참조는 여러 개 생길 수 있습니다. \n",
    "   그러나 불변 참조가 생기고 나면 그 변수를 바꾸거나 가변 참조를 생성할 수 없습니다. read-wirte 충돌에 해당합니다. \n",
    "    즉 다른 변수가 읽기 권한을 가지고 있는데 데이터를 바꾸면 dirty-read가 될 수 있다는 것입니다.\n",
    "- 가변 참조가 동시에 여러 개 생길 수 없습니다. \n",
    "   가변 참조가 생기면 그것의 범위가 종료하기 전에는 가변 참조를 또 만들 수 없습니다.\n",
    "- 가변 변수에 대해 불변 참조를 만드는 것은 문제 없지만, 불변 변수에 대해 가변 참조를 만들 수는 없습니다."
   ]
  },
  {
   "cell_type": "markdown",
   "id": "a19aab8c",
   "metadata": {},
   "source": [
    "## 4-1. 불변 변수는 여러 번 불변 참조가 가능 즉  대여는 여러 번 처리 가능 \n",
    "\n",
    "-  불변 참조는 여러 번 사용할 수 있다.  "
   ]
  },
  {
   "cell_type": "code",
   "execution_count": 14,
   "id": "84188568",
   "metadata": {},
   "outputs": [
    {
     "name": "stdout",
     "output_type": "stream",
     "text": [
      " 대한민국\n",
      " reference 1 = 대한민국\n",
      " reference 2 = 대한민국\n"
     ]
    }
   ],
   "source": [
    "fn main() {\n",
    "    let country = String::from(\"대한민국\");\n",
    "    println!(\" {country}\");\n",
    "    \n",
    "    let ref_one = &country;\n",
    "    println!(\" reference 1 = {ref_one}\");\n",
    "    \n",
    "    let ref_two = &country;\n",
    "    println!(\" reference 2 = {ref_two}\");\n",
    "    \n",
    "}\n",
    "\n",
    "main();"
   ]
  },
  {
   "cell_type": "markdown",
   "id": "7e00f621",
   "metadata": {},
   "source": [
    "## 4-2 가변 대여는 하나만 사용이 가능하다.\n",
    "\n",
    "- 가변참조를 사용할 때 불변참조를 할 수 없다.\n",
    "- 가변참조는 실제 값을 변경하므로 불변참조 등을 사용하면 값에 대한 관리가 이슈가 된다. "
   ]
  },
  {
   "cell_type": "code",
   "execution_count": 15,
   "id": "42163872",
   "metadata": {},
   "outputs": [
    {
     "name": "stdout",
     "output_type": "stream",
     "text": [
      " i = 2 \n",
      " i = 3 \n",
      " i = 3\n"
     ]
    }
   ],
   "source": [
    "fn main() {\n",
    "   let mut i:i32 = 1;\n",
    "   let ref_i:&mut i32 = &mut i;\n",
    "   *ref_i = 2;\n",
    "   println!(\" i = {} \", i);\n",
    "   i = 3;\n",
    "   println!(\" i = {} \", i); \n",
    "   let ref_ii:&mut i32 = &mut i;\n",
    "   println!(\" i = {}\", ref_ii)\n",
    "}\n",
    "\n",
    "main();"
   ]
  },
  {
   "cell_type": "code",
   "execution_count": null,
   "id": "3289a059",
   "metadata": {},
   "outputs": [],
   "source": []
  },
  {
   "cell_type": "markdown",
   "id": "b1631e12",
   "metadata": {},
   "source": [
    "### 가변 참조가 두번 있을 경우는 에러가 발생 "
   ]
  },
  {
   "cell_type": "code",
   "execution_count": 16,
   "id": "83118470",
   "metadata": {},
   "outputs": [
    {
     "ename": "Error",
     "evalue": "unused variable: `another_ref_i`",
     "output_type": "error",
     "traceback": [
      "   let another_ref_i = &mut i;  // 가변 참조 빌려주기가 두 번 일어남",
      "\u001b[91m       ^^^^^^^^^^^^^\u001b[0m \u001b[94mwarning: unused variable: `another_ref_i`\u001b[0m",
      "unused variable: `another_ref_i`",
      "\u001b[1mhelp\u001b[0m: if this is intentional, prefix it with an underscore\n\n_another_ref_i"
     ]
    },
    {
     "ename": "Error",
     "evalue": "cannot borrow `i` as mutable more than once at a time",
     "output_type": "error",
     "traceback": [
      "   let ref_i = &mut i;",
      "\u001b[91m               ^^^^^^\u001b[0m \u001b[94mfirst mutable borrow occurs here\u001b[0m",
      "   let another_ref_i = &mut i;  // 가변 참조 빌려주기가 두 번 일어남",
      "\u001b[91m                       ^^^^^^\u001b[0m \u001b[94msecond mutable borrow occurs here\u001b[0m",
      "   *ref_i += 100;",
      "\u001b[91m   ^^^^^^^^^^^^^\u001b[0m \u001b[94mfirst borrow later used here\u001b[0m",
      "cannot borrow `i` as mutable more than once at a time"
     ]
    }
   ],
   "source": [
    "fn main() {\n",
    "   let mut i:i32 = 1;\n",
    "   let ref_i = &mut i;\n",
    "   let another_ref_i = &mut i;  // 가변 참조 빌려주기가 두 번 일어남\n",
    "   \n",
    "   *ref_i += 100;\n",
    "}\n",
    "\n",
    "main();"
   ]
  },
  {
   "cell_type": "code",
   "execution_count": null,
   "id": "68e5d916",
   "metadata": {},
   "outputs": [],
   "source": []
  },
  {
   "cell_type": "code",
   "execution_count": null,
   "id": "19e119bb",
   "metadata": {},
   "outputs": [],
   "source": []
  },
  {
   "cell_type": "markdown",
   "id": "088f8047",
   "metadata": {},
   "source": [
    "## 4-3 지역변수는 참조로 반환 금지 \n",
    "\n",
    "- 참조가 반환하면 그 전에 변수가 삭제되어 처리되지 않는다, "
   ]
  },
  {
   "cell_type": "code",
   "execution_count": 17,
   "id": "464c9d0e",
   "metadata": {},
   "outputs": [
    {
     "ename": "Error",
     "evalue": "cannot return reference to local variable `country`",
     "output_type": "error",
     "traceback": [
      "    &country",
      "\u001b[91m    ^^^^^^^^\u001b[0m \u001b[94mreturns a reference to data owned by the current function\u001b[0m",
      "cannot return reference to local variable `country`"
     ]
    }
   ],
   "source": [
    "fn return_localref() -> &'static String {\n",
    "    let country = String::from(\"대한민국\");\n",
    "    println!(\" {country}\");\n",
    "    &country\n",
    "}"
   ]
  },
  {
   "cell_type": "code",
   "execution_count": null,
   "id": "89aadec5",
   "metadata": {},
   "outputs": [],
   "source": []
  },
  {
   "cell_type": "markdown",
   "id": "72e1c18f",
   "metadata": {},
   "source": [
    "## 4-4. ref 와 & 는 같은 표현이다\n",
    "\n",
    "- 첫 번째는 ref 를 사용하고 두 번째는 & 를 사용했지만 결국 같은 의미다. "
   ]
  },
  {
   "cell_type": "code",
   "execution_count": 18,
   "id": "233a1f15",
   "metadata": {},
   "outputs": [
    {
     "name": "stdout",
     "output_type": "stream",
     "text": [
      "1\n",
      "&i32\n",
      "1\n",
      "&i32\n"
     ]
    }
   ],
   "source": [
    "fn main() { \n",
    "    let ref x = 1;\n",
    "    let y = &1;\n",
    "    println!(\"{}\",x);\n",
    "    println!(\"{}\",type_of(x));\n",
    "    \n",
    "    println!(\"{}\",y);\n",
    "    println!(\"{}\",type_of(x));\n",
    "}\n",
    "\n",
    "main();"
   ]
  },
  {
   "cell_type": "markdown",
   "id": "96b23e66",
   "metadata": {},
   "source": [
    "### reference 타입이 아닌 변수를 참조값"
   ]
  },
  {
   "cell_type": "code",
   "execution_count": 19,
   "id": "478a36f7",
   "metadata": {},
   "outputs": [
    {
     "name": "stdout",
     "output_type": "stream",
     "text": [
      "i32\n",
      "i32\n"
     ]
    }
   ],
   "source": [
    "fn main() {\n",
    "    let x = 1;\n",
    "    let &y1 : &i32 = &x;\n",
    "    println!(\"{}\",type_of(y1));\n",
    "    let y2 : i32 = *(&x);\n",
    "    println!(\"{}\",type_of(y2));\n",
    "}\n",
    "\n",
    "main();"
   ]
  },
  {
   "cell_type": "code",
   "execution_count": null,
   "id": "84bd846b",
   "metadata": {},
   "outputs": [],
   "source": []
  },
  {
   "cell_type": "markdown",
   "id": "ee45355e",
   "metadata": {},
   "source": [
    "### 패턴매치할 때 "
   ]
  },
  {
   "cell_type": "code",
   "execution_count": 20,
   "id": "0b46b810",
   "metadata": {},
   "outputs": [
    {
     "name": "stdout",
     "output_type": "stream",
     "text": [
      " 100 200\n",
      "Matched!\n"
     ]
    },
    {
     "data": {
      "text/plain": [
       "()"
      ]
     },
     "execution_count": 20,
     "metadata": {},
     "output_type": "execute_result"
    }
   ],
   "source": [
    "{ \n",
    "    #[derive(Clone, Copy)]\n",
    "    struct Point { x1: i32, y1: i32 }\n",
    "    \n",
    "    let point = Point { x1: 100, y1: 200 };\n",
    "\n",
    "    let Point { x1:ref x1, y1} = point;\n",
    "    \n",
    "    println!(\" {} {}\",x1, y1);\n",
    "}\n",
    "\n",
    "struct Foo(i32);\n",
    "// ...\n",
    "let foo = &Foo(42);\n",
    "match foo {\n",
    "    x => println!(\"Matched!\"),\n",
    "}"
   ]
  },
  {
   "cell_type": "code",
   "execution_count": 21,
   "id": "b1b464cf",
   "metadata": {},
   "outputs": [
    {
     "name": "stdout",
     "output_type": "stream",
     "text": [
      "Matched with number 42\n"
     ]
    },
    {
     "data": {
      "text/plain": [
       "()"
      ]
     },
     "execution_count": 21,
     "metadata": {},
     "output_type": "execute_result"
    }
   ],
   "source": [
    "match foo {\n",
    "    &Foo(num) => println!(\"Matched with number {}\", num),\n",
    "}"
   ]
  },
  {
   "cell_type": "code",
   "execution_count": null,
   "id": "d2c9a21d",
   "metadata": {},
   "outputs": [],
   "source": []
  },
  {
   "cell_type": "markdown",
   "id": "2a3ee446",
   "metadata": {},
   "source": [
    "## 4-4 참조 처리하기"
   ]
  },
  {
   "cell_type": "markdown",
   "id": "c2afb8bf",
   "metadata": {},
   "source": [
    "### 참조를 처리하려면 \n",
    "\n",
    "- 참조 매개변수를 그대로 반환\n",
    "- 실제 값으로 반환해서 소유권을 이동시켜야 한다. "
   ]
  },
  {
   "cell_type": "code",
   "execution_count": 22,
   "id": "f9baef74",
   "metadata": {},
   "outputs": [
    {
     "name": "stdout",
     "output_type": "stream",
     "text": [
      "100\n",
      "100\n"
     ]
    }
   ],
   "source": [
    "fn return_localref(x : &u32) -> &u32 {\n",
    "     x\n",
    "}\n",
    "\n",
    "fn return_localref_1(x : &u32) -> u32 {\n",
    "     *x\n",
    "}\n",
    "\n",
    "fn main() {\n",
    "    let country = 100;\n",
    "    let x = return_localref(&country);\n",
    "    println!(\"{x}\");\n",
    "        let x = return_localref_1(&country);\n",
    "    println!(\"{x}\");\n",
    "}\n",
    "\n",
    "main();"
   ]
  },
  {
   "cell_type": "code",
   "execution_count": null,
   "id": "875a6fe0",
   "metadata": {},
   "outputs": [],
   "source": []
  },
  {
   "cell_type": "code",
   "execution_count": null,
   "id": "844e5c83",
   "metadata": {},
   "outputs": [],
   "source": []
  }
 ],
 "metadata": {
  "kernelspec": {
   "display_name": "Rust",
   "language": "rust",
   "name": "rust"
  },
  "language_info": {
   "codemirror_mode": "rust",
   "file_extension": ".rs",
   "mimetype": "text/rust",
   "name": "Rust",
   "pygment_lexer": "rust",
   "version": ""
  }
 },
 "nbformat": 4,
 "nbformat_minor": 5
}
