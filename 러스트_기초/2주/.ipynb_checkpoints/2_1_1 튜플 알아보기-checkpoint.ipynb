{
 "cells": [
  {
   "cell_type": "code",
   "execution_count": null,
   "id": "fc97b5b0",
   "metadata": {},
   "outputs": [],
   "source": []
  },
  {
   "cell_type": "markdown",
   "id": "692296f4",
   "metadata": {},
   "source": [
    "##  외부 크레이트 로딩 및 트레이트 참조하기\n",
    "\n",
    "- :dep 크레이트이름 = 버전\n",
    "- 외부 크레이트를 로딩 후에 use을 사용해서 사요하는 모듈"
   ]
  },
  {
   "cell_type": "code",
   "execution_count": 3,
   "id": "54385fc1",
   "metadata": {},
   "outputs": [],
   "source": [
    ":dep typename = \"0.1.2\""
   ]
  },
  {
   "cell_type": "markdown",
   "id": "fed791ce",
   "metadata": {},
   "source": [
    "### 모듈의 트레이트를 사용\n",
    "\n",
    "- 이 트레이트 내의 메서드들을 다양한 자료형에서 구현이 되어있다.\n",
    "- 먼저 트레이트를 사용한다고 지정해야 구현된 메서드를 사용할 수 있다. "
   ]
  },
  {
   "cell_type": "code",
   "execution_count": 4,
   "id": "3b319c4c",
   "metadata": {},
   "outputs": [],
   "source": [
    "use typename::TypeName;"
   ]
  },
  {
   "cell_type": "code",
   "execution_count": null,
   "id": "a77ba42f",
   "metadata": {},
   "outputs": [],
   "source": []
  },
  {
   "cell_type": "markdown",
   "id": "72842b30",
   "metadata": {},
   "source": [
    "## 튜플 타입 알아보기\n",
    "\n",
    "\n",
    "\n",
    "- 배열과 마찬가지로 튜플은 고정 길이를 갖습니다.\n",
    "\n",
    "- 튜플은 서로 다른 타입의 값들을 하나의 복합 타입으로 묶습니다.\n",
    "\n",
    "- 튜플에 속한 값은 t.0, t.1과 같이 인덱스로 접근할 수 있습니다.\n",
    "\n",
    "- 비어있는 튜플()은 단위 타입(unit type)이라고도 합니다. 이는 타입이면서 해당 타입의 유일하며 유효한 값입니다. 즉 타입과 값이 모두 ()입니다. 예를 들어 함수나 식에서 반환 값이 없음을 나타낼 때 사용합니다.\n",
    "\n",
    "- 다른 언어에서 익숙한 void 개념으로 생각할 수 있습니다."
   ]
  },
  {
   "cell_type": "code",
   "execution_count": null,
   "id": "86c2041c",
   "metadata": {},
   "outputs": [],
   "source": []
  },
  {
   "cell_type": "markdown",
   "id": "ee699e93",
   "metadata": {},
   "source": [
    "## 1.  다양한 튜플 정의하기 \n",
    "\n",
    "### 튜플의 특징\n",
    "\n",
    "- 다양한 자료형을 하나로 묶어서 사용할 수 있다\n",
    "\n",
    "### 튜플을 지정하는 방법 \n",
    "\n",
    "- 아무것도 없는 튜플 : () (unit)\n",
    "- (f64, f64)\n",
    "- (String, i32)\n",
    "- (i32, String)  // 순서대로 타입을 지정\n",
    "- (i32, f64, Vec<String>, Option<bool>)"
   ]
  },
  {
   "cell_type": "markdown",
   "id": "8a907984",
   "metadata": {},
   "source": [
    "### 1-1 튜플 타입 알아보기 "
   ]
  },
  {
   "cell_type": "markdown",
   "id": "703933dc-168e-4cae-969a-41c578be6234",
   "metadata": {},
   "source": [
    "### 정수 값에 따른 타입 확인 "
   ]
  },
  {
   "cell_type": "code",
   "execution_count": 8,
   "id": "6094535c-b6c9-47ec-a7a1-6e7d023f68af",
   "metadata": {},
   "outputs": [],
   "source": [
    "let a = 100;"
   ]
  },
  {
   "cell_type": "code",
   "execution_count": 9,
   "id": "671dea5b-e1a2-4ade-a27b-7386c1428a22",
   "metadata": {},
   "outputs": [
    {
     "data": {
      "text/plain": [
       "\"i32\""
      ]
     },
     "execution_count": 9,
     "metadata": {},
     "output_type": "execute_result"
    }
   ],
   "source": [
    "a.type_name_of()"
   ]
  },
  {
   "cell_type": "markdown",
   "id": "fb1b5b7f-3ff5-4180-a6d9-344a910e8a05",
   "metadata": {},
   "source": [
    "###  문자열 리터럴 타입 확인 "
   ]
  },
  {
   "cell_type": "code",
   "execution_count": 10,
   "id": "31b6a87c-d7ed-4343-9e4f-b7ff21a77a43",
   "metadata": {},
   "outputs": [],
   "source": [
    "let s = \"String\";"
   ]
  },
  {
   "cell_type": "code",
   "execution_count": 11,
   "id": "6f33f23e-ef1d-4f32-8f37-5c7fb2827afb",
   "metadata": {},
   "outputs": [
    {
     "data": {
      "text/plain": [
       "\"str\""
      ]
     },
     "execution_count": 11,
     "metadata": {},
     "output_type": "execute_result"
    }
   ],
   "source": [
    "s.type_name_of()"
   ]
  },
  {
   "cell_type": "code",
   "execution_count": null,
   "id": "b97b765f-ace1-47cc-bbf1-2b6e16f0292c",
   "metadata": {},
   "outputs": [],
   "source": []
  },
  {
   "cell_type": "code",
   "execution_count": null,
   "id": "033726c7-729e-4cad-9cf0-dfca2d1775f0",
   "metadata": {},
   "outputs": [],
   "source": []
  },
  {
   "cell_type": "markdown",
   "id": "33bf1999",
   "metadata": {},
   "source": [
    "### 튜플 리터럴 정의 "
   ]
  },
  {
   "cell_type": "code",
   "execution_count": 5,
   "id": "a29c9a59",
   "metadata": {},
   "outputs": [],
   "source": [
    "let tup = (1,2,3,4,5);"
   ]
  },
  {
   "cell_type": "code",
   "execution_count": 6,
   "id": "7e154dae",
   "metadata": {},
   "outputs": [
    {
     "data": {
      "text/plain": [
       "(1, 2, 3, 4, 5)"
      ]
     },
     "execution_count": 6,
     "metadata": {},
     "output_type": "execute_result"
    }
   ],
   "source": [
    "tup"
   ]
  },
  {
   "cell_type": "markdown",
   "id": "3fe878d1",
   "metadata": {},
   "source": [
    "### 튜플의 타입을 확인하기 "
   ]
  },
  {
   "cell_type": "code",
   "execution_count": 7,
   "id": "64268901",
   "metadata": {},
   "outputs": [
    {
     "data": {
      "text/plain": [
       "\"(i32, i32, i32, i32, i32)\""
      ]
     },
     "execution_count": 7,
     "metadata": {},
     "output_type": "execute_result"
    }
   ],
   "source": [
    "tup.type_name_of()"
   ]
  },
  {
   "cell_type": "code",
   "execution_count": null,
   "id": "1102979b",
   "metadata": {},
   "outputs": [],
   "source": []
  },
  {
   "cell_type": "markdown",
   "id": "dd222912",
   "metadata": {},
   "source": [
    "### 1-2 튜플의 타입을 알아보기\n",
    "\n",
    "- 튜플 리터럴은 괄호와 값을 쉼표로 분리 \n",
    "- 튜플은 디스플레이 트레이트를 구현하지 않아서 Debug로 출력"
   ]
  },
  {
   "cell_type": "markdown",
   "id": "96d4cd59-655e-4c54-8640-d495fc06c883",
   "metadata": {},
   "source": [
    "### 튜플은 디스플레이 트레이트를 구현하지 않아서 Debug로 출력"
   ]
  },
  {
   "cell_type": "code",
   "execution_count": 12,
   "id": "b0052da4",
   "metadata": {},
   "outputs": [
    {
     "name": "stdout",
     "output_type": "stream",
     "text": [
      " type = (i32, i32, i32, i32, i32)\n",
      " data = (1, 2, 3, 4, 5)\n",
      " data = (1, 2, 3, 4, 5)\n",
      " data = (1, 2, 3, 4, 5)\n"
     ]
    }
   ],
   "source": [
    "fn main() {\n",
    "    let tup = (1,2,3,4,5);                       // 여러 원소를 나열해서 정의 \n",
    "    \n",
    "    println!(\" type = {}\", tup.type_name_of());  // 튜플의 자료형 확인 \n",
    "    println!(\" data = {:?}\", tup);               // Debug 출력\n",
    "    \n",
    "    let _y = tup;\n",
    "    println!(\" data = {:?}\", tup);               // Debug 출력\n",
    "    println!(\" data = {:?}\", _y);               // Debug 출력\n",
    "    \n",
    "}\n",
    "\n",
    "main();"
   ]
  },
  {
   "cell_type": "code",
   "execution_count": null,
   "id": "cffee2b3",
   "metadata": {},
   "outputs": [],
   "source": []
  },
  {
   "cell_type": "markdown",
   "id": "98b472c7",
   "metadata": {},
   "source": [
    "## 2. 튜플 원소를  참조하기\n",
    "\n",
    "### 구조분해\n",
    "- 튜플의 값을 변수에 할당해서 할당할 수 있음\n",
    "\n",
    "### 인덱스 참조\n",
    "- 인덱스의 번호를 사용해서 참조"
   ]
  },
  {
   "cell_type": "markdown",
   "id": "0848dac0",
   "metadata": {},
   "source": [
    "### 2-1  튜플의 원소를 인덱스와 구조분해 참조하기 "
   ]
  },
  {
   "cell_type": "code",
   "execution_count": 14,
   "id": "d4fb06a9",
   "metadata": {},
   "outputs": [
    {
     "name": "stdout",
     "output_type": "stream",
     "text": [
      "1st index: 7\n",
      "2nd index: true\n",
      " a=10, b=20, c=30\n"
     ]
    }
   ],
   "source": [
    "fn main() {\n",
    "    let t: (i8, bool) = (7, true);        // 구조분해처리\n",
    "    println!(\"1st index: {}\", t.0);       // 인덱스 참조처리 \n",
    "    println!(\"2nd index: {}\", t.1);\n",
    "    \n",
    "    let (a,b,c) = (10,20,30);             // 구조분해 \n",
    "    println!(\" a={}, b={}, c={}\",a,b,c);  // 변수를 출력하기 \n",
    "}\n",
    "\n",
    "main();"
   ]
  },
  {
   "cell_type": "code",
   "execution_count": null,
   "id": "9ebb1b61",
   "metadata": {},
   "outputs": [],
   "source": []
  },
  {
   "cell_type": "markdown",
   "id": "2c6de019",
   "metadata": {},
   "source": [
    "### 2-2 튜플 구조 분해시 미사용 처리\n",
    "\n",
    "- 사용하지 않는 튜플은 _ 를 사용해서 배제할 수 있음 "
   ]
  },
  {
   "cell_type": "code",
   "execution_count": 15,
   "id": "45ead1c4",
   "metadata": {},
   "outputs": [
    {
     "name": "stdout",
     "output_type": "stream",
     "text": [
      " head : I see the eigenvalue \n",
      " tail : in thine eye\n",
      "ii0=100, ii4=500\n"
     ]
    }
   ],
   "source": [
    "fn main() {\n",
    "    \n",
    "    let text = \"I see the eigenvalue in thine eye\";          // 문자열 리터럴 생성 \n",
    "    let (mut head, mut tail) = text.split_at(21);            // 문자열 리터럴을 특정 위치에서 분리하기  \n",
    "          \n",
    "    println!(\" head : {}\", head);\n",
    "    println!(\" tail : {}\", tail);\n",
    "    \n",
    "    let t4 = (100,200,300,400,500);\n",
    "    let (ii0,_,_,_,ii4) = t4;                                // 튜플 구조분해할 때 사용하는 변수만 정의 첫번째와 마지막만 사용하기 \n",
    "    println!(\"ii0={}, ii4={}\", ii0, ii4);                    // 사용하지 않는 경우는 밑줄 즉 _ 로 표시\n",
    "}\n",
    "\n",
    "main();"
   ]
  },
  {
   "cell_type": "markdown",
   "id": "83d9b4fe",
   "metadata": {},
   "source": [
    "### 2-3 튜플 구조 분해시 미사용 처리 :  생략 처리 \n",
    "\n",
    "- 생략은 .. 을 사용 "
   ]
  },
  {
   "cell_type": "code",
   "execution_count": 16,
   "id": "5f9d3bc3",
   "metadata": {},
   "outputs": [
    {
     "name": "stdout",
     "output_type": "stream",
     "text": [
      "i0=100, i4=500\n",
      "ij0=100\n",
      "ij4=500\n"
     ]
    }
   ],
   "source": [
    "fn main() {\n",
    "    let t5 = (100,200,300,400,500);\n",
    "    let (i0,..,i4) = t5;                    // 5개 원소를 가진 튜플 앞과 뒤만 사용하고 중간은 생략\n",
    "    println!(\"i0={}, i4={}\", i0, i4);\n",
    "    \n",
    "    let (ij0,..) = t5;                      // 맨 앞의 원소만 사용하고 나머지 생략 \n",
    "    println!(\"ij0={}\", ij0);\n",
    "    \n",
    "    let (..,ij4) = t5;                      // 맨 뒤의 원소만 사용하고 나머지 생략 \n",
    "    println!(\"ij4={}\", ij4);\n",
    "}\n",
    "\n",
    "main();"
   ]
  },
  {
   "cell_type": "markdown",
   "id": "0895b951",
   "metadata": {},
   "source": [
    "### 2-4 구조분해로 변수 스왑처리\n",
    "\n",
    "- 두 개의 변수의 값을 바꾸기 "
   ]
  },
  {
   "cell_type": "code",
   "execution_count": 17,
   "id": "fa2b5867",
   "metadata": {},
   "outputs": [
    {
     "name": "stdout",
     "output_type": "stream",
     "text": [
      "x=200, y=100\n"
     ]
    }
   ],
   "source": [
    "fn swap_int(x :i32, y :i32) -> (i32, i32) {\n",
    "    let (x,y) = (y,x);\n",
    "    println!(\"x={}, y={}\", x,y);\n",
    "    (x,y)\n",
    "}\n",
    "\n",
    "swap_int(100,200);"
   ]
  },
  {
   "cell_type": "markdown",
   "id": "a2aae5ee",
   "metadata": {},
   "source": [
    "### 2-5 튜플은 별도의 인덱스를 제공"
   ]
  },
  {
   "cell_type": "code",
   "execution_count": 18,
   "id": "17e448fa",
   "metadata": {},
   "outputs": [
    {
     "name": "stdout",
     "output_type": "stream",
     "text": [
      " tup.0=20, tup.1=30, tup.2=40\n"
     ]
    }
   ],
   "source": [
    "let tup = (20,30,40);\n",
    "\n",
    "println!(\" tup.0={}, tup.1={}, tup.2={}\", tup.0,tup.1, tup.2);"
   ]
  },
  {
   "cell_type": "code",
   "execution_count": null,
   "id": "76a4a376",
   "metadata": {},
   "outputs": [],
   "source": []
  },
  {
   "cell_type": "markdown",
   "id": "1307cd7a",
   "metadata": {},
   "source": [
    "## 3.  튜플 변경 \n",
    "\n",
    "- Rust에서 튜플은 변경 불가능한(immutable) 요소로 구성됩니다. \n",
    "- 튜플의 요소는 생성된 후에는 변경할 수 없습니다. \n",
    "- 따라서 튜플에 할당된 값은 변경할 수 없으며, 튜플의 요소에 접근하여 값을 수정하는 것도 불가능합니다.\n",
    "\n"
   ]
  },
  {
   "cell_type": "code",
   "execution_count": null,
   "id": "d108bf7d",
   "metadata": {},
   "outputs": [],
   "source": []
  },
  {
   "cell_type": "markdown",
   "id": "756b58e1",
   "metadata": {},
   "source": [
    "### 3-1 튜플의 변경은 새로운 튜플을 만드는 것\n",
    "\n",
    "- 하지만 튜플의 요소로 변경 가능한(mut) 타입을 포함하는 경우, 해당 요소의 값을 변경할 수 있습니다. \n",
    "- 예를 들어, 튜플의 요소 중 하나가 가변 변수인 경우 그 변수의 값을 변경할 수 있습니다."
   ]
  },
  {
   "cell_type": "code",
   "execution_count": 19,
   "id": "89442337",
   "metadata": {},
   "outputs": [
    {
     "name": "stdout",
     "output_type": "stream",
     "text": [
      "(20, \"Hello, World!\", true)\n"
     ]
    }
   ],
   "source": [
    "fn main() {\n",
    "    let mut tuple = (10, String::from(\"Hello\"), true);\n",
    "\n",
    "    tuple.0 = 20;                   // 변경 가능한 요소 수정\n",
    "    tuple.1.push_str(\", World!\");   // 변경 가능한 요소 수정\n",
    "\n",
    "    println!(\"{:?}\", tuple);        // (20, \"Hello, World!\", true)\n",
    "    \n",
    "    \n",
    "}\n",
    "\n",
    "main();"
   ]
  },
  {
   "cell_type": "markdown",
   "id": "b8af6561",
   "metadata": {},
   "source": [
    "## 3-2 튜플 내부의 원소가 별경가능할 경우 소유권 이동 발생 "
   ]
  },
  {
   "cell_type": "code",
   "execution_count": 20,
   "id": "1c4dc550",
   "metadata": {},
   "outputs": [
    {
     "ename": "Error",
     "evalue": "borrow of moved value: `tuple`",
     "output_type": "error",
     "traceback": [
      "    let _x = tuple;",
      "\u001b[91m             ^^^^^\u001b[0m \u001b[94mvalue moved here\u001b[0m",
      "    println!(\"{:?}\", tuple);        // (20, \"Hello, World!\", true)",
      "\u001b[91m                     ^^^^^\u001b[0m \u001b[94mvalue borrowed here after move\u001b[0m",
      "    let mut tuple = (10, String::from(\"Hello\"), true);",
      "\u001b[91m        ^^^^^^^^^\u001b[0m \u001b[94mmove occurs because `tuple` has type `(i32, String, bool)`, which does not implement the `Copy` trait\u001b[0m",
      "borrow of moved value: `tuple`",
      "\u001b[1mhelp\u001b[0m: consider cloning the value if the performance cost is acceptable\n\n.clone()"
     ]
    }
   ],
   "source": [
    "fn main() {\n",
    "    let mut tuple = (10, String::from(\"Hello\"), true);\n",
    "\n",
    "    tuple.0 = 20;                   // 변경 가능한 요소 수정\n",
    "    tuple.1.push_str(\", World!\");   // 변경 가능한 요소 수정\n",
    "\n",
    "    println!(\"{:?}\", tuple);        // (20, \"Hello, World!\", true)\n",
    "    \n",
    "    let _x = tuple;\n",
    "    println!(\"{:?}\", tuple);        // (20, \"Hello, World!\", true)\n",
    "    \n",
    "}\n",
    "\n",
    "main();"
   ]
  },
  {
   "cell_type": "code",
   "execution_count": null,
   "id": "4c0c992c",
   "metadata": {},
   "outputs": [],
   "source": []
  },
  {
   "cell_type": "markdown",
   "id": "fff079bb",
   "metadata": {},
   "source": [
    "### 3-3 튜플의 출력 "
   ]
  },
  {
   "cell_type": "code",
   "execution_count": 21,
   "id": "3255c7ee",
   "metadata": {},
   "outputs": [
    {
     "ename": "Error",
     "evalue": "`({integer}, {integer}, {integer})` doesn't implement `std::fmt::Display`",
     "output_type": "error",
     "traceback": [
      "\u001b[31m[E0277] Error:\u001b[0m `({integer}, {integer}, {integer})` doesn't implement `std::fmt::Display`",
      "   \u001b[38;5;246m╭\u001b[0m\u001b[38;5;246m─\u001b[0m\u001b[38;5;246m[\u001b[0mcommand_21:1:1\u001b[38;5;246m]\u001b[0m",
      "   \u001b[38;5;246m│\u001b[0m",
      " \u001b[38;5;246m5 │\u001b[0m \u001b[38;5;249mp\u001b[0m\u001b[38;5;249mr\u001b[0m\u001b[38;5;249mi\u001b[0m\u001b[38;5;249mn\u001b[0m\u001b[38;5;249mt\u001b[0m\u001b[38;5;249ml\u001b[0m\u001b[38;5;249mn\u001b[0m\u001b[38;5;249m!\u001b[0m\u001b[38;5;249m(\u001b[0m\u001b[38;5;249m\"\u001b[0m\u001b[38;5;249m{\u001b[0m\u001b[38;5;249m}\u001b[0m\u001b[38;5;249m\"\u001b[0m\u001b[38;5;249m,\u001b[0m\u001b[38;5;249m \u001b[0m\u001b[38;5;54mx\u001b[0m\u001b[38;5;249m)\u001b[0m\u001b[38;5;249m;\u001b[0m",
      " \u001b[38;5;240m  │\u001b[0m                \u001b[38;5;54m┬\u001b[0m  ",
      " \u001b[38;5;240m  │\u001b[0m                \u001b[38;5;54m╰\u001b[0m\u001b[38;5;54m─\u001b[0m\u001b[38;5;54m─\u001b[0m `({integer}, {integer}, {integer})` cannot be formatted with the default formatter",
      "\u001b[38;5;246m───╯\u001b[0m"
     ]
    }
   ],
   "source": [
    "let x = (1,2,3);\n",
    "\n",
    "let y = x;\n",
    "\n",
    "println!(\"{}\", x);"
   ]
  },
  {
   "cell_type": "markdown",
   "id": "f71369da",
   "metadata": {},
   "source": [
    "### 튜플도 기본으로 출력이 불가 \n",
    "\n",
    "- 그래서 Debug 로 출력해야 함 "
   ]
  },
  {
   "cell_type": "code",
   "execution_count": 22,
   "id": "b677b7d0",
   "metadata": {},
   "outputs": [
    {
     "name": "stdout",
     "output_type": "stream",
     "text": [
      "(1, 2, 3)\n"
     ]
    }
   ],
   "source": [
    "let x = (1,2,3);\n",
    "\n",
    "let y = x;\n",
    "\n",
    "println!(\"{:?}\", x);"
   ]
  },
  {
   "cell_type": "code",
   "execution_count": null,
   "id": "3927356e",
   "metadata": {},
   "outputs": [],
   "source": []
  },
  {
   "cell_type": "markdown",
   "id": "6b97a525",
   "metadata": {},
   "source": [
    "### 3-4 튜플은 이동되지 않고 복사된다. \n",
    "\n",
    "- 튜플의 값을 다른 변수에 할당하면 두 변수를 그대로 사용할 수 있다\n",
    "- 단 Copy 트레이트가 구현된 기본 타입일 경우만 해당한다"
   ]
  },
  {
   "cell_type": "code",
   "execution_count": 23,
   "id": "ce15e9c5",
   "metadata": {},
   "outputs": [],
   "source": [
    "use std::ptr"
   ]
  },
  {
   "cell_type": "code",
   "execution_count": 24,
   "id": "c8e6d9b6",
   "metadata": {},
   "outputs": [
    {
     "name": "stdout",
     "output_type": "stream",
     "text": [
      "(1, 2, 3)\n",
      "(1, 2, 3)\n",
      "false\n"
     ]
    }
   ],
   "source": [
    "let x = (1,2,3);\n",
    "\n",
    "let y = x;\n",
    "\n",
    "println!(\"{:?}\", x);\n",
    "println!(\"{:?}\", y);\n",
    "\n",
    "println!(\"{}\", std::ptr::eq(&x, &y));"
   ]
  },
  {
   "cell_type": "markdown",
   "id": "829bed6b",
   "metadata": {},
   "source": [
    "### 3-5  튜플 내의 String 등 참조 객체가 들어오면 이동\n",
    "\n",
    "- 즉 프리미티브만으로 구성될 경우만 복사가 발생 "
   ]
  },
  {
   "cell_type": "code",
   "execution_count": 25,
   "id": "61552735",
   "metadata": {},
   "outputs": [
    {
     "ename": "Error",
     "evalue": "borrow of moved value: `x`",
     "output_type": "error",
     "traceback": [
      "    let y = x;",
      "\u001b[91m            ^\u001b[0m \u001b[94mvalue moved here\u001b[0m",
      "    println!(\"{:?}\", x);",
      "\u001b[91m                     ^\u001b[0m \u001b[94mvalue borrowed here after move\u001b[0m",
      "    let x = (Box::new(\"가을\"),Box::new(\"겨울\"), Box::new(\"봄\"));",
      "\u001b[91m        ^\u001b[0m \u001b[94mmove occurs because `x` has type `(Box<&str>, Box<&str>, Box<&str>)`, which does not implement the `Copy` trait\u001b[0m",
      "borrow of moved value: `x`",
      "\u001b[1mhelp\u001b[0m: consider cloning the value if the performance cost is acceptable\n\n.clone()"
     ]
    }
   ],
   "source": [
    "fn main() { \n",
    "    \n",
    "    let x = (Box::new(\"가을\"),Box::new(\"겨울\"), Box::new(\"봄\"));\n",
    "\n",
    "    let y = x;\n",
    "\n",
    "    println!(\"{:?}\", x);\n",
    "    println!(\"{:?}\", y);\n",
    "\n",
    "    println!(\"{}\", std::ptr::eq(&x, &y));\n",
    "}\n",
    "\n",
    "main();"
   ]
  },
  {
   "cell_type": "markdown",
   "id": "e30e3933",
   "metadata": {},
   "source": [
    "### 3-6 튜플 내의 모든 값이 프리미티브만 있을경우만 복사"
   ]
  },
  {
   "cell_type": "code",
   "execution_count": 26,
   "id": "3c5c1b82",
   "metadata": {},
   "outputs": [
    {
     "name": "stdout",
     "output_type": "stream",
     "text": [
      "(1, \"겨울\", 2)\n"
     ]
    }
   ],
   "source": [
    "fn main() { \n",
    "    \n",
    "    let x = (1,\"겨울\".to_string(),2);\n",
    "\n",
    "    let y = x;\n",
    "\n",
    "    //println!(\"{:?}\", x);\n",
    "    println!(\"{:?}\", y);\n",
    "\n",
    "    //println!(\"{}\", std::ptr::eq(&x, &y));\n",
    "}\n",
    "\n",
    "main();"
   ]
  },
  {
   "cell_type": "code",
   "execution_count": null,
   "id": "db576bf2",
   "metadata": {},
   "outputs": [],
   "source": []
  }
 ],
 "metadata": {
  "kernelspec": {
   "display_name": "Rust",
   "language": "rust",
   "name": "rust"
  },
  "language_info": {
   "codemirror_mode": "rust",
   "file_extension": ".rs",
   "mimetype": "text/rust",
   "name": "Rust",
   "pygment_lexer": "rust",
   "version": ""
  }
 },
 "nbformat": 4,
 "nbformat_minor": 5
}
