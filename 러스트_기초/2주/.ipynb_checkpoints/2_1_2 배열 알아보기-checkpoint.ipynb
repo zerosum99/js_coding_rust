{
 "cells": [
  {
   "cell_type": "markdown",
   "id": "d4249003",
   "metadata": {},
   "source": [
    "## 러스트를 위한 주피터 명령어 "
   ]
  },
  {
   "cell_type": "code",
   "execution_count": 2,
   "id": "91ead5f7",
   "metadata": {},
   "outputs": [
    {
     "data": {
      "text/html": [
       "<table>\n",
       "<tr><td>:clear</td><td>Clear all state, keeping compilation cache</td></tr>\n",
       "<tr><td>:dep</td><td>Add dependency. e.g. :dep regex = \"1.0\"</td></tr>\n",
       "<tr><td>:efmt</td><td>Set the formatter for errors returned by ?</td></tr>\n",
       "<tr><td>:explain</td><td>Print explanation of last error</td></tr>\n",
       "<tr><td>:fmt</td><td>Set output formatter (default: {:?})</td></tr>\n",
       "<tr><td>:help</td><td>Print command help</td></tr>\n",
       "<tr><td>:internal_debug</td><td>Toggle various internal debugging code</td></tr>\n",
       "<tr><td>:last_compile_dir</td><td>Print the directory in which we last compiled</td></tr>\n",
       "<tr><td>:last_error_json</td><td>Print the last compilation error as JSON (for debugging)</td></tr>\n",
       "<tr><td>:linker</td><td>Set/print linker. Supported: system, lld, mold</td></tr>\n",
       "<tr><td>:load_config</td><td>Reloads startup configuration files. Accepts optional flag `--quiet` to suppress logging.</td></tr>\n",
       "<tr><td>:offline</td><td>Set offline mode when invoking cargo</td></tr>\n",
       "<tr><td>:opt</td><td>Set optimization level (0/1/2)</td></tr>\n",
       "<tr><td>:preserve_vars_on_panic</td><td>Try to keep vars on panic (0/1)</td></tr>\n",
       "<tr><td>:quit</td><td>Quit evaluation and exit</td></tr>\n",
       "<tr><td>:sccache</td><td>Set whether to use sccache (0/1).</td></tr>\n",
       "<tr><td>:time_passes</td><td>Toggle printing of rustc pass times (requires nightly)</td></tr>\n",
       "<tr><td>:timing</td><td>Toggle printing of how long evaluations take</td></tr>\n",
       "<tr><td>:toolchain</td><td>Set which toolchain to use (e.g. nightly)</td></tr>\n",
       "<tr><td>:vars</td><td>List bound variables and their types</td></tr>\n",
       "<tr><td>:version</td><td>Print Evcxr version</td></tr>\n",
       "</table>\n"
      ],
      "text/plain": [
       ":clear            Clear all state, keeping compilation cache\n",
       ":dep              Add dependency. e.g. :dep regex = \"1.0\"\n",
       ":efmt             Set the formatter for errors returned by ?\n",
       ":explain          Print explanation of last error\n",
       ":fmt              Set output formatter (default: {:?})\n",
       ":help             Print command help\n",
       ":internal_debug   Toggle various internal debugging code\n",
       ":last_compile_dir Print the directory in which we last compiled\n",
       ":last_error_json  Print the last compilation error as JSON (for debugging)\n",
       ":linker           Set/print linker. Supported: system, lld, mold\n",
       ":load_config      Reloads startup configuration files. Accepts optional flag `--quiet` to suppress logging.\n",
       ":offline          Set offline mode when invoking cargo\n",
       ":opt              Set optimization level (0/1/2)\n",
       ":preserve_vars_on_panic Try to keep vars on panic (0/1)\n",
       ":quit             Quit evaluation and exit\n",
       ":sccache          Set whether to use sccache (0/1).\n",
       ":time_passes      Toggle printing of rustc pass times (requires nightly)\n",
       ":timing           Toggle printing of how long evaluations take\n",
       ":toolchain        Set which toolchain to use (e.g. nightly)\n",
       ":vars             List bound variables and their types\n",
       ":version          Print Evcxr version\n"
      ]
     },
     "execution_count": 2,
     "metadata": {},
     "output_type": "execute_result"
    }
   ],
   "source": [
    ":help"
   ]
  },
  {
   "cell_type": "markdown",
   "id": "e62f0d04",
   "metadata": {},
   "source": [
    "## 외부 크레이트 가져오기 "
   ]
  },
  {
   "cell_type": "code",
   "execution_count": 2,
   "id": "3fd1bb56",
   "metadata": {},
   "outputs": [],
   "source": [
    ":dep typename = \"0.1.2\""
   ]
  },
  {
   "cell_type": "markdown",
   "id": "5b65c38c",
   "metadata": {},
   "source": [
    "## 외부 트레이트 사용하기 \n",
    "\n",
    "-  현재 모델에서 외부 트레이트로 지정된 메서드를 사용하려면 \n",
    "- use 를 사용해서 트레이트를 가져와야 한다. "
   ]
  },
  {
   "cell_type": "markdown",
   "id": "bd5a76ee-81a0-41c4-97be-f64a4c2edb91",
   "metadata": {},
   "source": [
    "### 사용할 트레이트를 use 로 표시 "
   ]
  },
  {
   "cell_type": "code",
   "execution_count": 3,
   "id": "324001c8",
   "metadata": {},
   "outputs": [],
   "source": [
    "use typename::TypeName;"
   ]
  },
  {
   "cell_type": "markdown",
   "id": "65b3a990",
   "metadata": {},
   "source": [
    "### 타입별칭 정의 "
   ]
  },
  {
   "cell_type": "code",
   "execution_count": 5,
   "id": "cdf80a9e",
   "metadata": {},
   "outputs": [],
   "source": [
    "type tup3 = (i32,u32,f32);"
   ]
  },
  {
   "cell_type": "code",
   "execution_count": null,
   "id": "e45b47b3",
   "metadata": {},
   "outputs": [],
   "source": []
  },
  {
   "cell_type": "markdown",
   "id": "a2f96b9d",
   "metadata": {},
   "source": [
    "#  배열\n",
    "\n",
    "\n",
    "\n",
    "- 배열은, 같은 타입 T의 값이 N개 있는 것입니다. 여기서 N은 컴파일 타임에 결정된 값이어야 합니다. 이 길이도 타입의 일부입니다. 따라서, [u8; 3]와 [u8; 4]은 서로 다른 타입입니다.\n",
    "\n",
    "- 리터럴을 사용하여 배열에 값을 할당할 수 있습니다.\n",
    "\n",
    "- 포매팅 문자열에서 ?는 디버깅 출력을 의미합니다. {}는 기본 출력이며, {:?}는 디버깅 출력입니다. {a}, {a:?}와 같이 출력할 변수 이름을 포매팅 문자열에 포함시킬 수도 있으며, 이 경우 인자 a는 별도의 인자로 추가하지 않습니다.\n",
    "\n",
    "- #을 추가하면({a:#?}) 좀 더 읽기 쉬운 “이쁜” 형태로 출력이 됩니다.\n",
    "\n",
    "### 배열은 동일한 자료형을 가지는 여러 원소를 구성\n",
    "### 러스트의 배열은 스택에 저장\n",
    "\n",
    "- 배열 리터럴  :  let variable_name = [value1,value2,value3];\n",
    "\n",
    "- 배열 자료형 지정과 배열 리터럴 할당  : let variable_name:[dataType;size] = [value1,value2,value3];\n",
    "\n",
    "- 배열 자료형 지정과 배열 초기화 할당 : let variable_name:[dataType;size] = [default_value_for_elements;size];"
   ]
  },
  {
   "cell_type": "code",
   "execution_count": null,
   "id": "ff7387a3",
   "metadata": {},
   "outputs": [],
   "source": []
  },
  {
   "cell_type": "markdown",
   "id": "614536dc",
   "metadata": {},
   "source": [
    "# 1. 배열 리터럴 \n",
    "\n",
    "- 대괄호 내의 동일한 자료형의 원소를 나열해서 지정한다.\n",
    "- 원소의 값이 같을 때는 [0;20] 처럼 지정한다. "
   ]
  },
  {
   "cell_type": "markdown",
   "id": "71d1a36d",
   "metadata": {},
   "source": [
    "## 1-1 배열 생성 및 타입확인 \n",
    "\n",
    "- 배열 리터럴은 배열의 값을 나열하거나\n",
    "- [0;5] 동일한 값으로 세팅시키때에는 세미콜론의 왼쪽은 값이고 오른쪽은 갯수\n",
    "- [i32;5] 는 배열의 타입을 표시한다.  배열 리터럴과 차이점은 세미콜론 왼쪽에 값이 아닌 타입을 지정한다."
   ]
  },
  {
   "cell_type": "markdown",
   "id": "acbf939c",
   "metadata": {},
   "source": [
    "### 배열 리터럴은 대괄호 내의 동일한 자료형의 값으로 표시"
   ]
  },
  {
   "cell_type": "code",
   "execution_count": 6,
   "id": "afdf54e3",
   "metadata": {},
   "outputs": [
    {
     "name": "stdout",
     "output_type": "stream",
     "text": [
      " type = [i32; 20]\n"
     ]
    }
   ],
   "source": [
    "fn main() {\n",
    "    let arr1 = [1,2,3,4,5];            // 여러 원소를 나열해서 정의 \n",
    "    let arr2 = [0;20];                 // 동일한 값과 개수로 초기화 \n",
    "    \n",
    "    println!(\" type = {}\", arr2.type_name_of());\n",
    "}\n",
    "main();"
   ]
  },
  {
   "cell_type": "markdown",
   "id": "c8da0cf8",
   "metadata": {},
   "source": [
    "### 배열 에대한 출력도 Debug 인 콜론과 물음표를 사용\n",
    "\n",
    "- 배열도 내부에 Display가 구현되지 않고 Debug 구현되어 \n",
    "- 출력할 때는  {:?} 로 처리 "
   ]
  },
  {
   "cell_type": "code",
   "execution_count": 14,
   "id": "9a927784",
   "metadata": {},
   "outputs": [
    {
     "name": "stdout",
     "output_type": "stream",
     "text": [
      "[1, 2, 3, 4, 5]\n",
      "index search : 1\n",
      " type [i32; 5] \n",
      "index search : a\n",
      "[\"a\", \"b\"]\n"
     ]
    }
   ],
   "source": [
    "fn main() {\n",
    "    let arr = [1,2,3,4,5];                          // 배열 리터럴을 대괄호를 사용한다. \n",
    "    \n",
    "    let ar_str = [\"a\".to_string(), \"b\".to_string()];\n",
    "    \n",
    "    println!(\"{:?}\", arr);                          // 배열도 출력할 때는 디버그 타입을 사용 \n",
    "    \n",
    "    println!(\" type {} \", arr.type_name_of());      // 인스턴스의 타입으로  확인하기 \n",
    "    \n",
    "    println!(\"index search : {}\", arr[0]);          // 하나의 원소를 선택할 때는 인덱스 검색으로 사용\n",
    "    \n",
    "    let a = & ar_str[0];\n",
    "    println!(\"index search : {}\", a);               // 하나의 원소를 선택할 때는 인덱스 검색으로 사용\n",
    "    \n",
    "    println!(\"{:?}\", ar_str);\n",
    "}\n",
    "\n",
    "main();"
   ]
  },
  {
   "cell_type": "markdown",
   "id": "eb119b95",
   "metadata": {},
   "source": [
    "### 배열의 선언, 초기화를 같이 지정하기 \n",
    "\n",
    "- 배열선은은 초기화와 유사하지만 값 대신 자료형을 표시한다.\n",
    "- 배열 자료형에는 반드시 길이를 지정해야 한다.\n",
    "- 배열은 길이까지 자료형이다. "
   ]
  },
  {
   "cell_type": "code",
   "execution_count": 4,
   "id": "960116d9",
   "metadata": {},
   "outputs": [
    {
     "name": "stdout",
     "output_type": "stream",
     "text": [
      "a: [42, 42, 42, 42, 42, 0, 42, 42, 42, 42]\n"
     ]
    }
   ],
   "source": [
    "fn main() {\n",
    "    let mut a: [i8; 10] = [42; 10];            // 배열 자료형, 배열 초기화 \n",
    "    a[5] = 0;                                  // 배열 원소를 갱신하기 \n",
    "    println!(\"a: {:?}\", a);\n",
    "}\n",
    "\n",
    "main();"
   ]
  },
  {
   "cell_type": "markdown",
   "id": "9d539ae8",
   "metadata": {},
   "source": [
    "## 1-2 배열 원소 조회 "
   ]
  },
  {
   "cell_type": "markdown",
   "id": "78e2da7e",
   "metadata": {},
   "source": [
    "### 배열의 원소는 검색연산자인 대괄호를 사용\n",
    "\n",
    "-  인덱스 검색 연산자 : 대괄호 [ ]\n",
    "-  대괄호 내부에는 인덱스 값을 지정함\n",
    "  "
   ]
  },
  {
   "cell_type": "code",
   "execution_count": 7,
   "id": "dd4c2ad5",
   "metadata": {},
   "outputs": [
    {
     "name": "stdout",
     "output_type": "stream",
     "text": [
      "This is a sentence in English\n",
      "English, This, sentence, a, in, is, \n",
      "데이터 처리 \n"
     ]
    }
   ],
   "source": [
    "fn main() {\n",
    "    let x = [\"English\", \"This\", \"sentence\", \"a\", \"in\", \"is\"];\n",
    "    println!(\"{} {} {} {} {} {}\", x[1], x[5], x[3], x[2], x[4], x[0]);\n",
    "    \n",
    "    for i in x {\n",
    "        print!(\"{}, \",i);\n",
    "    }\n",
    "    println!();\n",
    "    println!(\"데이터 처리 \");\n",
    "}\n",
    "\n",
    "main();"
   ]
  },
  {
   "cell_type": "markdown",
   "id": "c8f15073",
   "metadata": {},
   "source": [
    "### 배열 출력할 때 주의  \n",
    "\n",
    "-  디버그 모드가 기본"
   ]
  },
  {
   "cell_type": "code",
   "execution_count": 10,
   "id": "b08dcfbb",
   "metadata": {},
   "outputs": [
    {
     "name": "stdout",
     "output_type": "stream",
     "text": [
      "x = [\"English\", \"This\"] \"[std::string::String; 2]\"\n",
      "y = 출력\n",
      " [\"English\", \"This\"] \n",
      "z = [\"English\", \"This\"] \n"
     ]
    }
   ],
   "source": [
    "fn main() {\n",
    "    let x = [\"English\".to_string(), \"This\".to_string()];\n",
    "    let y = \"출력\";\n",
    "    let z = &x;\n",
    "    println!(\"x = {:?} {:?}\", x, x.type_name_of());\n",
    "    println!(\"y = {y}\");\n",
    "    println!(\" {z:?} \");  //[&str; 6]` 참조는 디폴트 자료형이 아님 그래서 debug 모드로 출력이 필요\n",
    "    println!(\"z = {:?} \", z);\n",
    "}\n",
    "\n",
    "main();"
   ]
  },
  {
   "cell_type": "code",
   "execution_count": null,
   "id": "c9decfce",
   "metadata": {},
   "outputs": [],
   "source": []
  },
  {
   "cell_type": "markdown",
   "id": "675cd3b4",
   "metadata": {},
   "source": [
    "##  2. 배열 타입 지정 처리\n",
    "\n",
    "- 대괄호에 타입을 지정하고 세미콜론을 붙이고 배열의 원소개수를 지정\n",
    "- 배열 자료형을 결정할 때는 자료형과 원소개수까지 포함한다. "
   ]
  },
  {
   "cell_type": "code",
   "execution_count": 10,
   "id": "0759f3da",
   "metadata": {},
   "outputs": [
    {
     "name": "stdout",
     "output_type": "stream",
     "text": [
      "[0, 0, 0, 0, 0, 0, 0, 0, 0, 0] \n",
      "[1, 1, 1, 1, 1, 1, 1, 1, 1, 1] \n",
      "[0, 0, 0, 0, 0, 0, 0, 0, 0, 0] \n",
      "[1, 1, 1, 1, 1, 1, 1, 1, 1, 1] \n"
     ]
    },
    {
     "data": {
      "text/plain": [
       "()"
      ]
     },
     "execution_count": 10,
     "metadata": {},
     "output_type": "execute_result"
    }
   ],
   "source": [
    "fn main() {\n",
    "    let ar = [0,0,0,0,0,0,0,0,0,0];   \n",
    "    println!(\"{:?} \", ar);\n",
    "    let ar1 : [u8;10] = [1,1,1,1,1,1,1,1,1,1];\n",
    "    println!(\"{:?} \", ar1);\n",
    "    //        타입지정    초기값\n",
    "    let ar1 : [u8;10] = [0;10];\n",
    "    println!(\"{:?} \", ar1);\n",
    "    let ar1 : [u8;10] = [1;10];\n",
    "    println!(\"{:?} \", ar1);\n",
    "}\n",
    "\n",
    "main()"
   ]
  },
  {
   "cell_type": "markdown",
   "id": "582f2c0b",
   "metadata": {},
   "source": [
    "## 3.  배열 내부 갱신 \n",
    "\n",
    "- 갱신을 하려면 변수를 지정할 때 변경가능여부를 지정"
   ]
  },
  {
   "cell_type": "markdown",
   "id": "d8f89dfc",
   "metadata": {},
   "source": [
    "### 변수가 변경이 불가할 때는 배열을 변경할 수 없다"
   ]
  },
  {
   "cell_type": "code",
   "execution_count": 5,
   "id": "782ea0ba",
   "metadata": {},
   "outputs": [
    {
     "ename": "Error",
     "evalue": "cannot assign to `x[_]`, as `x` is not declared as mutable",
     "output_type": "error",
     "traceback": [
      "    x[2] = \"a nice\";                                  // 불변 변수의 값을 변경할 수 없다.",
      "\u001b[91m    ^^^^^^^^^^^^^^^\u001b[0m \u001b[94mcannot assign\u001b[0m",
      "cannot assign to `x[_]`, as `x` is not declared as mutable",
      "\u001b[1mhelp\u001b[0m: consider changing this to be mutable\n\nmut"
     ]
    }
   ],
   "source": [
    "fn main() {\n",
    "    let x = [\"This\", \"is\", \"a\", \"sentence\"];\n",
    "    x[2] = \"a nice\";                                  // 불변 변수의 값을 변경할 수 없다.\n",
    "    println!(\"{} {} {} {}.\", x[0], x[1], x[2], x[3]);\n",
    "}\n",
    "\n",
    "main();"
   ]
  },
  {
   "cell_type": "markdown",
   "id": "852130ff",
   "metadata": {},
   "source": [
    "### 가변변수를 사용해서 변경 처리 "
   ]
  },
  {
   "cell_type": "code",
   "execution_count": 11,
   "id": "de0a00d3",
   "metadata": {},
   "outputs": [
    {
     "name": "stdout",
     "output_type": "stream",
     "text": [
      "This is a nice sentence.\n"
     ]
    }
   ],
   "source": [
    "fn main() {\n",
    "    let mut x = [\"This\", \"is\", \"a\", \"sentence\"];\n",
    "    x[2] = \"a nice\";                                  // 가변 변수의 값을 변경\n",
    "    println!(\"{} {} {} {}.\", x[0], x[1], x[2], x[3]);\n",
    "}\n",
    "\n",
    "main();"
   ]
  },
  {
   "cell_type": "markdown",
   "id": "8ba27031",
   "metadata": {},
   "source": [
    "### 가변변수 => 숫자일때 "
   ]
  },
  {
   "cell_type": "code",
   "execution_count": 12,
   "id": "57f61a11",
   "metadata": {},
   "outputs": [
    {
     "name": "stdout",
     "output_type": "stream",
     "text": [
      "1 2 100 4 \n"
     ]
    }
   ],
   "source": [
    "fn main() {\n",
    "    let mut x = [1,2,3,4];\n",
    "    x[2] = 100;                                  \n",
    "    println!(\"{} {} {} {} \", x[0], x[1], x[2], x[3]);\n",
    "}\n",
    "\n",
    "main();"
   ]
  },
  {
   "cell_type": "code",
   "execution_count": null,
   "id": "9cbb474a",
   "metadata": {},
   "outputs": [],
   "source": []
  },
  {
   "cell_type": "markdown",
   "id": "4cec74ff",
   "metadata": {},
   "source": [
    "### 배열은 이동되지 않고 복사된다. \n",
    "\n",
    "- 배열을 다른 변수에 할당하면 두 변수를 그대로 사용할 수 있다"
   ]
  },
  {
   "cell_type": "code",
   "execution_count": 13,
   "id": "141e224d",
   "metadata": {},
   "outputs": [],
   "source": [
    "use std::ptr"
   ]
  },
  {
   "cell_type": "code",
   "execution_count": 14,
   "id": "325d4b09",
   "metadata": {},
   "outputs": [
    {
     "name": "stdout",
     "output_type": "stream",
     "text": [
      "[1, 2, 3]\n",
      "[1, 2, 3]\n",
      "false\n"
     ]
    }
   ],
   "source": [
    "fn main() { \n",
    "    let x = [1,2,3];\n",
    "\n",
    "    let y = x;\n",
    "\n",
    "    println!(\"{:?}\", x);\n",
    "    println!(\"{:?}\", y);\n",
    "\n",
    "    println!(\"{}\", std::ptr::eq(&x, &y));\n",
    "}\n",
    "main();"
   ]
  },
  {
   "cell_type": "markdown",
   "id": "ee47fa2f",
   "metadata": {},
   "source": [
    "### 배열 내의 원소가 참조객체일 경우는 이동함 "
   ]
  },
  {
   "cell_type": "code",
   "execution_count": 15,
   "id": "e6e9f033",
   "metadata": {},
   "outputs": [
    {
     "ename": "Error",
     "evalue": "type `tup3` should have an upper camel case name",
     "output_type": "error",
     "traceback": [
      "\u001b[31m[non_camel_case_types] Error:\u001b[0m type `tup3` should have an upper camel case name"
     ]
    },
    {
     "ename": "Error",
     "evalue": "borrow of moved value: `x`",
     "output_type": "error",
     "traceback": [
      "\u001b[31m[E0382] Error:\u001b[0m borrow of moved value: `x`",
      "   \u001b[38;5;246m╭\u001b[0m\u001b[38;5;246m─\u001b[0m\u001b[38;5;246m[\u001b[0mcommand_15:1:1\u001b[38;5;246m]\u001b[0m",
      "   \u001b[38;5;246m│\u001b[0m",
      " \u001b[38;5;246m2 │\u001b[0m \u001b[38;5;249m \u001b[0m\u001b[38;5;249m \u001b[0m\u001b[38;5;249m \u001b[0m\u001b[38;5;249m \u001b[0m\u001b[38;5;249ml\u001b[0m\u001b[38;5;249me\u001b[0m\u001b[38;5;249mt\u001b[0m\u001b[38;5;249m \u001b[0m\u001b[38;5;68mx\u001b[0m\u001b[38;5;249m \u001b[0m\u001b[38;5;249m=\u001b[0m\u001b[38;5;249m \u001b[0m\u001b[38;5;249m[\u001b[0m\u001b[38;5;249m1\u001b[0m\u001b[38;5;249m.\u001b[0m\u001b[38;5;249mt\u001b[0m\u001b[38;5;249mo\u001b[0m\u001b[38;5;249m_\u001b[0m\u001b[38;5;249ms\u001b[0m\u001b[38;5;249mt\u001b[0m\u001b[38;5;249mr\u001b[0m\u001b[38;5;249mi\u001b[0m\u001b[38;5;249mn\u001b[0m\u001b[38;5;249mg\u001b[0m\u001b[38;5;249m(\u001b[0m\u001b[38;5;249m)\u001b[0m\u001b[38;5;249m,\u001b[0m\u001b[38;5;249m2\u001b[0m\u001b[38;5;249m.\u001b[0m\u001b[38;5;249mt\u001b[0m\u001b[38;5;249mo\u001b[0m\u001b[38;5;249m_\u001b[0m\u001b[38;5;249ms\u001b[0m\u001b[38;5;249mt\u001b[0m\u001b[38;5;249mr\u001b[0m\u001b[38;5;249mi\u001b[0m\u001b[38;5;249mn\u001b[0m\u001b[38;5;249mg\u001b[0m\u001b[38;5;249m(\u001b[0m\u001b[38;5;249m)\u001b[0m\u001b[38;5;249m,\u001b[0m\u001b[38;5;249m3\u001b[0m\u001b[38;5;249m.\u001b[0m\u001b[38;5;249mt\u001b[0m\u001b[38;5;249mo\u001b[0m\u001b[38;5;249m_\u001b[0m\u001b[38;5;249ms\u001b[0m\u001b[38;5;249mt\u001b[0m\u001b[38;5;249mr\u001b[0m\u001b[38;5;249mi\u001b[0m\u001b[38;5;249mn\u001b[0m\u001b[38;5;249mg\u001b[0m\u001b[38;5;249m(\u001b[0m\u001b[38;5;249m)\u001b[0m\u001b[38;5;249m]\u001b[0m\u001b[38;5;249m;\u001b[0m",
      " \u001b[38;5;240m  │\u001b[0m         \u001b[38;5;68m┬\u001b[0m  ",
      " \u001b[38;5;240m  │\u001b[0m         \u001b[38;5;68m╰\u001b[0m\u001b[38;5;68m─\u001b[0m\u001b[38;5;68m─\u001b[0m move occurs because `x` has type `[String; 3]`, which does not implement the `Copy` trait",
      " \u001b[38;5;240m  │\u001b[0m ",
      " \u001b[38;5;246m4 │\u001b[0m \u001b[38;5;249m \u001b[0m\u001b[38;5;249m \u001b[0m\u001b[38;5;249m \u001b[0m\u001b[38;5;249m \u001b[0m\u001b[38;5;249ml\u001b[0m\u001b[38;5;249me\u001b[0m\u001b[38;5;249mt\u001b[0m\u001b[38;5;249m \u001b[0m\u001b[38;5;249my\u001b[0m\u001b[38;5;249m \u001b[0m\u001b[38;5;249m=\u001b[0m\u001b[38;5;249m \u001b[0m\u001b[38;5;54mx\u001b[0m\u001b[38;5;249m;\u001b[0m",
      " \u001b[38;5;240m  │\u001b[0m             \u001b[38;5;54m┬\u001b[0m\u001b[38;5;37m│\u001b[0m ",
      " \u001b[38;5;240m  │\u001b[0m             \u001b[38;5;54m╰\u001b[0m\u001b[38;5;54m─\u001b[0m\u001b[38;5;54m─\u001b[0m value moved here",
      " \u001b[38;5;240m  │\u001b[0m              \u001b[38;5;37m│\u001b[0m ",
      " \u001b[38;5;240m  │\u001b[0m              \u001b[38;5;37m╰\u001b[0m\u001b[38;5;37m─\u001b[0m help: consider cloning the value if the performance cost is acceptable: `.clone()`",
      " \u001b[38;5;240m  │\u001b[0m ",
      " \u001b[38;5;246m6 │\u001b[0m \u001b[38;5;249m \u001b[0m\u001b[38;5;249m \u001b[0m\u001b[38;5;249m \u001b[0m\u001b[38;5;249m \u001b[0m\u001b[38;5;249mp\u001b[0m\u001b[38;5;249mr\u001b[0m\u001b[38;5;249mi\u001b[0m\u001b[38;5;249mn\u001b[0m\u001b[38;5;249mt\u001b[0m\u001b[38;5;249ml\u001b[0m\u001b[38;5;249mn\u001b[0m\u001b[38;5;249m!\u001b[0m\u001b[38;5;249m(\u001b[0m\u001b[38;5;249m\"\u001b[0m\u001b[38;5;249m{\u001b[0m\u001b[38;5;249m:\u001b[0m\u001b[38;5;249m?\u001b[0m\u001b[38;5;249m}\u001b[0m\u001b[38;5;249m\"\u001b[0m\u001b[38;5;249m,\u001b[0m\u001b[38;5;249m \u001b[0m\u001b[38;5;100mx\u001b[0m\u001b[38;5;249m)\u001b[0m\u001b[38;5;249m;\u001b[0m",
      " \u001b[38;5;240m  │\u001b[0m                      \u001b[38;5;100m┬\u001b[0m  ",
      " \u001b[38;5;240m  │\u001b[0m                      \u001b[38;5;100m╰\u001b[0m\u001b[38;5;100m─\u001b[0m\u001b[38;5;100m─\u001b[0m value borrowed here after move",
      "\u001b[38;5;246m───╯\u001b[0m"
     ]
    }
   ],
   "source": [
    "fn main() { \n",
    "    let x = [1.to_string(),2.to_string(),3.to_string()];\n",
    "\n",
    "    let y = x;\n",
    "\n",
    "    println!(\"{:?}\", x);\n",
    "    println!(\"{:?}\", y);\n",
    "\n",
    "    println!(\"{}\", std::ptr::eq(&x, &y));\n",
    "}\n",
    "main();"
   ]
  },
  {
   "cell_type": "markdown",
   "id": "d1585712",
   "metadata": {},
   "source": [
    "### 이동된 부분을 주석 처리 "
   ]
  },
  {
   "cell_type": "code",
   "execution_count": 16,
   "id": "b949ab85",
   "metadata": {},
   "outputs": [
    {
     "name": "stdout",
     "output_type": "stream",
     "text": [
      "[\"1\", \"2\", \"3\"]\n"
     ]
    }
   ],
   "source": [
    "fn main() { \n",
    "    let x = [1.to_string(),2.to_string(),3.to_string()];\n",
    "\n",
    "    let y = x;\n",
    "\n",
    "    //println!(\"{:?}\", x);\n",
    "    println!(\"{:?}\", y);\n",
    "\n",
    "    //println!(\"{}\", std::ptr::eq(&x, &y));\n",
    "}\n",
    "main();"
   ]
  },
  {
   "cell_type": "code",
   "execution_count": null,
   "id": "e927c35f-8ff1-45df-8d3b-83f2e2561c62",
   "metadata": {},
   "outputs": [],
   "source": []
  },
  {
   "cell_type": "code",
   "execution_count": null,
   "id": "595fa21c-1ab8-46ae-8105-a7caa6d394ce",
   "metadata": {},
   "outputs": [],
   "source": []
  },
  {
   "cell_type": "markdown",
   "id": "313f901c-e0d2-4fd0-a19d-8bee291c26e4",
   "metadata": {},
   "source": [
    "### 배열에서 직접 삽입 및 삭제 불가능:\n",
    "- 배열은 고정된 크기의 컬렉션이기 때문에, 특정 인덱스에 값을 삽입하거나 삭제하는 기능이 제공되지 않습니다.\n",
    "- 배열을 조작하려면 크기가 변경되지 않도록 기존 값을 덮어쓰는 방식으로 변경할 수는 있지만, 크기 자체를 늘리거나 줄일 수는 없습니다.\n",
    "\n",
    "### 벡터에서 삽입과 삭제 가능:\n",
    " - 벡터(Vector, Vec<T>)**는 크기를 동적으로 조정할 수 있어, 배열과 달리 삽입 및 삭제 작업이 가능합니다.\n",
    " - Rust의 표준 라이브러리에서 제공되는 벡터는 아래와 같은 메서드를 통해 삽입과 삭제를 지원합니다.\n",
    "\n",
    "> 삽입: insert() 메서드를 사용하여 벡터의 특정 위치에 값을 삽입할 수 있습니다.\n",
    "\n",
    "> 삭제: remove() 메서드를 사용하여 특정 인덱스의 요소를 제거할 수 있습니다."
   ]
  },
  {
   "cell_type": "markdown",
   "id": "26009ed8-258b-4356-9bc3-ade3c4d139c8",
   "metadata": {},
   "source": [
    "### 벡터의 삽입 "
   ]
  },
  {
   "cell_type": "code",
   "execution_count": 19,
   "id": "0ea356cf-20e3-4ab4-aa66-4483998c18ec",
   "metadata": {},
   "outputs": [
    {
     "name": "stdout",
     "output_type": "stream",
     "text": [
      "[1, 2, 10, 3, 4, 5]\n"
     ]
    }
   ],
   "source": [
    "fn main() {\n",
    "    let mut vec = vec![1, 2, 3, 4, 5];\n",
    "    vec.insert(2, 10);  // 2번째 인덱스에 10을 삽입\n",
    "    println!(\"{:?}\", vec);  // 출력: [1, 2, 10, 3, 4, 5]\n",
    "}\n",
    "main();"
   ]
  },
  {
   "cell_type": "markdown",
   "id": "12c0db2e-6183-4c2d-95e2-43770688e71b",
   "metadata": {},
   "source": [
    "### 벡터의 삭제 "
   ]
  },
  {
   "cell_type": "code",
   "execution_count": 20,
   "id": "292ec6d1-5b47-4f4a-933f-ebffda7e5899",
   "metadata": {},
   "outputs": [
    {
     "name": "stdout",
     "output_type": "stream",
     "text": [
      "[1, 2, 4, 5]\n"
     ]
    }
   ],
   "source": [
    "fn main() {\n",
    "    let mut vec = vec![1, 2, 3, 4, 5];\n",
    "    vec.remove(2);  // 2번째 인덱스에서 값을 제거\n",
    "    println!(\"{:?}\", vec);  // 출력: [1, 2, 4, 5]\n",
    "}\n",
    "main();"
   ]
  },
  {
   "cell_type": "markdown",
   "id": "16a2994f",
   "metadata": {},
   "source": [
    "## 4. 배열 메서드\n",
    "\n",
    "- iter() : 배열을 반복하는 이터레이터를 반환합니다.\n",
    "- len() : 배열의 길이를 반환합니다.\n",
    "- is_empty() : 배열이 비어 있는지 여부를 반환합니다.\n",
    "- first() : 배열의 첫 번째 요소에 대한 참조를 반환합니다.\n",
    "- last() : 배열의 마지막 요소에 대한 참조를 반환합니다.\n",
    "- split_at() : 인덱스를 기준으로 배열을 두 개의 조각으로 분할합니다.\n",
    "- sort() : 배열을 정렬합니다.\n",
    "- binary_search() : 이진 탐색을 수행하고 해당 요소의 인덱스를 반환합니다.\n",
    "- contains() : 배열에 특정 요소가 포함되어 있는지 여부를 반환합니다."
   ]
  },
  {
   "cell_type": "code",
   "execution_count": 17,
   "id": "6be98650",
   "metadata": {},
   "outputs": [
    {
     "name": "stdout",
     "output_type": "stream",
     "text": [
      " is empty = false\n",
      " len = 4\n",
      " contains = true\n"
     ]
    }
   ],
   "source": [
    "fn main() {\n",
    "    let ar = [1,2,3,4];\n",
    "    println!(\" is empty = {}\", ar.is_empty());\n",
    "    println!(\" len = {}\", ar.len());\n",
    "    println!(\" contains = {}\", ar.contains(&3));\n",
    "}\n",
    "\n",
    "main();"
   ]
  },
  {
   "cell_type": "code",
   "execution_count": null,
   "id": "3689e545",
   "metadata": {},
   "outputs": [],
   "source": []
  },
  {
   "cell_type": "code",
   "execution_count": null,
   "id": "9dcedd2a",
   "metadata": {},
   "outputs": [],
   "source": []
  }
 ],
 "metadata": {
  "kernelspec": {
   "display_name": "Rust",
   "language": "rust",
   "name": "rust"
  },
  "language_info": {
   "codemirror_mode": "rust",
   "file_extension": ".rs",
   "mimetype": "text/rust",
   "name": "Rust",
   "pygment_lexer": "rust",
   "version": ""
  }
 },
 "nbformat": 4,
 "nbformat_minor": 5
}
