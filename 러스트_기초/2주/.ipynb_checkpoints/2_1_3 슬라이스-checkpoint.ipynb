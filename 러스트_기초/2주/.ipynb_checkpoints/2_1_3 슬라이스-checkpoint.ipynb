{
 "cells": [
  {
   "cell_type": "markdown",
   "id": "9fa72b7a",
   "metadata": {},
   "source": [
    "## 타입을 확인하는 함수 "
   ]
  },
  {
   "cell_type": "code",
   "execution_count": 2,
   "id": "27019346",
   "metadata": {},
   "outputs": [],
   "source": [
    ":dep typename = \"0.1.2\""
   ]
  },
  {
   "cell_type": "code",
   "execution_count": 3,
   "id": "6cdf8211",
   "metadata": {},
   "outputs": [],
   "source": [
    "use typename::TypeName;"
   ]
  },
  {
   "cell_type": "code",
   "execution_count": 4,
   "id": "533b39b6",
   "metadata": {},
   "outputs": [],
   "source": [
    "use std::any::type_name;\n",
    "\n",
    "fn type_of<T>(_: T) -> &'static str {\n",
    "    type_name::<T>()\n",
    "}"
   ]
  },
  {
   "cell_type": "code",
   "execution_count": null,
   "id": "b8e52921-3d6a-47af-8862-49599dec08c7",
   "metadata": {},
   "outputs": [],
   "source": []
  },
  {
   "cell_type": "markdown",
   "id": "9532c866-9067-49e1-a222-58032b42d448",
   "metadata": {},
   "source": [
    "## 배열의 포인터와 슬라이스의 포인터 비교하기\n",
    "\n",
    "### 배열의 포인터:\n",
    "\n",
    "- 배열의 포인터는 일반적으로 **버튼 포인터(raw pointer)**나 일반 참조로 취급되며, 배열의 크기가 컴파일 타임에 고정되어 있기 때문에 **싱글 포인터(single pointer)**로 작동합니다.\n",
    "- 배열은 크기가 고정되어 있으므로, 배열에 대한 참조나 포인터는 크기 정보를 포함하지 않습니다. 이는 정적 타입을 가지는 포인터로, 컴파일 시 배열의 크기가 이미 결정됩니다.\n",
    "\n",
    "### 슬라이스의 포인터:\n",
    "- **슬라이스(slice)**는 배열과 달리 크기가 런타임에 결정될 수 있으며, 이는 팻 포인터(fat pointer)를 통해 표현됩니다.\n",
    "- 팻 포인터는 두 가지 정보를 포함하는데, 데이터에 대한 포인터와 슬라이스의 길이입니다. 예를 들어, &[T] 슬라이스 참조는 실제 배열 데이터와 그 크기를 포함하는 포인터로, 데이터의 시작 주소와 길이를 함께 저장하는 2개의 필드로 구성됩니다.\n",
    "\n",
    "### 차이점:\n",
    "- 배열 포인터: 싱글 포인터로, 배열의 첫 번째 요소의 주소만 가리킵니다.\n",
    "- 슬라이스 포인터: 팻 포인터로, 데이터와 크기 정보를 함께 포함합니다."
   ]
  },
  {
   "cell_type": "code",
   "execution_count": null,
   "id": "5b17dcd6-d259-43bd-880c-d7052f6607ae",
   "metadata": {},
   "outputs": [],
   "source": []
  },
  {
   "cell_type": "markdown",
   "id": "acf915a1",
   "metadata": {},
   "source": [
    "## 1. 슬라이스\n",
    "\n",
    "- 슬라이스는 항상 참조로 처리한다.\n",
    "- 기존 내용을 참조하는 레퍼런스로 만들어진다.\n",
    "\n",
    "- 슬라이스는 마지막을 포함하지 않는다.\n",
    "- 포함되려면 숫자는 = 다음에 표시\n"
   ]
  },
  {
   "cell_type": "markdown",
   "id": "be7bb806",
   "metadata": {},
   "source": [
    "### 슬라이스의 팻포인터 \n",
    "\n",
    "- Fat pointer는 메모리 영역에 대한 포인터와 크기 정보를 모두 가지고 있습니다. \n",
    "- 이러한 fat pointer는 Slice 타입에서 사용되며, Slice 타입에 대한 포인터인 &str과 &mut [T]는 fat pointer의 형태를 가지고 있습니다.\n",
    "\n",
    "- 따라서, Rust에서 Slice를 사용할 때는 포인터의 개념과 함께 fat pointer를 사용하게 됩니다. fat pointer는 C++에서의 포인터와 유사한 개념으로, 해당 메모리 공간의 시작 주소와 길이를 가지고 있는 포인터입니다. \n",
    "- 이러한 포인터를 사용하면 Slice 타입의 데이터를 보다 안전하게 다룰 수 있습니다."
   ]
  },
  {
   "cell_type": "markdown",
   "id": "5f2b5f60",
   "metadata": {},
   "source": [
    "## 1-1 슬라이스 타입 표기 \n",
    "\n",
    "\n",
    "### 힙에 슬라이스 처리 \n",
    "- Box<[T]>: 박스드 슬라이스, 힙에 슬라이스를 만든다. "
   ]
  },
  {
   "cell_type": "markdown",
   "id": "82f9202f",
   "metadata": {},
   "source": [
    "### 불변 슬라이스 \n",
    "- &[T]:  공유된 슬라이스 , 대여만 가능 \n",
    "\n",
    "####  배열을 정의와 슬라이스 정의 확인\n",
    "\n",
    "- 배열은 동일한 자료형과 길이를 대괄호에 표시\n",
    "- 슬라이스는 대괄호에 자료형을 표시하고 대괄호 앞에 참조를 표시"
   ]
  },
  {
   "cell_type": "code",
   "execution_count": 5,
   "id": "74241d81",
   "metadata": {},
   "outputs": [
    {
     "name": "stdout",
     "output_type": "stream",
     "text": [
      "배열의 타입 : [10, 20, 30, 40, 50, 60] [i32; 6] \n",
      "슬라이스 타입: [30, 40, 50], &[i32]\n"
     ]
    }
   ],
   "source": [
    "fn main() {\n",
    "    let a: [i32; 6] = [10, 20, 30, 40, 50, 60];                // 배열 정의 \n",
    "    println!(\"배열의 타입 : {a:?} {} \",a.type_name_of());\n",
    "\n",
    "    let s: &[i32] = &a[2..=4];                                 // 배열의 특정 인텍스를 처리 \n",
    "    println!(\"슬라이스 타입: {s:?}, {}\", type_of(s));      // 슬라이스에서 메서드 구현되지 있지않음 \n",
    "    \n",
    "}\n",
    "\n",
    "main();"
   ]
  },
  {
   "cell_type": "markdown",
   "id": "64cef180",
   "metadata": {},
   "source": [
    "### 함수를 정의한 것을 사용해서 타입처리 "
   ]
  },
  {
   "cell_type": "code",
   "execution_count": 6,
   "id": "449a426a",
   "metadata": {},
   "outputs": [
    {
     "name": "stdout",
     "output_type": "stream",
     "text": [
      "배열의 타입 : [10, 20, 30, 40, 50, 60] [i32; 6] \n",
      "슬라이스 타입: [30, 40], &[i32]\n"
     ]
    }
   ],
   "source": [
    "fn main() {\n",
    "    let a: [i32; 6] = [10, 20, 30, 40, 50, 60];        // 배열 정의 \n",
    "    println!(\"배열의 타입 : {a:?} {} \",a.type_name_of());\n",
    "\n",
    "    let s: &[i32] = &a[2..4];                          // 배열의 특정 인텍스를 처리 \n",
    "    println!(\"슬라이스 타입: {s:?}, {}\",type_of(s));      // 슬라이스 사용할 때 처리 \n",
    "    \n",
    "}\n",
    "\n",
    "main();"
   ]
  },
  {
   "cell_type": "code",
   "execution_count": null,
   "id": "ad324e01",
   "metadata": {},
   "outputs": [],
   "source": []
  },
  {
   "cell_type": "markdown",
   "id": "020777e2",
   "metadata": {},
   "source": [
    "### 가변 슬라이스\n",
    "- &mut [T]: 갱신 가능한 슬라이스 , 상호배타적으로 갱신만 가능 \n",
    "- 상호배타적이라 현재 갱신 참조를 사용할 때 다른 참조가 발생하면 안된다는 뜻이다.\n"
   ]
  },
  {
   "cell_type": "code",
   "execution_count": 7,
   "id": "b50847fb",
   "metadata": {},
   "outputs": [
    {
     "name": "stdout",
     "output_type": "stream",
     "text": [
      "배열의 타입 : [10, 20, 30, 40, 50, 60] &[i32; 6] \n",
      "슬라이스 타입: [30, 40], &&mut [i32]\n",
      "s = [300, 40]\n",
      "a = [10, 20, 300, 40, 50, 60]\n"
     ]
    }
   ],
   "source": [
    "fn main() {\n",
    "    let mut a: [i32; 6] = [10, 20, 30, 40, 50, 60];      // 배열 정의 \n",
    "    println!(\"배열의 타입 : {a:?} {} \",type_of(&a));\n",
    "    \n",
    "    {\n",
    "\n",
    "        let mut s: &mut [i32] = &mut a[2..4];                    // 배열의 특정 인텍스를 처리 \n",
    "        println!(\"슬라이스 타입: {s:?}, {}\",type_of(&s));\n",
    "    \n",
    "        s[0] = 300; \n",
    "        println!(\"s = {:?}\",s);\n",
    "    }\n",
    "    \n",
    "    println!(\"a = {:?}\",a);\n",
    "}\n",
    "\n",
    "main();"
   ]
  },
  {
   "cell_type": "code",
   "execution_count": null,
   "id": "6f53d462",
   "metadata": {},
   "outputs": [],
   "source": []
  },
  {
   "cell_type": "markdown",
   "id": "f2b28c94",
   "metadata": {},
   "source": [
    "### 힙 메모리에 슬라이스 처리 \n",
    "- Box<[T]>: 박스드 슬라이스, 힙에 슬라이스를 만든다. "
   ]
  },
  {
   "cell_type": "code",
   "execution_count": 8,
   "id": "8e7b3ca1",
   "metadata": {},
   "outputs": [
    {
     "name": "stdout",
     "output_type": "stream",
     "text": [
      "배열의 타입 : [10, 20, 30, 40, 50, 60] &alloc::boxed::Box<[i32; 6]> \n",
      "배열의 타입 :[30, 40] &alloc::boxed::Box<&[i32]> \n"
     ]
    }
   ],
   "source": [
    "fn main() {\n",
    "    let a: Box<[i32; 6]> = Box::new([10, 20, 30, 40, 50, 60]);      // 배열 정의 \n",
    "    println!(\"배열의 타입 : {a:?} {} \",type_of(&a));\n",
    "    \n",
    "    let a1 = [102,30,30,40,50];\n",
    "    let s: Box<&[i32]> = Box::new(&a1[2..4]);                       // 슬라이스 정의 \n",
    "    \n",
    "    println!(\"배열의 타입 :{s:?} {} \",type_of(&s));\n",
    "    \n",
    "    \n",
    "}\n",
    "\n",
    "main();"
   ]
  },
  {
   "cell_type": "code",
   "execution_count": null,
   "id": "16af5bf1",
   "metadata": {},
   "outputs": [],
   "source": []
  },
  {
   "cell_type": "markdown",
   "id": "d75476e8",
   "metadata": {},
   "source": [
    "## 1-2 슬라이스 내의 범위 지정 하기 \n",
    "\n",
    "- 슬라이스는 참조이므로 &[참조되는 범위]\n",
    "- 러스트 범위연산은 (시작점)..(종료점+ 1)\n",
    "- 범위연산에서 종료점을 포함하려면  (시작점)..=(종료점+ 1)"
   ]
  },
  {
   "cell_type": "markdown",
   "id": "5d4ae312",
   "metadata": {},
   "source": [
    "### 범위를 표시"
   ]
  },
  {
   "cell_type": "code",
   "execution_count": 9,
   "id": "4f030f1d",
   "metadata": {},
   "outputs": [
    {
     "data": {
      "text/plain": [
       "\"core::ops::range::Range<i32>\""
      ]
     },
     "execution_count": 9,
     "metadata": {},
     "output_type": "execute_result"
    }
   ],
   "source": [
    "let range_a = 1..10;\n",
    "\n",
    "type_of(range_a)"
   ]
  },
  {
   "cell_type": "code",
   "execution_count": null,
   "id": "889cdaf9",
   "metadata": {},
   "outputs": [],
   "source": []
  },
  {
   "cell_type": "markdown",
   "id": "1aa3a9f7",
   "metadata": {},
   "source": [
    "### 문자열리터럴을 원소를 가지는 배열을 슬라이스 처리하기 "
   ]
  },
  {
   "cell_type": "code",
   "execution_count": 10,
   "id": "e77ae2ec",
   "metadata": {},
   "outputs": [
    {
     "name": "stdout",
     "output_type": "stream",
     "text": [
      "[\"봄\", \"여름\", \"가을\", \"겨울\"]\n",
      "[\"봄\", \"여름\"] \n",
      "[\"봄\", \"여름\", \"가을\"]\n"
     ]
    }
   ],
   "source": [
    "fn main() {\n",
    "    let seasons = [\"봄\", \"여름\", \"가을\", \"겨울\"]; // 배열 정의 \n",
    "    println!(\"{:?}\", seasons);                // 배열 출력 \n",
    "    \n",
    "    println!(\"{:? } \", &seasons[0..2]);       // 슬라이스를 참조할 때는 레퍼런스로 처리해야 함\n",
    "    \n",
    "    let ss = &seasons[0..=2];                 // 슬라이스 값을 변수에 정의    \n",
    "    println!(\"{:?}\", ss);\n",
    "} \n",
    "\n",
    "main();"
   ]
  },
  {
   "cell_type": "code",
   "execution_count": null,
   "id": "351940f1",
   "metadata": {},
   "outputs": [],
   "source": []
  },
  {
   "cell_type": "markdown",
   "id": "0fa5fcac",
   "metadata": {},
   "source": [
    "## 2  문자열(String)을 슬라이스로 처리하기 \n",
    "\n",
    "- String은 슬라이스로 표시하면 문자열 리터럴 처럼 처리\n"
   ]
  },
  {
   "cell_type": "markdown",
   "id": "7330b373",
   "metadata": {},
   "source": [
    "## 2-1 문자열을 생성하고 슬라이스 처리하기\n"
   ]
  },
  {
   "cell_type": "code",
   "execution_count": 11,
   "id": "2202008d",
   "metadata": {},
   "outputs": [
    {
     "name": "stdout",
     "output_type": "stream",
     "text": [
      "slice1 = he typename = \"&str\"\n",
      "slice2 = he typename = \"&str\"\n",
      "slice3 = lo \n",
      "slice4 = lo \n",
      "slice5 = hello \n",
      "slice6 = hello \n"
     ]
    }
   ],
   "source": [
    "fn main() { \n",
    "    let s = String::from(\"hello\");      // 문자열을 생성 \n",
    "\n",
    "    let slice1 = &s[0..2];              // 두 개의 문자를 가지는 슬라이스 \n",
    "    println!(\"slice1 = {} typename = {:?}\", slice1, type_of(slice1)); \n",
    "    let slice2 = &s[..2];               // 두 개의 문자를 가지는 슬라이스\n",
    "    println!(\"slice2 = {} typename = {:?}\", slice2, type_of(slice2)); \n",
    "    \n",
    "    let len = s.len();                  // 문자열 슬라이스의 길이 \n",
    "\n",
    "    let slice3 = &s[3..len];            // 특정 길이를 슬라이스 처리    \n",
    "    println!(\"slice3 = {} \", slice3); \n",
    "    let slice4 = &s[3..];\n",
    "    println!(\"slice4 = {} \", slice4); \n",
    "    \n",
    "    let slice5 = &s[0..len];            // 문자열 전체를 슬라이스하기 \n",
    "    println!(\"slice5 = {} \", slice5); \n",
    "    let slice6 = &s[..];\n",
    "    println!(\"slice6 = {} \", slice6); \n",
    "}\n",
    "\n",
    "main();"
   ]
  },
  {
   "cell_type": "markdown",
   "id": "66fa67f6",
   "metadata": {},
   "source": [
    "###  문자열 리터럴에 대한 자료형 지정\n",
    "\n",
    "- 문자열 리터럴은 슬라이스라서 자료형을 (&str)로 표기 \n",
    "- 변경불가능한 참조이므로 단순히 조회만 가능 "
   ]
  },
  {
   "cell_type": "code",
   "execution_count": 12,
   "id": "060a502e",
   "metadata": {},
   "outputs": [
    {
     "name": "stdout",
     "output_type": "stream",
     "text": [
      " string literal : Hello, world! typename = \"&str\"\n"
     ]
    }
   ],
   "source": [
    "fn main() { \n",
    "    let s: &str = \"Hello, world!\";\n",
    "\n",
    "    println!(\" string literal : {} typename = {:?}\", s,type_of(s)); \n",
    "} \n",
    "\n",
    "main();"
   ]
  },
  {
   "cell_type": "markdown",
   "id": "2791d58f",
   "metadata": {},
   "source": [
    "### 문자열을 가지고 슬라이스 처리하기\n",
    "- 문자열은 변경이 가능하다. \n",
    "- 하나의 함수를 정의해서 문자열을 참조로 전달한다. \n",
    "- 그 함수는 문자열을 참조로 받고 하나의 문자열 리터럴(즉 슬라이스)로 처리한다.\n",
    "- 문자열이 변경가능하므로 clear 메서드로 문자열 내부를 정리한다.\n"
   ]
  },
  {
   "cell_type": "code",
   "execution_count": 13,
   "id": "a0a1837c",
   "metadata": {},
   "outputs": [
    {
     "name": "stdout",
     "output_type": "stream",
     "text": [
      "word = hello\n"
     ]
    }
   ],
   "source": [
    "fn main() {\n",
    "    let mut s = String::from(\"hello world\");     // 문자열을 생성, 가변 변수를 지정 \n",
    "\n",
    "    let word = first_word(&s);                   // 첫번째 단어 \n",
    "    \n",
    "    println!(\"word = {}\", word);                 // 문자열은 Display 트레이트가 구현되어 바로 출력가능 \n",
    "\n",
    "    s.clear();                                   // 이 코드는 String을 비워서 \"\"로 만들게 됩니다.\n",
    "\n",
    "}\n",
    "\n",
    "// 문자열 참조를 받아서 문자열 리터럴로 반환하기 \n",
    "// 문자열을 참조로 전달해서 전달된 참조는 이 함수 내에서만 수명을 한다. \n",
    "fn first_word(s: &String) -> &str {\n",
    "    let bytes = s.as_bytes();                     // 문자열을 바이트로 변환 \n",
    "\n",
    "    for (i, &item) in bytes.iter().enumerate() {  // 바이트를 반복자로 변환하고 인덱스와 값을 참조로 전달 \n",
    "        if item == b' ' {                         // 바이트 빈 문자열을 만나면 그 인덱스 바로 앞까지 단어를 반환 \n",
    "            return &s[0..i];\n",
    "        }\n",
    "    }\n",
    "\n",
    "    &s[..]                                        // 슬라이스로 반환하기 \n",
    "}\n",
    "\n",
    "main();"
   ]
  },
  {
   "cell_type": "markdown",
   "id": "448d92c4",
   "metadata": {},
   "source": [
    "## 2-2 함수의 매개변수를 변환하기 \n",
    "\n",
    "- 함수의 매개변수를 문자열을 참조에서 문자열 슬라이스로 "
   ]
  },
  {
   "cell_type": "code",
   "execution_count": 14,
   "id": "dceb1053",
   "metadata": {},
   "outputs": [
    {
     "name": "stdout",
     "output_type": "stream",
     "text": [
      "문자열 리터럴로 변환한 word = hello\n"
     ]
    }
   ],
   "source": [
    "fn main() {\n",
    "    let mut s = String::from(\"hello world\");\n",
    "\n",
    "    let word = first_word_1(&s);                   // 첫번째 단어 \n",
    "    \n",
    "    println!(\"문자열 리터럴로 변환한 word = {}\", word); // 문자열은 Display 트레이트가 구현되어 바로 출력가능 \n",
    "\n",
    "    s.clear();                                     // 이 코드는 String을 비워서 \"\"로 만들게 됩니다.\n",
    "\n",
    "}\n",
    "\n",
    "// 문자열 참조를 받아서 문자열 리터럴로 반환하기 \n",
    "// 문자열을 참조로 전달해서 전달된 참조는 이 함수 내에서만 수명을 한다. \n",
    "fn first_word_1(s: &str) -> &str {\n",
    "    let bytes = s.as_bytes();                     // 문자열을 바이트로 변환 \n",
    "\n",
    "    for (i, &item) in bytes.iter().enumerate() {  // 바이트를 반복자로 변환하고 인덱스와 값을 참조로 전달 \n",
    "        if item == b' ' {                         // 바이트 빈 문자열을 만나면 그 인덱스 바로 앞까지 단어를 반환 \n",
    "            return &s[0..i];\n",
    "        }\n",
    "    }\n",
    "\n",
    "    &s[..]                                        // 슬라이스로 반환하기 \n",
    "}\n",
    "\n",
    "main();"
   ]
  },
  {
   "cell_type": "code",
   "execution_count": null,
   "id": "3fa3f866",
   "metadata": {},
   "outputs": [],
   "source": []
  },
  {
   "cell_type": "markdown",
   "id": "812ac234",
   "metadata": {},
   "source": [
    "## 3. 벡터와 배열에 대한 슬라이스 처리\n",
    "\n",
    "- 슬라이스 타입은 &[자료형]으로 표기한다\n",
    "- 슬라이스의 길이는 배열과 다르게 자료형에 포함하지 않는다."
   ]
  },
  {
   "cell_type": "code",
   "execution_count": 15,
   "id": "1d346afd",
   "metadata": {},
   "outputs": [
    {
     "name": "stdout",
     "output_type": "stream",
     "text": [
      "### vector ###\n",
      "0\n",
      "0.707\n",
      "1\n",
      "0.707\n",
      "### array ###\n",
      "0\n",
      "-0.707\n",
      "-1\n",
      "-0.707\n",
      "### vector slice ###\n",
      "0\n",
      "0.707\n",
      "### array slice ###\n",
      "-1\n",
      "-0.707\n"
     ]
    }
   ],
   "source": [
    "fn main() {\n",
    "    let v: Vec<f64> = vec![0.0, 0.707, 1.0, 0.707];\n",
    "    let a: [f64; 4] = [0.0, -0.707, -1.0, -0.707];\n",
    "    println!(\"### vector ###\");\n",
    "    print(&v);                                    // works on vectors\n",
    "    println!(\"### array ###\");\n",
    "    print(&a);                                    // works on arrays\n",
    "    println!(\"### vector slice ###\");\n",
    "    print(&v[0..2]);                              // print the first two elements of v\n",
    "    println!(\"### array slice ###\");\n",
    "    print(&a[2..]);                               // print elements of a starting with a[2]\n",
    "} \n",
    "\n",
    "fn print(n: &[f64]) { \n",
    "    for elt in n{\n",
    "            println!(\"{}\", elt);\n",
    "        }\n",
    "}\n",
    "\n",
    "main();"
   ]
  },
  {
   "cell_type": "code",
   "execution_count": null,
   "id": "eb3aaeb6",
   "metadata": {},
   "outputs": [],
   "source": []
  },
  {
   "cell_type": "code",
   "execution_count": null,
   "id": "792eeae4",
   "metadata": {},
   "outputs": [],
   "source": []
  },
  {
   "cell_type": "markdown",
   "id": "7e634788",
   "metadata": {},
   "source": [
    "## 4. 슬라이스 복사\n",
    "\n",
    "-  원본 데이터의 소유권이 이전되므로, 슬라이스의 원본 데이터가 변경되면 새로운 벡터도 변경됩니다."
   ]
  },
  {
   "cell_type": "markdown",
   "id": "aff172de",
   "metadata": {},
   "source": [
    "## 4-1 배열 슬라이스를  벡터로 변환"
   ]
  },
  {
   "cell_type": "code",
   "execution_count": 16,
   "id": "a39ca721",
   "metadata": {},
   "outputs": [
    {
     "name": "stdout",
     "output_type": "stream",
     "text": [
      " copy = [1, 2, 3]\n"
     ]
    }
   ],
   "source": [
    "fn main() {\n",
    "    let slice = &[1, 2, 3];\n",
    "    let vector: Vec<i32> = slice.to_vec();\n",
    "    \n",
    "    println!(\" copy = {:?}\", vector);\n",
    "}\n",
    "\n",
    "main();"
   ]
  },
  {
   "cell_type": "code",
   "execution_count": null,
   "id": "158dd4fa",
   "metadata": {},
   "outputs": [],
   "source": []
  },
  {
   "cell_type": "markdown",
   "id": "06e49596",
   "metadata": {},
   "source": [
    "## 4-2 고정형 슬라이스를 배열로 변환하기 "
   ]
  },
  {
   "cell_type": "markdown",
   "id": "d7f8dc37",
   "metadata": {},
   "source": [
    "### TryInto 트레이트의 작동 원리는 다음과 같습니다:\n",
    "\n",
    "- TryInto<T> 트레이트를 구현하는 타입은 try_into() 메서드를 정의해야 합니다.\n",
    "- try_into() 메서드는 Result<T, E>를 반환하는데, T는 변환된 타입이고 E는 변환 실패 시 발생하는 에러 타입입니다.\n",
    "- try_into() 메서드는 변환을 시도하고, 성공적으로 변환된 경우 Ok(T)를 반환합니다.\n",
    "- 변환에 실패한 경우에는 Err(E)를 반환합니다.\n",
    "\n",
    "#### try_into \n",
    "- try_into은 Rust 표준 라이브러리에서 제공하는 트레이트(TryInto)와 해당 트레이트를 구현한 메서드(try_into())입니다. \n",
    "- 이를 사용하여 값을 타입 변환하고, 변환 과정에서 발생할 수 있는 에러를 처리할 수 있습니다."
   ]
  },
  {
   "cell_type": "code",
   "execution_count": null,
   "id": "db1c2311",
   "metadata": {},
   "outputs": [],
   "source": []
  },
  {
   "cell_type": "markdown",
   "id": "cbecead8",
   "metadata": {},
   "source": [
    "### parse는 러스트에서 문자열을 다른 타입으로 변환\n",
    "\n",
    "\n",
    "#### parse 메서드의 작동 원리는 다음과 같습니다:\n",
    "\n",
    "- parse 메서드는 FromStr 트레이트를 구현한 타입에서 사용할 수 있습니다.\n",
    "- FromStr 트레이트는 from_str 함수를 정의해야 합니다.\n",
    "- from_str 함수는 문자열을 파싱하여 해당 타입의 값을 반환합니다. 파싱에 실패하면 Result 타입을 반환하여 에러 처리를 할 수 있습니다.\n",
    "- parse 메서드는 문자열을 파싱하여 Result를 반환합니다.\n",
    "- 성공적으로 파싱된 경우 Ok를 사용하여 변환된 값을 반환하고, 파싱 실패 시에는 Err를 사용하여 에러를 반환합니다."
   ]
  },
  {
   "cell_type": "code",
   "execution_count": null,
   "id": "a6d0c9ee",
   "metadata": {},
   "outputs": [],
   "source": []
  },
  {
   "cell_type": "markdown",
   "id": "3162e786",
   "metadata": {},
   "source": [
    "### FromStr 트레이트는 문자열을 다른 타입으로 변환하기 위한 메커니즘을 제공합니다. \n",
    "\n",
    "- 이 트레이트는 from_str 함수를 정의해야 하며, 문자열을 파싱하여 해당 타입의 값을 반환합니다.\n",
    "\n",
    "#### FromStr 트레이트의 작동 원리는 다음과 같습니다:\n",
    "\n",
    "- FromStr 트레이트를 구현하는 타입은 from_str 함수를 구현해야 합니다.\n",
    "- from_str 함수는 &str 타입의 인자를 받아서 해당 타입으로의 변환을 시도합니다.\n",
    "- 성공적으로 변환이 이루어진 경우, 변환된 값을 Ok 열것자로 감싼 결과를 반환합니다.\n",
    "- 변환 중에 오류가 발생한 경우, 적절한 에러 값을 Err 열것자로 감싼 결과를 반환합니다."
   ]
  },
  {
   "cell_type": "code",
   "execution_count": null,
   "id": "992ed965",
   "metadata": {},
   "outputs": [],
   "source": []
  },
  {
   "cell_type": "markdown",
   "id": "beacd082-4845-4028-9e10-8787bb4e5b39",
   "metadata": {},
   "source": [
    "### 트레이트 사용하기 "
   ]
  },
  {
   "cell_type": "code",
   "execution_count": 17,
   "id": "5e6d67c5",
   "metadata": {},
   "outputs": [],
   "source": [
    "use std::convert::TryInto;\n",
    "use std::str::FromStr;"
   ]
  },
  {
   "cell_type": "code",
   "execution_count": 18,
   "id": "82bc5c9d",
   "metadata": {},
   "outputs": [
    {
     "data": {
      "text/plain": [
       "Ok(42)"
      ]
     },
     "execution_count": 18,
     "metadata": {},
     "output_type": "execute_result"
    }
   ],
   "source": [
    "\"42\".parse::<i32>()"
   ]
  },
  {
   "cell_type": "code",
   "execution_count": 19,
   "id": "f771cf57",
   "metadata": {},
   "outputs": [
    {
     "data": {
      "text/plain": [
       "42"
      ]
     },
     "execution_count": 19,
     "metadata": {},
     "output_type": "execute_result"
    }
   ],
   "source": [
    "\"42\".parse::<i32>().unwrap()"
   ]
  },
  {
   "cell_type": "markdown",
   "id": "7bdefc9e",
   "metadata": {},
   "source": [
    "### 문자열을 정수로 변환처리 "
   ]
  },
  {
   "cell_type": "code",
   "execution_count": 32,
   "id": "3206a6e5",
   "metadata": {},
   "outputs": [
    {
     "name": "stdout",
     "output_type": "stream",
     "text": [
      "Conversion successful: 42\n"
     ]
    }
   ],
   "source": [
    "fn main() {\n",
    "    let value: Result<i32, _> = \"42\".parse::<i32>().unwrap().try_into();  \n",
    "\n",
    "    match value {\n",
    "        Ok(result) => println!(\"Conversion successful: {}\", result),\n",
    "        Err(error) => println!(\"Conversion error: {}\", error),\n",
    "    }\n",
    "}\n",
    "\n",
    "main();"
   ]
  },
  {
   "cell_type": "markdown",
   "id": "94786221",
   "metadata": {},
   "source": [
    "### 배열에 참조를 붙이면\n",
    "\n",
    "- 배열을 지정한 것에 주소를 가져온다.\n",
    "- 그래서 변수에 참조값이 들어가 있다. "
   ]
  },
  {
   "cell_type": "code",
   "execution_count": 5,
   "id": "9f86257f",
   "metadata": {},
   "outputs": [
    {
     "name": "stdout",
     "output_type": "stream",
     "text": [
      "[1, 2, 3]\n"
     ]
    }
   ],
   "source": [
    "let slice = &[1, 2, 3];\n",
    "println!(\"{:?}\", *slice);"
   ]
  },
  {
   "cell_type": "code",
   "execution_count": 9,
   "id": "996d0a3c",
   "metadata": {},
   "outputs": [
    {
     "name": "stdout",
     "output_type": "stream",
     "text": [
      " array = [1, 2, 3]\n"
     ]
    }
   ],
   "source": [
    "fn main() {\n",
    "    let slice = &[1, 2, 3];\n",
    "    let array: [i32; 3] = (*slice).try_into().unwrap();  // 슬라이스가 참조한 값의 자료형을 변형 \n",
    "    \n",
    "    println!(\" array = {:?}\", array);\n",
    "}\n",
    "\n",
    "main();"
   ]
  },
  {
   "cell_type": "code",
   "execution_count": null,
   "id": "d365548f",
   "metadata": {},
   "outputs": [],
   "source": []
  },
  {
   "cell_type": "markdown",
   "id": "a0b91b93",
   "metadata": {},
   "source": [
    "## 4-3 가변형 슬라이스를 배열처럼 처리하기 \n",
    "\n",
    "- 배열은 스택에 저장된다.\n",
    "- box 슬라이스는 힙에 저장된다. "
   ]
  },
  {
   "cell_type": "code",
   "execution_count": 18,
   "id": "b98a05df",
   "metadata": {},
   "outputs": [
    {
     "name": "stdout",
     "output_type": "stream",
     "text": [
      "[1, 2, 3], &alloc::vec::Vec<i32>\n"
     ]
    }
   ],
   "source": [
    "let x = slice.to_vec();\n",
    "\n",
    "println!(\"{:?}, {}\", x,type_of(&x));"
   ]
  },
  {
   "cell_type": "code",
   "execution_count": 19,
   "id": "dc44c44a",
   "metadata": {},
   "outputs": [
    {
     "name": "stdout",
     "output_type": "stream",
     "text": [
      " \n",
      " array = [1, 2, 3], &[i32]\n"
     ]
    }
   ],
   "source": [
    "fn main() {\n",
    "    let slice = &[1, 2, 3];\n",
    "    let boxed_slice: Box<[i32]> = slice.to_vec().into_boxed_slice();  // 벡터로 처리 \n",
    "    \n",
    "    println!(\" \");\n",
    "    let array: &[i32] = &*boxed_slice;                                // 슬라이스 처리 \n",
    "    println!(\" array = {:?}, {}\", array, type_of(array));\n",
    "}\n",
    "\n",
    "main();"
   ]
  },
  {
   "cell_type": "code",
   "execution_count": null,
   "id": "e5b0f19a",
   "metadata": {},
   "outputs": [],
   "source": []
  },
  {
   "cell_type": "code",
   "execution_count": null,
   "id": "9b26b53e",
   "metadata": {},
   "outputs": [],
   "source": []
  },
  {
   "cell_type": "code",
   "execution_count": null,
   "id": "8ca30f04",
   "metadata": {},
   "outputs": [],
   "source": []
  }
 ],
 "metadata": {
  "kernelspec": {
   "display_name": "Rust",
   "language": "rust",
   "name": "rust"
  },
  "language_info": {
   "codemirror_mode": "rust",
   "file_extension": ".rs",
   "mimetype": "text/rust",
   "name": "Rust",
   "pygment_lexer": "rust",
   "version": ""
  }
 },
 "nbformat": 4,
 "nbformat_minor": 5
}
