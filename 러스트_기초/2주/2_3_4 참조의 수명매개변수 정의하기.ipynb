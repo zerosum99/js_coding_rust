{
 "cells": [
  {
   "cell_type": "markdown",
   "id": "49863b26",
   "metadata": {},
   "source": [
    "\n",
    "## 러스트에서 수명 매개변수(lifetime parameter)\n",
    "\n",
    "- 모든 참조에는 해당 참조가 유효한 범위인 수명이 있다는 것입니다. \n",
    "- 대부분의 경우 수명은 대부분의 경우 유형이 유추되는 것처럼 암시적이고 유추됩니다. \n",
    "- 여러 유형이 가능한 경우에만 유형에 주석을 달아야 합니다. 비슷한 방식으로 참조의 수명이 몇 가지 다른 방식으로 관련될 수 있는 경우 수명에 주석을 달아야 합니다. \n",
    "- Rust는 런타임에 사용되는 실제 참조가 확실히 유효하도록 일반 수명 매개변수를 사용하여 관계에 주석을 달도록 요구합니다.\n",
    "\n",
    "### 명시적 수명 요구할 경우 \n",
    "- 참조의 수명을 명시적으로 지정하기 위해 사용됩니다. \n",
    "- 수명 매개변수는 함수나 구조체의 정의에서 'a와 같은 형식으로 표시됩니다."
   ]
  },
  {
   "cell_type": "markdown",
   "id": "2f7e2c89",
   "metadata": {},
   "source": [
    "## 수명을 점검하는 이유  \n",
    "\n",
    "- 컴파일러는 모든 변수의 lifetime을 이해하며 참조가 절대로 그 owner보다 더 오래 존재하지 못하도록 검증을 시도합니다.\n",
    "\n",
    "- 함수에서는 어떤 매개변수와 리턴 값이 서로 같은 lifetime을 공유하는지 식별할 수 있도록 심볼로 표시하여 명시적으로 생명주기를 지정할 수 있습니다."
   ]
  },
  {
   "cell_type": "markdown",
   "id": "93462dd8",
   "metadata": {},
   "source": [
    "## 1. 참조 수명 매개변수 정의  : 함수"
   ]
  },
  {
   "cell_type": "markdown",
   "id": "ce63db8f",
   "metadata": {},
   "source": [
    "## 수명매개변수를 지정하지 않을 때 컴파일러가 필요하가고 지정한다. \n",
    "\n",
    "- 두 개의 참조를 받는데 이중에 하나가 반환이 되는데 수명이 불명확하다 "
   ]
  },
  {
   "cell_type": "code",
   "execution_count": 2,
   "id": "38c1c113",
   "metadata": {},
   "outputs": [
    {
     "ename": "Error",
     "evalue": "missing lifetime specifier",
     "output_type": "error",
     "traceback": [
      "\u001b[31m[E0106] Error:\u001b[0m missing lifetime specifier",
      "   \u001b[38;5;246m╭\u001b[0m\u001b[38;5;246m─\u001b[0m\u001b[38;5;246m[\u001b[0mcommand_2:1:1\u001b[38;5;246m]\u001b[0m",
      "   \u001b[38;5;246m│\u001b[0m",
      " \u001b[38;5;246m1 │\u001b[0m \u001b[38;5;249mf\u001b[0m\u001b[38;5;249mn\u001b[0m\u001b[38;5;249m \u001b[0m\u001b[38;5;249ml\u001b[0m\u001b[38;5;249mo\u001b[0m\u001b[38;5;249mn\u001b[0m\u001b[38;5;249mg\u001b[0m\u001b[38;5;249me\u001b[0m\u001b[38;5;249ms\u001b[0m\u001b[38;5;249mt\u001b[0m\u001b[38;5;249m(\u001b[0m\u001b[38;5;249mx\u001b[0m\u001b[38;5;249m:\u001b[0m\u001b[38;5;249m \u001b[0m\u001b[38;5;249m&\u001b[0m\u001b[38;5;249ms\u001b[0m\u001b[38;5;249mt\u001b[0m\u001b[38;5;249mr\u001b[0m\u001b[38;5;249m,\u001b[0m\u001b[38;5;249m \u001b[0m\u001b[38;5;249my\u001b[0m\u001b[38;5;249m:\u001b[0m\u001b[38;5;249m \u001b[0m\u001b[38;5;249m&\u001b[0m\u001b[38;5;249ms\u001b[0m\u001b[38;5;249mt\u001b[0m\u001b[38;5;249mr\u001b[0m\u001b[38;5;249m)\u001b[0m\u001b[38;5;249m \u001b[0m\u001b[38;5;249m-\u001b[0m\u001b[38;5;249m>\u001b[0m\u001b[38;5;249m \u001b[0m\u001b[38;5;54m&\u001b[0m\u001b[38;5;249ms\u001b[0m\u001b[38;5;249mt\u001b[0m\u001b[38;5;249mr\u001b[0m\u001b[38;5;249m \u001b[0m\u001b[38;5;249m{\u001b[0m",
      " \u001b[38;5;240m  │\u001b[0m                                 \u001b[38;5;54m┬\u001b[0m  ",
      " \u001b[38;5;240m  │\u001b[0m                                 \u001b[38;5;54m╰\u001b[0m\u001b[38;5;54m─\u001b[0m\u001b[38;5;54m─\u001b[0m expected named lifetime parameter",
      "\u001b[38;5;246m───╯\u001b[0m"
     ]
    }
   ],
   "source": [
    "fn longest(x: &str, y: &str) -> &str {\n",
    "    if x.len() > y.len() {\n",
    "        x\n",
    "    } else {\n",
    "        y\n",
    "    }\n",
    "}\n",
    "\n",
    "fn main() {\n",
    "    let string1 = String::from(\"abcd\");\n",
    "    let string2 = \"xyz\";\n",
    "\n",
    "    let result = longest(string1.as_str(), string2);\n",
    "    println!(\"The longest string is {}\", result);\n",
    "}\n",
    "\n",
    "main();"
   ]
  },
  {
   "cell_type": "code",
   "execution_count": null,
   "id": "e3be5470",
   "metadata": {},
   "outputs": [],
   "source": []
  },
  {
   "cell_type": "markdown",
   "id": "2244372d",
   "metadata": {},
   "source": [
    "## 수명매개변수를 지정하기\n",
    "\n",
    "- 동일한 수명을 알려주기 위해 수명 매개변수를 지정"
   ]
  },
  {
   "cell_type": "code",
   "execution_count": 22,
   "id": "9b068afe",
   "metadata": {},
   "outputs": [
    {
     "name": "stdout",
     "output_type": "stream",
     "text": [
      "The longest string is: world\n"
     ]
    }
   ],
   "source": [
    "fn longest<'a>(x: &'a str, y: &'a str) -> &'a str {\n",
    "    if x.len() > y.len() {\n",
    "        x\n",
    "    } else {\n",
    "        y\n",
    "    }\n",
    "}\n",
    "\n",
    "fn main() {\n",
    "    let s1 = \"hello\";\n",
    "    let s2 = \"world\";\n",
    "    let result = longest(s1, s2);\n",
    "    println!(\"The longest string is: {}\", result);\n",
    "}\n",
    "main();"
   ]
  },
  {
   "cell_type": "code",
   "execution_count": null,
   "id": "2eb8808e",
   "metadata": {},
   "outputs": [],
   "source": []
  },
  {
   "cell_type": "markdown",
   "id": "52e0ae4f",
   "metadata": {},
   "source": [
    "###  두개이상이 수명매개변수를 사용할 경우 반환을 하나로 하는 경우 오류\n",
    "\n",
    "- 그래서 이럴 경우는 2개의 수명매개변수를 가지고 반환처리 "
   ]
  },
  {
   "cell_type": "code",
   "execution_count": 7,
   "id": "775d45a1",
   "metadata": {},
   "outputs": [
    {
     "name": "stdout",
     "output_type": "stream",
     "text": [
      "(\"Hello, world!\", \"Hello, world!\")\n"
     ]
    }
   ],
   "source": [
    "fn longest3<'a, 'b>(x: &'a str, y: &'b str) -> (&'a str, &'b str) {\n",
    "    if x.len() > y.len() {\n",
    "        (x,y)\n",
    "    } else {\n",
    "        (x,y)\n",
    "    }\n",
    "}\n",
    "\n",
    "fn main() {\n",
    "    let x = \"Hello, world!\";\n",
    "    let y = &x;\n",
    "    \n",
    "    let longest_string = longest3(&x, y);\n",
    "    \n",
    "    println!(\"{:?}\", longest_string);\n",
    "\n",
    "}\n",
    "main();"
   ]
  },
  {
   "cell_type": "code",
   "execution_count": null,
   "id": "77aed449",
   "metadata": {},
   "outputs": [],
   "source": []
  },
  {
   "cell_type": "code",
   "execution_count": null,
   "id": "63ae0331",
   "metadata": {},
   "outputs": [],
   "source": []
  },
  {
   "cell_type": "markdown",
   "id": "11bcc0c2",
   "metadata": {},
   "source": [
    "## 함수 매개변수가 구조체일 경우 수명으로 처리하기 "
   ]
  },
  {
   "cell_type": "code",
   "execution_count": 31,
   "id": "83f22164",
   "metadata": {},
   "outputs": [
    {
     "name": "stdout",
     "output_type": "stream",
     "text": [
      "13\n"
     ]
    }
   ],
   "source": [
    "struct Foo {\n",
    "    x: i32,\n",
    "}\n",
    "\n",
    "                                                  // 매개변수 foo와 리턴 값은 동일한 lifetime을 공유함\n",
    "fn do_something<'a>(foo: &'a Foo) -> &'a i32 {\n",
    "    return &foo.x;\n",
    "}\n",
    "\n",
    "fn main() {\n",
    "    let mut foo = Foo { x: 42 };\n",
    "    let x = &mut foo.x;\n",
    "    *x = 13;\n",
    "                                                  // x가 여기서 drop 되어, non-mutable 참조를 생성할 수 있음\n",
    "    let y = do_something(&foo);\n",
    "    println!(\"{}\", y);\n",
    "}                                                  // y는 여기서 drop 됨\n",
    "                                                   // foo는 여기서 drop 됨\n",
    "\n",
    "main();"
   ]
  },
  {
   "cell_type": "code",
   "execution_count": null,
   "id": "c6cb9ea1",
   "metadata": {},
   "outputs": [],
   "source": []
  },
  {
   "cell_type": "code",
   "execution_count": null,
   "id": "64f77e40",
   "metadata": {},
   "outputs": [],
   "source": []
  },
  {
   "cell_type": "code",
   "execution_count": null,
   "id": "691fcbd8",
   "metadata": {},
   "outputs": [],
   "source": []
  },
  {
   "cell_type": "code",
   "execution_count": 24,
   "id": "453ced49",
   "metadata": {},
   "outputs": [
    {
     "name": "stdout",
     "output_type": "stream",
     "text": [
      "42\n",
      "12\n",
      "12\n"
     ]
    }
   ],
   "source": [
    "struct Foo3 {\n",
    "    x: i32,\n",
    "}\n",
    "\n",
    "// foo_b와 리턴 값은 동일한 lifetime을 공유함\n",
    "// foo_a는 무관한 lifetime을 가짐\n",
    "fn do_something<'a, 'b>(foo_a: &'a Foo3, foo_b: &'b Foo3) -> &'b i32 {\n",
    "    println!(\"{}\", foo_a.x);\n",
    "    println!(\"{}\", foo_b.x);\n",
    "    return &foo_b.x;\n",
    "}\n",
    "\n",
    "fn main() {\n",
    "    let foo_a = Foo3 { x: 42 };\n",
    "    let foo_b = Foo3 { x: 12 };\n",
    "    let x = do_something(&foo_a, &foo_b);\n",
    "    // 여기 이후에는 foo_b의 lifetime만 존재하므로 foo_a만 drop 됨\n",
    "    println!(\"{}\", x);\n",
    "    // 여기서 x가 drop 됨\n",
    "    // 여기서 foo_b가 drop 됨\n",
    "}\n",
    "\n",
    "main();"
   ]
  },
  {
   "cell_type": "code",
   "execution_count": null,
   "id": "d7c6af0d",
   "metadata": {},
   "outputs": [],
   "source": []
  },
  {
   "cell_type": "code",
   "execution_count": null,
   "id": "ac719997",
   "metadata": {},
   "outputs": [],
   "source": []
  },
  {
   "cell_type": "markdown",
   "id": "0a9d3587",
   "metadata": {},
   "source": [
    "## 2. 참조 수명 매개변수 정의  : 구조체"
   ]
  },
  {
   "cell_type": "markdown",
   "id": "05a1687b",
   "metadata": {},
   "source": [
    "## 데이터 자료형의 생명주기\n",
    "\n",
    "- 함수와 마찬가지로, 데이터 자료형의 구성원들도 lifetime 지정자로 지정할 수 있습니다.\n",
    "\n",
    "- Rust는 참조가 품고 있는 데이터 구조가 참조가 가리키는 owner보다 절대 오래 살아남지 못하도록 검증합니다.\n",
    "\n",
    "- 아무 것도 아닌 것을 가리키는 참조를 들고 다니는 struct란 있을 수 없습니다!"
   ]
  },
  {
   "cell_type": "code",
   "execution_count": 27,
   "id": "b8476c8b",
   "metadata": {},
   "outputs": [
    {
     "ename": "Error",
     "evalue": "cannot find value `foo` in this scope",
     "output_type": "error",
     "traceback": [
      "\u001b[31m[E0425] Error:\u001b[0m cannot find value `foo` in this scope",
      "    \u001b[38;5;246m╭\u001b[0m\u001b[38;5;246m─\u001b[0m\u001b[38;5;246m[\u001b[0mcommand_27:1:1\u001b[38;5;246m]\u001b[0m",
      "    \u001b[38;5;246m│\u001b[0m",
      " \u001b[38;5;246m 8 │\u001b[0m \u001b[38;5;249m \u001b[0m\u001b[38;5;249m \u001b[0m\u001b[38;5;249m \u001b[0m\u001b[38;5;249m \u001b[0m\u001b[38;5;249m \u001b[0m\u001b[38;5;249m \u001b[0m\u001b[38;5;249m \u001b[0m\u001b[38;5;249m \u001b[0m\u001b[38;5;249ml\u001b[0m\u001b[38;5;249me\u001b[0m\u001b[38;5;249mt\u001b[0m\u001b[38;5;249m \u001b[0m\u001b[38;5;100mf\u001b[0m\u001b[38;5;100mo\u001b[0m\u001b[38;5;100mo\u001b[0m\u001b[38;5;249m \u001b[0m\u001b[38;5;249m=\u001b[0m\u001b[38;5;249m \u001b[0m\u001b[38;5;249mF\u001b[0m\u001b[38;5;249mo\u001b[0m\u001b[38;5;249mo\u001b[0m\u001b[38;5;249m \u001b[0m\u001b[38;5;249m{\u001b[0m",
      " \u001b[38;5;246m   ·\u001b[0m             \u001b[38;5;100m─\u001b[0m\u001b[38;5;100m┬\u001b[0m\u001b[38;5;100m─\u001b[0m  ",
      " \u001b[38;5;246m   ·\u001b[0m              \u001b[38;5;100m╰\u001b[0m\u001b[38;5;100m─\u001b[0m\u001b[38;5;100m─\u001b[0m\u001b[38;5;100m─\u001b[0m help: the binding `foo` is available in a different scope in the same function",
      " \u001b[38;5;246m   ·\u001b[0m ",
      " \u001b[38;5;246m12 │\u001b[0m \u001b[38;5;249m \u001b[0m\u001b[38;5;249m \u001b[0m\u001b[38;5;249m \u001b[0m\u001b[38;5;249m \u001b[0m\u001b[38;5;249mp\u001b[0m\u001b[38;5;249mr\u001b[0m\u001b[38;5;249mi\u001b[0m\u001b[38;5;249mn\u001b[0m\u001b[38;5;249mt\u001b[0m\u001b[38;5;249ml\u001b[0m\u001b[38;5;249mn\u001b[0m\u001b[38;5;249m!\u001b[0m\u001b[38;5;249m(\u001b[0m\u001b[38;5;249m\"\u001b[0m\u001b[38;5;249m{\u001b[0m\u001b[38;5;249m}\u001b[0m\u001b[38;5;249m\"\u001b[0m\u001b[38;5;249m,\u001b[0m\u001b[38;5;54mf\u001b[0m\u001b[38;5;54mo\u001b[0m\u001b[38;5;54mo\u001b[0m\u001b[38;5;249m.\u001b[0m\u001b[38;5;249mi\u001b[0m\u001b[38;5;249m)\u001b[0m\u001b[38;5;249m;\u001b[0m",
      " \u001b[38;5;246m   ·\u001b[0m                   \u001b[38;5;54m─\u001b[0m\u001b[38;5;54m┬\u001b[0m\u001b[38;5;54m─\u001b[0m  ",
      " \u001b[38;5;246m   ·\u001b[0m                    \u001b[38;5;54m╰\u001b[0m\u001b[38;5;54m─\u001b[0m\u001b[38;5;54m─\u001b[0m\u001b[38;5;54m─\u001b[0m error: cannot find value `foo` in this scope",
      "\u001b[38;5;246m────╯\u001b[0m"
     ]
    }
   ],
   "source": [
    "struct Foo<'a> {\n",
    "    i:&'a i32\n",
    "}\n",
    "\n",
    "fn main() {\n",
    "    let x = 42;\n",
    "    {\n",
    "        let foo = Foo {\n",
    "            i: &x\n",
    "        };\n",
    "    };\n",
    "    println!(\"{}\",foo.i);\n",
    "}\n",
    "\n",
    "main();"
   ]
  },
  {
   "cell_type": "code",
   "execution_count": 28,
   "id": "daad2ba9",
   "metadata": {},
   "outputs": [
    {
     "name": "stdout",
     "output_type": "stream",
     "text": [
      "42\n"
     ]
    }
   ],
   "source": [
    "fn main() {\n",
    "    let x = 42;\n",
    "    \n",
    "    let foo = Foo {\n",
    "            i: &x\n",
    "        };\n",
    "\n",
    "    println!(\"{}\",foo.i);\n",
    "}\n",
    "\n",
    "main();"
   ]
  },
  {
   "cell_type": "code",
   "execution_count": null,
   "id": "22ce047e",
   "metadata": {},
   "outputs": [],
   "source": []
  },
  {
   "cell_type": "code",
   "execution_count": null,
   "id": "7bf56bc2",
   "metadata": {},
   "outputs": [],
   "source": []
  },
  {
   "cell_type": "code",
   "execution_count": 2,
   "id": "2f96e8ae",
   "metadata": {},
   "outputs": [],
   "source": [
    "struct S<'a> {\n",
    "    x : &'a i32,\n",
    "    y : &'a i32,\n",
    "}"
   ]
  },
  {
   "cell_type": "code",
   "execution_count": 4,
   "id": "4ba28637",
   "metadata": {},
   "outputs": [
    {
     "ename": "Error",
     "evalue": "`y` does not live long enough",
     "output_type": "error",
     "traceback": [
      "            let s = S {x:&x, y:&y};",
      "\u001b[91m                               ^^\u001b[0m \u001b[94mborrowed value does not live long enough\u001b[0m",
      "    }",
      "\u001b[91m    ^\u001b[0m \u001b[94m`y` dropped here while still borrowed\u001b[0m",
      "        let y = 20;                        // y의 시작",
      "\u001b[91m            ^\u001b[0m \u001b[94mbinding `y` declared here\u001b[0m",
      "    println!(\" {} \", r);",
      "\u001b[91m                     ^\u001b[0m \u001b[94mborrow later used here\u001b[0m",
      "`y` does not live long enough"
     ]
    }
   ],
   "source": [
    "fn main() {\n",
    "    let x = 10;                            // x의 시작 \n",
    "    let r ;\n",
    "\n",
    "    {\n",
    "        let y = 20;                        // y의 시작\n",
    "        {\n",
    "            let s = S {x:&x, y:&y};\n",
    "            r = s.x;                       // r의 시작 \n",
    "        }\n",
    "    }\n",
    "\n",
    "    println!(\" {} \", r);\n",
    "}\n",
    "\n",
    "main();"
   ]
  },
  {
   "cell_type": "markdown",
   "id": "f9a46061",
   "metadata": {},
   "source": [
    "## 변수를 지정하는 위치를 변경 "
   ]
  },
  {
   "cell_type": "code",
   "execution_count": 5,
   "id": "73e46d28",
   "metadata": {},
   "outputs": [
    {
     "name": "stdout",
     "output_type": "stream",
     "text": [
      " 10 \n"
     ]
    }
   ],
   "source": [
    "fn main() {\n",
    "    let x = 10;                            // x의 시작 \n",
    "    let y = 20;                            // y의 시작\n",
    "    let r ;\n",
    "\n",
    "    {\n",
    "        {\n",
    "            let s = S {x:&x, y:&y};\n",
    "            r = s.x;                       // r의 시작 \n",
    "        }\n",
    "    }\n",
    "\n",
    "    println!(\" {} \", r);\n",
    "}\n",
    "\n",
    "main();"
   ]
  },
  {
   "cell_type": "markdown",
   "id": "c574404f",
   "metadata": {},
   "source": [
    "## 구조체의 수명매개변수를 별도로 지정"
   ]
  },
  {
   "cell_type": "code",
   "execution_count": 6,
   "id": "0e19641c",
   "metadata": {},
   "outputs": [],
   "source": [
    "struct S2<'a,'b> {\n",
    "    x : &'a i32,\n",
    "    y : &'b i32,\n",
    "}"
   ]
  },
  {
   "cell_type": "code",
   "execution_count": 7,
   "id": "e6fc0c15",
   "metadata": {},
   "outputs": [
    {
     "name": "stdout",
     "output_type": "stream",
     "text": [
      " 10 \n"
     ]
    }
   ],
   "source": [
    "fn main() {\n",
    "    let x = 10;                            // x의 시작 \n",
    "    let r ;\n",
    "\n",
    "    {\n",
    "        let y = 20;                        // y의 시작\n",
    "        {\n",
    "            let s = S2 {x:&x, y:&y};\n",
    "            r = s.x;                       // r의 시작 \n",
    "        }\n",
    "    }\n",
    "\n",
    "    println!(\" {} \", r);\n",
    "}\n",
    "\n",
    "main();"
   ]
  },
  {
   "cell_type": "code",
   "execution_count": null,
   "id": "fca53332",
   "metadata": {},
   "outputs": [],
   "source": []
  },
  {
   "cell_type": "markdown",
   "id": "9417bc05",
   "metadata": {},
   "source": [
    "## 3. 정적인 생명주기 \n",
    "\n",
    "### 정적인 생명주기\n",
    "- static 변수는 컴파일 타임에 생성되어 프로그램의 시작부터 끝까지 존재하는 메모리 리소스입니다. 이들은 명시적으로 자료형을 지정해 주어야 합니다.\n",
    "\n",
    "- static lifetime은 프로그램이 끝날 때까지 무한정 유지되는 메모리 리소스입니다. 이 정의에 따르면, 어떤 static lifetime의 리소스는 런타임에 생성될 수도 있다는 점 알아두세요.\n",
    "\n",
    "- static lifetime을 가진 리소스는 'static이라는 특별한 lifetime 지정자를 갖습니다.\n",
    "\n",
    "- 'static한 리소스는 절대 drop 되지 않습니다.\n",
    "\n",
    "- 만약 static lifetime을 가진 리소스가 참조를 포함하는 경우, 그들도 모두 'static이어야 합니다 (그 이하의 것들은 충분히 오래 살아남지 못합니다)."
   ]
  },
  {
   "cell_type": "code",
   "execution_count": null,
   "id": "2d01d06c",
   "metadata": {},
   "outputs": [],
   "source": []
  },
  {
   "cell_type": "code",
   "execution_count": 25,
   "id": "b656007b",
   "metadata": {},
   "outputs": [
    {
     "name": "stdout",
     "output_type": "stream",
     "text": [
      "Hello World! 3.1415\n",
      "abracadabra\n"
     ]
    }
   ],
   "source": [
    "static PI: f64 = 3.1415;\n",
    "\n",
    "fn main() {\n",
    "    // static 변수는 함수 scope 안에도 넣을 수 있습니다\n",
    "    static mut SECRET: &'static str = \"swordfish\";\n",
    "\n",
    "    // string 값들은 'static lifetime을 갖습니다\n",
    "    let msg: &'static str = \"Hello World!\";\n",
    "    let p: &'static f64 = &PI;\n",
    "    println!(\"{} {}\", msg, p);\n",
    "\n",
    "    // 일부 규칙은 깰 수 있으나, 반드시 명시적으로 해야 합니다\n",
    "    unsafe {\n",
    "        // SECRET에 string 값을 설정할 수 있는데, 이 값 역시 'static이기 때문입니다\n",
    "        SECRET = \"abracadabra\";\n",
    "        println!(\"{}\", SECRET);\n",
    "    }\n",
    "}\n",
    "\n",
    "main();"
   ]
  },
  {
   "cell_type": "code",
   "execution_count": null,
   "id": "5a8b74d1",
   "metadata": {},
   "outputs": [],
   "source": []
  },
  {
   "cell_type": "markdown",
   "id": "76f41555",
   "metadata": {},
   "source": [
    "## 4. 수명매개변수와 제너릭을 같이 처리하기"
   ]
  },
  {
   "cell_type": "code",
   "execution_count": null,
   "id": "5c22cd8a",
   "metadata": {},
   "outputs": [],
   "source": []
  },
  {
   "cell_type": "code",
   "execution_count": 12,
   "id": "c2d225e9",
   "metadata": {},
   "outputs": [
    {
     "name": "stdout",
     "output_type": "stream",
     "text": [
      "The first element is: 1\n"
     ]
    }
   ],
   "source": [
    "fn first_element<'a, T>(vec: &'a Vec<T>) -> Option<&'a T> {\n",
    "    vec.first()\n",
    "}\n",
    "\n",
    "fn main() {\n",
    "    let vec = vec![1, 2, 3, 4, 5];\n",
    "    let result = first_element(&vec);\n",
    "    \n",
    "    match result {\n",
    "        Some(value) => println!(\"The first element is: {}\", value),\n",
    "        None => println!(\"The vector is empty.\"),\n",
    "    }\n",
    "}\n",
    "\n",
    "main();"
   ]
  },
  {
   "cell_type": "code",
   "execution_count": null,
   "id": "07280540",
   "metadata": {},
   "outputs": [],
   "source": []
  },
  {
   "cell_type": "code",
   "execution_count": null,
   "id": "eafb2166",
   "metadata": {},
   "outputs": [],
   "source": []
  },
  {
   "cell_type": "code",
   "execution_count": null,
   "id": "6ed6e77b",
   "metadata": {},
   "outputs": [],
   "source": []
  }
 ],
 "metadata": {
  "kernelspec": {
   "display_name": "Rust",
   "language": "rust",
   "name": "rust"
  },
  "language_info": {
   "codemirror_mode": "rust",
   "file_extension": ".rs",
   "mimetype": "text/rust",
   "name": "Rust",
   "pygment_lexer": "rust",
   "version": ""
  }
 },
 "nbformat": 4,
 "nbformat_minor": 5
}
