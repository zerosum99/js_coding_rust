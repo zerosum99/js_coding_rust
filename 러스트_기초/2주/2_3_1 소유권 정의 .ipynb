{
 "cells": [
  {
   "cell_type": "code",
   "execution_count": null,
   "id": "4fb37e9c",
   "metadata": {},
   "outputs": [],
   "source": []
  },
  {
   "cell_type": "markdown",
   "id": "37d853c8-db99-4f0b-a968-589ad397bb16",
   "metadata": {},
   "source": [
    "\n",
    "\n",
    "\n",
    "#  **심벌 테이블(Symbol Table)**과 메모리 구성 \n",
    "\n",
    "- 은 컴파일 타임과 런타임 모두에서 메모리와 프로그램의 구조를 효율적으로 관리하기 위해 설계되었습니다. \n",
    "- Rust는 정적 분석과 메모리 안전성을 보장하기 위해 이러한 요소들을 철저하게 관리합니다.\n",
    "\n",
    "## 1. 심벌 테이블(Symbol Table)\n",
    "- 심벌 테이블은 컴파일러가 변수, 함수, 상수, 타입 등에 대한 정보를 추적하는 데이터 구조입니다. Rust의 컴파일러는 심벌 테이블을 사용하여:\n",
    "\n",
    "- 변수의 이름과 메모리 주소를 연결합니다.\n",
    "- 스코프와 **수명(lifetime)**을 관리합니다.\n",
    "- 타입 검사 및 소유권 시스템을 기반으로 한 메모리 접근의 유효성을 확인합니다.\n",
    "- 심벌 테이블은 컴파일러가 코드를 이해하고 변수 및 함수의 위치와 타입을 추적할 수 있게 해주며, Rust는 특히 소유권 시스템을 기반으로 심벌 테이블을 활용하여 중복 소유권 방지, 데이터 경합 방지, 메모리 누수를 방지합니다.\n",
    "\n",
    "- Rust의 변수는 기본적으로 **스택(stack)**에 저장되지만, 동적 크기의 데이터(Box, Vec, String 등)는 **힙(heap)**에 저장되며, 심벌 테이블이 이를 추적하고 관리합니다.\n",
    "\n",
    "## 2. 메모리 구성\n",
    "- Rust는 매우 철저하게 메모리를 관리하며, 크게 **스택(stack)**과 **힙(heap)**이라는 두 가지 메모리 영역에서 동작합니다.\n",
    "\n",
    "- 스택(Stack):\n",
    "\n",
    "> 고정 크기의 데이터(예: 기본 자료형, 고정 크기 배열)가 스택에 저장됩니다.\n",
    "> LIFO(Last-In-First-Out) 방식으로 빠르게 할당되고 해제됩니다.\n",
    "> 스택 메모리에서의 변수는 함수 호출과 함께 생성되고, 해당 함수의 실행이 끝나면 자동으로 해제됩니다.\n",
    "\n",
    "\n",
    "- 힙(Heap):\n",
    "\n",
    "> 동적으로 크기가 변하는 데이터(예: Vec<T>, Box<T>, String)는 힙에 저장됩니다.\n",
    "> 힙에 할당된 데이터는 수동으로 할당되고 해제되며, Rust는 소유권 시스템과 스마트 포인터(예: Box<T>, Rc<T>, Arc<T>)를 통해 이를 관리합니다.\n",
    "> 힙 메모리는 런타임 동안 계속 사용할 수 있으며, Rust는 스코프 종료 시 자동으로 메모리를 해제하는 방식으로 메모리 누수를 방지합니다.\n",
    "\n",
    "\n",
    "## 3. 소유권 및 메모리 안전성\n",
    "- Rust의 메모리 모델은 소유권(ownership), 차용(borrowing), 그리고 수명(lifetime) 개념을 중심으로 작동합니다. \n",
    "- 이 시스템은 런타임에 비용을 추가하지 않으면서도 컴파일 타임에 메모리 접근을 철저하게 검사하여 메모리 안전성을 보장합니다.\n",
    "\n",
    "> 소유권: 각 값은 고유한 소유자가 있으며, 값은 한 번에 하나의 소유자만 가질 수 있습니다.\n",
    "> 차용: 값을 소유하지 않고 참조하는 방식으로, 불변 참조(&T)와 가변 참조(&mut T)가 있습니다.\n",
    "> 수명: 참조는 유효한 메모리 위치에만 접근할 수 있으며, Rust는 컴파일 타임에 참조의 유효 기간을 검사하여 메모리 오류를 방지합니다.\n",
    "\n",
    "## 4. 메모리 해제\n",
    "- Rust는 **가비지 컬렉터(GC)**가 없는 언어이므로, 메모리 관리는 컴파일러가 소유권과 수명을 추적하여 스코프가 종료되면 자동으로 메모리를 해제합니다. \n",
    "- 이는 RAII(Resource Acquisition Is Initialization) 원칙을 기반으로 하며, drop 메서드가 호출되어 자원을 해제합니다."
   ]
  },
  {
   "cell_type": "code",
   "execution_count": null,
   "id": "10d55a06",
   "metadata": {},
   "outputs": [],
   "source": []
  },
  {
   "cell_type": "markdown",
   "id": "2f7fbcb9",
   "metadata": {},
   "source": [
    "# 1. 소유자(Owner)와 소유권(Owership) 알아보기 \n",
    "\n",
    "- "
   ]
  },
  {
   "cell_type": "markdown",
   "id": "85d55e57",
   "metadata": {},
   "source": [
    "## 1-1 소유자 변수이고 소유권은 값에 있다.\n",
    "\n",
    "### 변수 정의\n",
    "-  소유자에게 소유권이 할당된다. \n",
    "- 변수를 정의할 때는 let과 let mut으로 지정한다. 이때 값이 할당되어 소유권을 가진다.  \n",
    "\n",
    "### 유효범위\n",
    "- 변수를 블럭단위로 정의하므로 변수의 유효범위는 해당 블럭이다. 이를 스코프라고 한다."
   ]
  },
  {
   "cell_type": "markdown",
   "id": "4bba701d",
   "metadata": {},
   "source": [
    "### 1-1-1원시값은 항상 소유자를 가질 수 있다. "
   ]
  },
  {
   "cell_type": "code",
   "execution_count": 2,
   "id": "101687b5",
   "metadata": {},
   "outputs": [],
   "source": [
    "let x = 100;\n",
    "let mut y = 100;"
   ]
  },
  {
   "cell_type": "markdown",
   "id": "c55277f5",
   "metadata": {},
   "source": [
    "### 1-1-2 소유권이 이동될까요?\n",
    "\n",
    "- 원시 자료형은 소유권이 이동이 아니라 복사가 발생해서 새로운 소유권이 생깁니다.\n",
    "\n",
    "- 소유권 이동과 새로운 소유권이 생기는 것이 차이는 기존 변수가 사용할 수 없다는 것입니다."
   ]
  },
  {
   "cell_type": "code",
   "execution_count": 3,
   "id": "519abc11",
   "metadata": {},
   "outputs": [],
   "source": [
    "let z = x;"
   ]
  },
  {
   "cell_type": "markdown",
   "id": "7f185f4d",
   "metadata": {},
   "source": [
    "###  새로운 소유권이 생겨서 변수 x를 사용할 수 있습니다."
   ]
  },
  {
   "cell_type": "code",
   "execution_count": 6,
   "id": "54493699",
   "metadata": {},
   "outputs": [
    {
     "data": {
      "text/plain": [
       "100"
      ]
     },
     "execution_count": 6,
     "metadata": {},
     "output_type": "execute_result"
    }
   ],
   "source": [
    "x"
   ]
  },
  {
   "cell_type": "markdown",
   "id": "83149c06",
   "metadata": {},
   "source": [
    "### 1-1-3  레퍼런스 값은 이동이 발생해서 한번만 처리된다\n",
    "\n",
    "- 소유권 이동이 발생하는 경우는 레퍼런스 즉 포인터로 처리되는 경우\n",
    "\n",
    "- 이런 경우는 실제 데이터를 힙에서 관리한다. =>  원시자료형은 고정이기 때문에 스택에서 관리 "
   ]
  },
  {
   "cell_type": "markdown",
   "id": "4d606251",
   "metadata": {},
   "source": [
    "#### 문자열을 하나 만들어서 변수에 할당\n",
    "\n",
    "- 곧 소유권을 생성"
   ]
  },
  {
   "cell_type": "code",
   "execution_count": 4,
   "id": "68e05db9",
   "metadata": {},
   "outputs": [],
   "source": [
    "let xx = String::from(\"문자열\"); "
   ]
  },
  {
   "cell_type": "markdown",
   "id": "d6a57a5c",
   "metadata": {},
   "source": [
    "#### 위의 소유권을 복사해서 새로운 소유권을 만듬\n",
    "\n",
    "-  복제는 힙의 메모리에 새롭게 만든다.\n",
    "- 복사와 복제는 다르다.  보통 복사는 스택에서 생기고 복제는 힙에서 생긴다."
   ]
  },
  {
   "cell_type": "code",
   "execution_count": 5,
   "id": "26afe187",
   "metadata": {},
   "outputs": [],
   "source": [
    "let a = Box::new(xx.clone());\n",
    "let mut b = Box::new(xx.clone());"
   ]
  },
  {
   "cell_type": "code",
   "execution_count": null,
   "id": "63c5a8d8",
   "metadata": {},
   "outputs": [],
   "source": []
  },
  {
   "cell_type": "markdown",
   "id": "f90fbe91",
   "metadata": {},
   "source": [
    "## 1-2 소유권 시스템의 규칙\n",
    "\n",
    "### 소유자는 유일해야 함 \n",
    "- 각 값은 해당 값의 소유자가 있습니다.\n",
    "- 한 번에 하나의 소유자만이 해당 값의 소유자가 될 수 있습니다.\n",
    "\n",
    "### 소멸되는 이유 \n",
    "- 소유자는 값의 생명주기 동안 유효합니다.\n",
    "- 소유자가 범위를 벗어나면 해당 값은 소멸됩니다.\n",
    "\n",
    "### 나머지 사용은 참조에 의해 빌림\n",
    "- 값에 대한 참조(빌림)는 소유권을 이전하지 않습니다.\n"
   ]
  },
  {
   "cell_type": "markdown",
   "id": "df06a148",
   "metadata": {},
   "source": [
    "### 1-2-1 소유자는 유일해야 함\n",
    "- 각 값은 해당 값의 소유자가 있습니다.\n",
    "- 한 번에 하나의 소유자만이 해당 값의 소유자가 될 수 있습니다.\n"
   ]
  },
  {
   "cell_type": "code",
   "execution_count": 9,
   "id": "242ad3a0",
   "metadata": {},
   "outputs": [],
   "source": [
    "let owner_1 = String::from(\"문자열\"); "
   ]
  },
  {
   "cell_type": "code",
   "execution_count": 10,
   "id": "31b9faaa",
   "metadata": {},
   "outputs": [],
   "source": [
    "let owner_2 = owner_1;"
   ]
  },
  {
   "cell_type": "markdown",
   "id": "ba5d6d52",
   "metadata": {},
   "source": [
    "#### 소유권 이전이 생겨서 에러가 발생함"
   ]
  },
  {
   "cell_type": "code",
   "execution_count": 11,
   "id": "ee5d6dca",
   "metadata": {},
   "outputs": [
    {
     "ename": "Error",
     "evalue": "cannot find value `owner_1` in this scope",
     "output_type": "error",
     "traceback": [
      "\u001b[31m[E0425] Error:\u001b[0m cannot find value `owner_1` in this scope",
      "   \u001b[38;5;246m╭\u001b[0m\u001b[38;5;246m─\u001b[0m\u001b[38;5;246m[\u001b[0mcommand_11:1:1\u001b[38;5;246m]\u001b[0m",
      "   \u001b[38;5;246m│\u001b[0m",
      " \u001b[38;5;246m1 │\u001b[0m \u001b[38;5;54mo\u001b[0m\u001b[38;5;54mw\u001b[0m\u001b[38;5;54mn\u001b[0m\u001b[38;5;54me\u001b[0m\u001b[38;5;54mr\u001b[0m\u001b[38;5;54m_\u001b[0m\u001b[38;5;54m1\u001b[0m",
      " \u001b[38;5;246m  ·\u001b[0m \u001b[38;5;54m─\u001b[0m\u001b[38;5;54m─\u001b[0m\u001b[38;5;54m─\u001b[0m\u001b[38;5;54m┬\u001b[0m\u001b[38;5;54m─\u001b[0m\u001b[38;5;54m─\u001b[0m\u001b[38;5;54m─\u001b[0m  ",
      " \u001b[38;5;246m  ·\u001b[0m    \u001b[38;5;54m╰\u001b[0m\u001b[38;5;54m─\u001b[0m\u001b[38;5;54m─\u001b[0m\u001b[38;5;54m─\u001b[0m\u001b[38;5;54m─\u001b[0m\u001b[38;5;54m─\u001b[0m error: cannot find value `owner_1` in this scope",
      " \u001b[38;5;246m  ·\u001b[0m    \u001b[38;5;100m│\u001b[0m     ",
      " \u001b[38;5;246m  ·\u001b[0m    \u001b[38;5;100m╰\u001b[0m\u001b[38;5;100m─\u001b[0m\u001b[38;5;100m─\u001b[0m\u001b[38;5;100m─\u001b[0m\u001b[38;5;100m─\u001b[0m\u001b[38;5;100m─\u001b[0m help: a local variable with a similar name exists: `owner_2`",
      "\u001b[38;5;246m───╯\u001b[0m"
     ]
    }
   ],
   "source": [
    "owner_1"
   ]
  },
  {
   "cell_type": "code",
   "execution_count": null,
   "id": "2f9ba66b",
   "metadata": {},
   "outputs": [],
   "source": []
  },
  {
   "cell_type": "markdown",
   "id": "17cc74fb",
   "metadata": {},
   "source": [
    "### 1-2-2 소멸되는 이유 \n",
    "- 소유자는 값의 생명주기 동안 유효합니다.\n",
    "- 소유자가 범위를 벗어나면 해당 값은 소멸됩니다."
   ]
  },
  {
   "cell_type": "markdown",
   "id": "48068d78",
   "metadata": {},
   "source": [
    "### 변수의 범위는 스코프 내에서 까지만\n",
    "\n",
    "- 변수가 소유자이기 때문에 스코프 범위까지만 사용이 가능"
   ]
  },
  {
   "cell_type": "code",
   "execution_count": 13,
   "id": "918bbe6b",
   "metadata": {},
   "outputs": [
    {
     "ename": "Error",
     "evalue": "cannot find value `owner_3` in this scope",
     "output_type": "error",
     "traceback": [
      "owner_3;",
      "\u001b[91m^^^^^^^\u001b[0m \u001b[94merror: cannot find value `owner_3` in this scope\u001b[0m",
      "cannot find value `owner_3` in this scope",
      "\u001b[1mhelp\u001b[0m: the binding `owner_3` is available in a different scope in the same function"
     ]
    }
   ],
   "source": [
    "{ \n",
    "     let owner_3 = String::from(\"문자열\"); \n",
    "}\n",
    "\n",
    "owner_3;"
   ]
  },
  {
   "cell_type": "code",
   "execution_count": null,
   "id": "a82c50c5",
   "metadata": {},
   "outputs": [],
   "source": []
  },
  {
   "cell_type": "markdown",
   "id": "c983998e",
   "metadata": {},
   "source": [
    "## 1-3  소유권 시스템 :  소유자는 유일 \n"
   ]
  },
  {
   "cell_type": "markdown",
   "id": "f65f9633",
   "metadata": {},
   "source": [
    "### 원시값의 유일성\n",
    "\n",
    "- 변경이 불가하므로 유일한 값을 처리하기 위해서 메모리에 새롭게 복사함\n",
    "- 새로운 메모리를 생성하므로 유일값을 유지 => 별도의 주소 생김  \n"
   ]
  },
  {
   "cell_type": "code",
   "execution_count": 10,
   "id": "4484745a",
   "metadata": {},
   "outputs": [
    {
     "name": "stdout",
     "output_type": "stream",
     "text": [
      "x = 5, y = 5\n"
     ]
    }
   ],
   "source": [
    "fn main() {\n",
    "    let x = 5;                        // x는 5의 소유자입니다.\n",
    "    let y = x;                        // x의 값을 y에 대입하여 y가 5의 소유자가 됩니다.\n",
    "    println!(\"x = {}, y = {}\", x, y); // x와 y 모두 5의 소유자입니다.\n",
    "}\n",
    "\n",
    "main();"
   ]
  },
  {
   "cell_type": "markdown",
   "id": "80f1f279",
   "metadata": {},
   "source": [
    "### 레퍼런스 값의 유일성 \n",
    "\n",
    "- 실제 메모리에 저장된 값이 주소(포인터)이므로 다른 소유자의 변수가 관리하는 메모리로 복사\n",
    "- 한번 생성된 주소값은 다른 소유자로 전달되면서 유일성을 유지 \n",
    "\n",
    " "
   ]
  },
  {
   "cell_type": "code",
   "execution_count": 9,
   "id": "43228e1a",
   "metadata": {},
   "outputs": [
    {
     "name": "stdout",
     "output_type": "stream",
     "text": [
      "y = hello\n"
     ]
    }
   ],
   "source": [
    "fn main() {\n",
    "    let x = String::from(\"hello\");  // x는 String 값 \"hello\"의 소유자입니다.\n",
    "    let y = x;                      // x의 소유권이 y로 이전됩니다.\n",
    "    // println!(\"x = {}\", x);       // 에러! x의 소유권은 이전되었기 때문에 사용할 수 없습니다.\n",
    "    println!(\"y = {}\", y);          // y는 \"hello\"의 소유자입니다.\n",
    "}\n",
    "\n",
    "main();"
   ]
  },
  {
   "cell_type": "code",
   "execution_count": null,
   "id": "610d5358",
   "metadata": {},
   "outputs": [],
   "source": []
  },
  {
   "cell_type": "markdown",
   "id": "30112e27",
   "metadata": {},
   "source": [
    "##  1-4 소유자의 소유권을 유지기간 \n",
    "\n",
    "- 변수가 생성되면 스코프 유지\n",
    "- 변수는 모듈, 함수, 블럭 등에서 생성되면 그 범위내에서만 유일성을 유지\n",
    "- 범위를 벗어나면 더 이상 사용할 수 없다는 뜻이다. \n",
    "\n"
   ]
  },
  {
   "cell_type": "code",
   "execution_count": 4,
   "id": "9b2265a6",
   "metadata": {},
   "outputs": [
    {
     "name": "stdout",
     "output_type": "stream",
     "text": [
      "hello\n",
      "hello\n"
     ]
    }
   ],
   "source": [
    "fn main() {\n",
    "    let s1 = String::from(\"hello\");   // s1이 String 타입의 값을 소유.\n",
    "    {\n",
    "        let s2 = &s1;                      // s1의 소유권이 s2로 이동. s1은 더 이상 유효하지 않음.\n",
    "\n",
    "        println!(\"{}\", s2);               // s2는 여전히 값을 소유, \"hello\"가 출력.\n",
    "    }\n",
    "    \n",
    "    println!(\"{}\", s1);  \n",
    "}                                     // 함수가 종료되면 s2가 스코프를 벗어나서, 소유하던 값의 메모리가 해제.\n",
    "\n",
    "main();"
   ]
  },
  {
   "cell_type": "code",
   "execution_count": null,
   "id": "fc61d2e0",
   "metadata": {},
   "outputs": [],
   "source": []
  },
  {
   "cell_type": "markdown",
   "id": "998d5c5f",
   "metadata": {},
   "source": [
    "### 변수가 지정한 스코프 단위로 소유권 유지\n",
    "\n",
    "- 더 범위가 큰 변수를 특정 블럭 내에 변수에 할당하면 소유권이 이동\n",
    "- 로컬 블럭 내에서 다시 이동을 안하면 소유권을 가진 변수는 유효범위까지 소유권을 유지한다. \n"
   ]
  },
  {
   "cell_type": "code",
   "execution_count": 8,
   "id": "058f9fb6",
   "metadata": {},
   "outputs": [
    {
     "ename": "Error",
     "evalue": "borrow of moved value: `x`",
     "output_type": "error",
     "traceback": [
      "        let y = x; // x의 소유권이 y로 이전됨",
      "\u001b[91m                ^\u001b[0m \u001b[94mvalue moved here\u001b[0m",
      "    println!(\"{}\", x); // 컴파일 오류 발생",
      "\u001b[91m                   ^\u001b[0m \u001b[94mvalue borrowed here after move\u001b[0m",
      "    let x = String::from(\"Hello\"); // x는 스코프에 들어감",
      "\u001b[91m        ^\u001b[0m \u001b[94mmove occurs because `x` has type `String`, which does not implement the `Copy` trait\u001b[0m",
      "borrow of moved value: `x`"
     ]
    }
   ],
   "source": [
    "fn main() {\n",
    "    let x = String::from(\"Hello\");      // x는 스코프에 들어감\n",
    "    if true {\n",
    "        let y = x;                      // x의 소유권이 y로 이전됨\n",
    "        println!(\"{}\", y);              // \"Hello\" 출력\n",
    "    }                                   // y가 범위를 벗어남\n",
    "    println!(\"{}\", x);                  // 컴파일 오류 발생\n",
    "}"
   ]
  },
  {
   "cell_type": "markdown",
   "id": "828cbb7c",
   "metadata": {},
   "source": [
    "### 소유권을 유지하려면 참조(빌림을 사용해야 함"
   ]
  },
  {
   "cell_type": "code",
   "execution_count": 12,
   "id": "c3afeaea",
   "metadata": {},
   "outputs": [
    {
     "name": "stdout",
     "output_type": "stream",
     "text": [
      "Hello\n",
      "Hello\n"
     ]
    }
   ],
   "source": [
    "fn main() {\n",
    "    let x = String::from(\"Hello\");       // x는 스코프에 들어감\n",
    "    if true {\n",
    "        let y = &x;                      // x의 값을  y가 빌림 \n",
    "        println!(\"{}\", y);               // \"Hello\" 출력\n",
    "    }                                    // y가 범위를 벗어남\n",
    "    println!(\"{}\", x);                   // 소유권이 유지되어 X 값을 출력함\n",
    "}\n",
    "\n",
    "main();"
   ]
  },
  {
   "cell_type": "code",
   "execution_count": null,
   "id": "e6012afe",
   "metadata": {},
   "outputs": [],
   "source": []
  },
  {
   "cell_type": "markdown",
   "id": "ba9d159e",
   "metadata": {},
   "source": [
    "## 2  소유권에 대한 이동 알아보기 \n",
    "\n",
    "\n",
    "### 소유권 연관관계\n",
    "\n",
    "- 스택 내부에서 저장된 값과 주소를 어떻게 관리할 지를 결정하는 것이 소유권과 연관\n",
    "\n",
    "### 소유권 이동\n",
    "- 스택 내부의 포인터(레퍼런스) 값이 복사되어 새로은 심벌과 연결되어 \n",
    "- 기본 심벌을 더 이상 사용 못하도록 만든다. \n",
    "- 그래서 실제 사용할 수 있는 심벌이 새롭게 결정된다. "
   ]
  },
  {
   "cell_type": "markdown",
   "id": "0a4dc314",
   "metadata": {},
   "source": [
    "## 2-1 소유권 이동 이해하기"
   ]
  },
  {
   "cell_type": "markdown",
   "id": "d86e5731",
   "metadata": {},
   "source": [
    "### 값에 대한 소유권은 변수를 지정하면서 생성된다. \n",
    "\n",
    "- 소유권을 변수에 할당하는 것을 이동(move) 라고한다.\n",
    "- 이 말은 변수에 레퍼런스를 저장하는 것이다. \n",
    "- 실제 값은 heap 메모리에 생기고 그것을 변수에 할당해서 소유권을 확정하기 때문이다.\n",
    "- 예외 대상은 스택 메모리에 관리하는 원시값들이다. 이 값은 이동되면 동일한 값을 새로운 변수가 사용할 수 있다. \n"
   ]
  },
  {
   "cell_type": "code",
   "execution_count": 5,
   "id": "c05d2bba",
   "metadata": {},
   "outputs": [
    {
     "name": "stdout",
     "output_type": "stream",
     "text": [
      " s1= Hello!\n"
     ]
    }
   ],
   "source": [
    "fn main() {\n",
    "    let s1: String = String::from(\"Hello!\");\n",
    "    println!(\" s1= {}\",s1 );\n",
    "}\n",
    "\n",
    "main();"
   ]
  },
  {
   "cell_type": "code",
   "execution_count": null,
   "id": "4108f05b",
   "metadata": {},
   "outputs": [],
   "source": []
  },
  {
   "cell_type": "markdown",
   "id": "016adc73",
   "metadata": {},
   "source": [
    "### 소유권에는 하나의 소유자만 있어야 한다.\n",
    "\n",
    "- 기존 변수에 할당해서 소유권을 확정했지만 \n",
    "-  또 다른 변수에 기존 변수의 값을 할당하면 소유권이 옮겨간다. \n",
    "- 이것도 이동(move)이다. 그래서 기존 변수는 수명이 종료된다. "
   ]
  },
  {
   "cell_type": "code",
   "execution_count": 37,
   "id": "2eb9a54d",
   "metadata": {},
   "outputs": [
    {
     "ename": "Error",
     "evalue": "borrow of moved value: `s1`",
     "output_type": "error",
     "traceback": [
      "\u001b[31m[E0382] Error:\u001b[0m borrow of moved value: `s1`",
      "   \u001b[38;5;246m╭\u001b[0m\u001b[38;5;246m─\u001b[0m\u001b[38;5;246m[\u001b[0mcommand_37:1:1\u001b[38;5;246m]\u001b[0m",
      "   \u001b[38;5;246m│\u001b[0m",
      " \u001b[38;5;246m2 │\u001b[0m \u001b[38;5;249m \u001b[0m\u001b[38;5;249m \u001b[0m\u001b[38;5;249m \u001b[0m\u001b[38;5;249m \u001b[0m\u001b[38;5;249ml\u001b[0m\u001b[38;5;249me\u001b[0m\u001b[38;5;249mt\u001b[0m\u001b[38;5;249m \u001b[0m\u001b[38;5;68ms\u001b[0m\u001b[38;5;68m1\u001b[0m\u001b[38;5;249m:\u001b[0m\u001b[38;5;249m \u001b[0m\u001b[38;5;249mS\u001b[0m\u001b[38;5;249mt\u001b[0m\u001b[38;5;249mr\u001b[0m\u001b[38;5;249mi\u001b[0m\u001b[38;5;249mn\u001b[0m\u001b[38;5;249mg\u001b[0m\u001b[38;5;249m \u001b[0m\u001b[38;5;249m=\u001b[0m\u001b[38;5;249m \u001b[0m\u001b[38;5;249mS\u001b[0m\u001b[38;5;249mt\u001b[0m\u001b[38;5;249mr\u001b[0m\u001b[38;5;249mi\u001b[0m\u001b[38;5;249mn\u001b[0m\u001b[38;5;249mg\u001b[0m\u001b[38;5;249m:\u001b[0m\u001b[38;5;249m:\u001b[0m\u001b[38;5;249mf\u001b[0m\u001b[38;5;249mr\u001b[0m\u001b[38;5;249mo\u001b[0m\u001b[38;5;249mm\u001b[0m\u001b[38;5;249m(\u001b[0m\u001b[38;5;249m\"\u001b[0m\u001b[38;5;249mH\u001b[0m\u001b[38;5;249me\u001b[0m\u001b[38;5;249ml\u001b[0m\u001b[38;5;249ml\u001b[0m\u001b[38;5;249mo\u001b[0m\u001b[38;5;249m!\u001b[0m\u001b[38;5;249m\"\u001b[0m\u001b[38;5;249m)\u001b[0m\u001b[38;5;249m;\u001b[0m",
      " \u001b[38;5;246m  ·\u001b[0m         \u001b[38;5;68m─\u001b[0m\u001b[38;5;68m┬\u001b[0m  ",
      " \u001b[38;5;246m  ·\u001b[0m          \u001b[38;5;68m╰\u001b[0m\u001b[38;5;68m─\u001b[0m\u001b[38;5;68m─\u001b[0m move occurs because `s1` has type `String`, which does not implement the `Copy` trait",
      " \u001b[38;5;246m3 │\u001b[0m \u001b[38;5;249m \u001b[0m\u001b[38;5;249m \u001b[0m\u001b[38;5;249m \u001b[0m\u001b[38;5;249m \u001b[0m\u001b[38;5;249ml\u001b[0m\u001b[38;5;249me\u001b[0m\u001b[38;5;249mt\u001b[0m\u001b[38;5;249m \u001b[0m\u001b[38;5;249ms\u001b[0m\u001b[38;5;249m2\u001b[0m\u001b[38;5;249m:\u001b[0m\u001b[38;5;249m \u001b[0m\u001b[38;5;249mS\u001b[0m\u001b[38;5;249mt\u001b[0m\u001b[38;5;249mr\u001b[0m\u001b[38;5;249mi\u001b[0m\u001b[38;5;249mn\u001b[0m\u001b[38;5;249mg\u001b[0m\u001b[38;5;249m \u001b[0m\u001b[38;5;249m=\u001b[0m\u001b[38;5;249m \u001b[0m\u001b[38;5;54ms\u001b[0m\u001b[38;5;54m1\u001b[0m\u001b[38;5;249m;\u001b[0m",
      " \u001b[38;5;246m  ·\u001b[0m                      \u001b[38;5;54m─\u001b[0m\u001b[38;5;54m┬\u001b[0m  ",
      " \u001b[38;5;246m  ·\u001b[0m                       \u001b[38;5;54m╰\u001b[0m\u001b[38;5;54m─\u001b[0m\u001b[38;5;54m─\u001b[0m value moved here",
      " \u001b[38;5;246m  ·\u001b[0m ",
      " \u001b[38;5;246m5 │\u001b[0m \u001b[38;5;249m \u001b[0m\u001b[38;5;249m \u001b[0m\u001b[38;5;249m \u001b[0m\u001b[38;5;249m \u001b[0m\u001b[38;5;249mp\u001b[0m\u001b[38;5;249mr\u001b[0m\u001b[38;5;249mi\u001b[0m\u001b[38;5;249mn\u001b[0m\u001b[38;5;249mt\u001b[0m\u001b[38;5;249ml\u001b[0m\u001b[38;5;249mn\u001b[0m\u001b[38;5;249m!\u001b[0m\u001b[38;5;249m(\u001b[0m\u001b[38;5;249m\"\u001b[0m\u001b[38;5;249ms\u001b[0m\u001b[38;5;249m1\u001b[0m\u001b[38;5;249m:\u001b[0m\u001b[38;5;249m \u001b[0m\u001b[38;5;249m{\u001b[0m\u001b[38;5;100ms\u001b[0m\u001b[38;5;100m1\u001b[0m\u001b[38;5;249m}\u001b[0m\u001b[38;5;249m\"\u001b[0m\u001b[38;5;249m)\u001b[0m\u001b[38;5;249m;\u001b[0m",
      " \u001b[38;5;246m  ·\u001b[0m                    \u001b[38;5;100m─\u001b[0m\u001b[38;5;100m┬\u001b[0m  ",
      " \u001b[38;5;246m  ·\u001b[0m                     \u001b[38;5;100m╰\u001b[0m\u001b[38;5;100m─\u001b[0m\u001b[38;5;100m─\u001b[0m value borrowed here after move",
      "\u001b[38;5;246m───╯\u001b[0m"
     ]
    }
   ],
   "source": [
    "fn main() {\n",
    "    let s1: String = String::from(\"Hello!\");\n",
    "    let s2: String = s1;\n",
    "    println!(\"s2: {s2}\");\n",
    "    println!(\"s1: {s1}\");\n",
    "}"
   ]
  },
  {
   "cell_type": "markdown",
   "id": "05a42aed",
   "metadata": {},
   "source": [
    "### 소유권이 사라진 변수를 다시 사용할 수 없다."
   ]
  },
  {
   "cell_type": "code",
   "execution_count": 6,
   "id": "9d870c64",
   "metadata": {},
   "outputs": [
    {
     "name": "stdout",
     "output_type": "stream",
     "text": [
      "s2: Hello!\n"
     ]
    }
   ],
   "source": [
    "fn main() {\n",
    "    let s1: String = String::from(\"Hello!\");\n",
    "    let s2: String = s1;\n",
    "    println!(\"s2: {s2}\");\n",
    "    //println!(\"s1: {s1}\");\n",
    "}\n",
    "\n",
    "main();"
   ]
  },
  {
   "cell_type": "code",
   "execution_count": null,
   "id": "f810920b",
   "metadata": {},
   "outputs": [],
   "source": []
  },
  {
   "cell_type": "markdown",
   "id": "88193cf7",
   "metadata": {},
   "source": [
    "## 2-2 소유권을 새로 생성하기 "
   ]
  },
  {
   "cell_type": "markdown",
   "id": "537905ef",
   "metadata": {},
   "source": [
    "### 새로운 변수에 소유권을 지정하려면 복제가 필수이다. \n",
    "\n",
    "- 이때는 clone 메서드를 사용한다.  "
   ]
  },
  {
   "cell_type": "code",
   "execution_count": 7,
   "id": "7c8689c0",
   "metadata": {},
   "outputs": [
    {
     "name": "stdout",
     "output_type": "stream",
     "text": [
      "s2: Hello!\n",
      "s1: Hello!\n"
     ]
    }
   ],
   "source": [
    "fn main() {\n",
    "    let s1: String = String::from(\"Hello!\");\n",
    "    let s2: String = s1.clone();\n",
    "    println!(\"s2: {s2}\");\n",
    "    println!(\"s1: {s1}\");\n",
    "}\n",
    "\n",
    "main();"
   ]
  },
  {
   "cell_type": "code",
   "execution_count": null,
   "id": "daf444a9",
   "metadata": {},
   "outputs": [],
   "source": []
  },
  {
   "cell_type": "markdown",
   "id": "562b9056",
   "metadata": {},
   "source": [
    "## 2-3 변수에 소유권을 변경하도록 지정하기 "
   ]
  },
  {
   "cell_type": "markdown",
   "id": "c812e513",
   "metadata": {},
   "source": [
    "### 변수에 mut으로 가변변수를 지정하면 값에 대한 소유권이 변경\n",
    "\n",
    "-  가변 변수는 값을 변경할 수 있어서 새로운 값을 가지므로 소유권을 변경할 수 있다. "
   ]
  },
  {
   "cell_type": "code",
   "execution_count": 8,
   "id": "c71196ac",
   "metadata": {},
   "outputs": [
    {
     "name": "stdout",
     "output_type": "stream",
     "text": [
      "s1: Hello!\n",
      "s1: World!\n"
     ]
    }
   ],
   "source": [
    "fn main() {\n",
    "    let mut s1: String = String::from(\"Hello!\");\n",
    "    println!(\"s1: {s1}\");\n",
    "    s1 = String::from(\"World!\");\n",
    "    println!(\"s1: {s1}\");\n",
    "}\n",
    "\n",
    "main();"
   ]
  },
  {
   "cell_type": "code",
   "execution_count": null,
   "id": "350add9f",
   "metadata": {},
   "outputs": [],
   "source": []
  },
  {
   "cell_type": "code",
   "execution_count": null,
   "id": "eadd8b29",
   "metadata": {},
   "outputs": [],
   "source": []
  },
  {
   "cell_type": "code",
   "execution_count": null,
   "id": "426a3515",
   "metadata": {},
   "outputs": [],
   "source": []
  }
 ],
 "metadata": {
  "kernelspec": {
   "display_name": "Rust",
   "language": "rust",
   "name": "rust"
  },
  "language_info": {
   "codemirror_mode": "rust",
   "file_extension": ".rs",
   "mimetype": "text/rust",
   "name": "Rust",
   "pygment_lexer": "rust",
   "version": ""
  }
 },
 "nbformat": 4,
 "nbformat_minor": 5
}
